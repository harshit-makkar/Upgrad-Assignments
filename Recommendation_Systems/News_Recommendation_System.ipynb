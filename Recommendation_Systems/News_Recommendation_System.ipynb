{
 "cells": [
  {
   "cell_type": "markdown",
   "metadata": {},
   "source": [
    "<h1 style=\"text-align:center;\">News Article Recommendation System</h1>\n",
    "<h1 style=\"text-align:center;\">Content Based and Collaboration Based (From Scratch) </h1>"
   ]
  },
  {
   "cell_type": "code",
   "execution_count": 202,
   "metadata": {},
   "outputs": [
    {
     "name": "stderr",
     "output_type": "stream",
     "text": [
      "[nltk_data] Downloading package punkt to\n",
      "[nltk_data]     C:\\Users\\Dell\\AppData\\Roaming\\nltk_data...\n",
      "[nltk_data]   Package punkt is already up-to-date!\n"
     ]
    },
    {
     "data": {
      "text/plain": [
       "True"
      ]
     },
     "execution_count": 202,
     "metadata": {},
     "output_type": "execute_result"
    }
   ],
   "source": [
    "import numpy as np\n",
    "import pandas as pd\n",
    "import matplotlib.pyplot as plt\n",
    "import seaborn as sns\n",
    "from sklearn.model_selection import train_test_split\n",
    "import nltk\n",
    "nltk.download('punkt')"
   ]
  },
  {
   "cell_type": "code",
   "execution_count": 203,
   "metadata": {},
   "outputs": [
    {
     "name": "stderr",
     "output_type": "stream",
     "text": [
      "C:\\Users\\Dell\\anaconda3\\lib\\site-packages\\IPython\\core\\interactiveshell.py:3071: DtypeWarning: Columns (4) have mixed types.Specify dtype option on import or set low_memory=False.\n",
      "  has_raised = await self.run_ast_nodes(code_ast.body, cell_name,\n"
     ]
    }
   ],
   "source": [
    "## Importing the data set\n",
    "consumer_transactions = pd.read_csv('consumer_transanctions.csv')\n",
    "platform_content = pd.read_csv('platform_content.csv')"
   ]
  },
  {
   "cell_type": "code",
   "execution_count": 204,
   "metadata": {},
   "outputs": [
    {
     "data": {
      "text/html": [
       "<div>\n",
       "<style scoped>\n",
       "    .dataframe tbody tr th:only-of-type {\n",
       "        vertical-align: middle;\n",
       "    }\n",
       "\n",
       "    .dataframe tbody tr th {\n",
       "        vertical-align: top;\n",
       "    }\n",
       "\n",
       "    .dataframe thead th {\n",
       "        text-align: right;\n",
       "    }\n",
       "</style>\n",
       "<table border=\"1\" class=\"dataframe\">\n",
       "  <thead>\n",
       "    <tr style=\"text-align: right;\">\n",
       "      <th></th>\n",
       "      <th>event_timestamp</th>\n",
       "      <th>interaction_type</th>\n",
       "      <th>item_id</th>\n",
       "      <th>consumer_id</th>\n",
       "      <th>consumer_session_id</th>\n",
       "      <th>consumer_device_info</th>\n",
       "      <th>consumer_location</th>\n",
       "      <th>country</th>\n",
       "    </tr>\n",
       "  </thead>\n",
       "  <tbody>\n",
       "    <tr>\n",
       "      <th>0</th>\n",
       "      <td>1465413032</td>\n",
       "      <td>content_watched</td>\n",
       "      <td>-3499919498720038879</td>\n",
       "      <td>-8845298781299428018</td>\n",
       "      <td>1264196770339959068</td>\n",
       "      <td>NaN</td>\n",
       "      <td>NaN</td>\n",
       "      <td>NaN</td>\n",
       "    </tr>\n",
       "    <tr>\n",
       "      <th>1</th>\n",
       "      <td>1465412560</td>\n",
       "      <td>content_watched</td>\n",
       "      <td>8890720798209849691</td>\n",
       "      <td>-1032019229384696495</td>\n",
       "      <td>3621737643587579081</td>\n",
       "      <td>Mozilla/5.0 (Macintosh; Intel Mac OS X 10_11_2...</td>\n",
       "      <td>NY</td>\n",
       "      <td>US</td>\n",
       "    </tr>\n",
       "    <tr>\n",
       "      <th>2</th>\n",
       "      <td>1465416190</td>\n",
       "      <td>content_watched</td>\n",
       "      <td>310515487419366995</td>\n",
       "      <td>-1130272294246983140</td>\n",
       "      <td>2631864456530402479</td>\n",
       "      <td>NaN</td>\n",
       "      <td>NaN</td>\n",
       "      <td>NaN</td>\n",
       "    </tr>\n",
       "    <tr>\n",
       "      <th>3</th>\n",
       "      <td>1465413895</td>\n",
       "      <td>content_followed</td>\n",
       "      <td>310515487419366995</td>\n",
       "      <td>344280948527967603</td>\n",
       "      <td>-3167637573980064150</td>\n",
       "      <td>NaN</td>\n",
       "      <td>NaN</td>\n",
       "      <td>NaN</td>\n",
       "    </tr>\n",
       "    <tr>\n",
       "      <th>4</th>\n",
       "      <td>1465412290</td>\n",
       "      <td>content_watched</td>\n",
       "      <td>-7820640624231356730</td>\n",
       "      <td>-445337111692715325</td>\n",
       "      <td>561148 1178424124714</td>\n",
       "      <td>NaN</td>\n",
       "      <td>NaN</td>\n",
       "      <td>NaN</td>\n",
       "    </tr>\n",
       "  </tbody>\n",
       "</table>\n",
       "</div>"
      ],
      "text/plain": [
       "   event_timestamp  interaction_type              item_id  \\\n",
       "0       1465413032   content_watched -3499919498720038879   \n",
       "1       1465412560   content_watched  8890720798209849691   \n",
       "2       1465416190   content_watched   310515487419366995   \n",
       "3       1465413895  content_followed   310515487419366995   \n",
       "4       1465412290   content_watched -7820640624231356730   \n",
       "\n",
       "           consumer_id   consumer_session_id  \\\n",
       "0 -8845298781299428018   1264196770339959068   \n",
       "1 -1032019229384696495   3621737643587579081   \n",
       "2 -1130272294246983140   2631864456530402479   \n",
       "3   344280948527967603  -3167637573980064150   \n",
       "4  -445337111692715325  561148 1178424124714   \n",
       "\n",
       "                                consumer_device_info consumer_location country  \n",
       "0                                                NaN               NaN     NaN  \n",
       "1  Mozilla/5.0 (Macintosh; Intel Mac OS X 10_11_2...                NY      US  \n",
       "2                                                NaN               NaN     NaN  \n",
       "3                                                NaN               NaN     NaN  \n",
       "4                                                NaN               NaN     NaN  "
      ]
     },
     "execution_count": 204,
     "metadata": {},
     "output_type": "execute_result"
    }
   ],
   "source": [
    "consumer_transactions.head()"
   ]
  },
  {
   "cell_type": "code",
   "execution_count": 205,
   "metadata": {},
   "outputs": [
    {
     "data": {
      "text/plain": [
       "content_watched         61086\n",
       "content_liked            5745\n",
       "content_saved            2463\n",
       "content_commented_on     1611\n",
       "content_followed         1407\n",
       "Name: interaction_type, dtype: int64"
      ]
     },
     "execution_count": 205,
     "metadata": {},
     "output_type": "execute_result"
    }
   ],
   "source": [
    "## Interaction Types\n",
    "consumer_transactions['interaction_type'].value_counts()"
   ]
  },
  {
   "cell_type": "code",
   "execution_count": 206,
   "metadata": {},
   "outputs": [
    {
     "data": {
      "text/plain": [
       "<matplotlib.axes._subplots.AxesSubplot at 0x2ce850a9c10>"
      ]
     },
     "execution_count": 206,
     "metadata": {},
     "output_type": "execute_result"
    },
    {
     "data": {
      "image/png": "[encoded data removed]",
      "text/plain": [
       "<Figure size 720x360 with 1 Axes>"
      ]
     },
     "metadata": {},
     "output_type": "display_data"
    }
   ],
   "source": [
    "ax = plt.figure(figsize=(10,5))\n",
    "sns.barplot(x=consumer_transactions['interaction_type'].value_counts().index,y=consumer_transactions['interaction_type'].value_counts().values)"
   ]
  },
  {
   "cell_type": "markdown",
   "metadata": {},
   "source": [
    "### Content Watched, Liked, Saved, Commented on or Followed - all suggest an interest in the topic of the article. Hence all these interactions can be kept for the system to use while suggesting recommendations"
   ]
  },
  {
   "cell_type": "code",
   "execution_count": 207,
   "metadata": {},
   "outputs": [],
   "source": [
    "#platform_content.head()"
   ]
  },
  {
   "cell_type": "code",
   "execution_count": 208,
   "metadata": {},
   "outputs": [
    {
     "data": {
      "text/plain": [
       "event_timestamp         False\n",
       "interaction_type        False\n",
       "item_id                 False\n",
       "consumer_id             False\n",
       "consumer_session_id     False\n",
       "consumer_device_info     True\n",
       "consumer_location        True\n",
       "country                  True\n",
       "dtype: bool"
      ]
     },
     "execution_count": 208,
     "metadata": {},
     "output_type": "execute_result"
    }
   ],
   "source": [
    "consumer_transactions.isnull().any()"
   ]
  },
  {
   "cell_type": "code",
   "execution_count": 209,
   "metadata": {},
   "outputs": [
    {
     "data": {
      "text/plain": [
       "event_timestamp         False\n",
       "interaction_type        False\n",
       "item_id                 False\n",
       "producer_id             False\n",
       "producer_session_id     False\n",
       "producer_device_info     True\n",
       "producer_location        True\n",
       "producer_country         True\n",
       "item_type               False\n",
       "item_url                False\n",
       "title                   False\n",
       "text_description        False\n",
       "language                False\n",
       "dtype: bool"
      ]
     },
     "execution_count": 209,
     "metadata": {},
     "output_type": "execute_result"
    }
   ],
   "source": [
    "platform_content.isnull().any()"
   ]
  },
  {
   "cell_type": "markdown",
   "metadata": {},
   "source": [
    "### Creating a common dataset"
   ]
  },
  {
   "cell_type": "code",
   "execution_count": 210,
   "metadata": {},
   "outputs": [],
   "source": [
    "#platform_content['item_id'].nunique()"
   ]
  },
  {
   "cell_type": "code",
   "execution_count": 211,
   "metadata": {},
   "outputs": [],
   "source": [
    "content_info= platform_content.groupby('item_id').agg({\"title\":\"first\",\"text_description\":\"first\",\"language\":\"first\"})"
   ]
  },
  {
   "cell_type": "code",
   "execution_count": 212,
   "metadata": {},
   "outputs": [],
   "source": [
    "#len(content_info)"
   ]
  },
  {
   "cell_type": "code",
   "execution_count": 213,
   "metadata": {},
   "outputs": [],
   "source": [
    "user_item = consumer_transactions.groupby(['consumer_id','item_id'],as_index=False).agg({\"interaction_type\":'first',\"country\":\"first\"})"
   ]
  },
  {
   "cell_type": "code",
   "execution_count": 214,
   "metadata": {},
   "outputs": [],
   "source": [
    "#user_item.head()"
   ]
  },
  {
   "cell_type": "code",
   "execution_count": 215,
   "metadata": {},
   "outputs": [],
   "source": [
    "#len(user_item) #40710"
   ]
  },
  {
   "cell_type": "code",
   "execution_count": 216,
   "metadata": {},
   "outputs": [],
   "source": [
    "user_item = user_item.merge(right=content_info,on='item_id',how='left')"
   ]
  },
  {
   "cell_type": "code",
   "execution_count": 217,
   "metadata": {},
   "outputs": [],
   "source": [
    "#user_item.head()"
   ]
  },
  {
   "cell_type": "code",
   "execution_count": 218,
   "metadata": {},
   "outputs": [
    {
     "data": {
      "text/plain": [
       "consumer_id         False\n",
       "item_id             False\n",
       "interaction_type    False\n",
       "country              True\n",
       "title               False\n",
       "text_description    False\n",
       "language            False\n",
       "dtype: bool"
      ]
     },
     "execution_count": 218,
     "metadata": {},
     "output_type": "execute_result"
    }
   ],
   "source": [
    "user_item.isnull().any()"
   ]
  },
  {
   "cell_type": "markdown",
   "metadata": {},
   "source": [
    "### Types of languages"
   ]
  },
  {
   "cell_type": "code",
   "execution_count": 219,
   "metadata": {},
   "outputs": [
    {
     "data": {
      "text/plain": [
       "en    26206\n",
       "pt    14449\n",
       "la       26\n",
       "ja       23\n",
       "es        6\n",
       "Name: language, dtype: int64"
      ]
     },
     "execution_count": 219,
     "metadata": {},
     "output_type": "execute_result"
    }
   ],
   "source": [
    "user_item.language.value_counts()"
   ]
  },
  {
   "cell_type": "code",
   "execution_count": 220,
   "metadata": {},
   "outputs": [
    {
     "data": {
      "text/plain": [
       "<matplotlib.axes._subplots.AxesSubplot at 0x2ce850ed2b0>"
      ]
     },
     "execution_count": 220,
     "metadata": {},
     "output_type": "execute_result"
    },
    {
     "data": {
      "image/png": "[encoded data removed]",
      "text/plain": [
       "<Figure size 432x288 with 1 Axes>"
      ]
     },
     "metadata": {},
     "output_type": "display_data"
    }
   ],
   "source": [
    "sns.countplot(x=user_item.language)"
   ]
  },
  {
   "cell_type": "code",
   "execution_count": 221,
   "metadata": {},
   "outputs": [],
   "source": [
    "# keeping articles of language English and Portugese only as the rest are just 0.25% of the whole dataset\n",
    "user_item = user_item[user_item['language'].isin(['en','pt'])]"
   ]
  },
  {
   "cell_type": "markdown",
   "metadata": {},
   "source": [
    "### Considering only those articles which were interacted with atleast 5 times"
   ]
  },
  {
   "cell_type": "code",
   "execution_count": 222,
   "metadata": {},
   "outputs": [],
   "source": [
    "user_item['counter'] = 1"
   ]
  },
  {
   "cell_type": "code",
   "execution_count": 223,
   "metadata": {},
   "outputs": [],
   "source": [
    "user_item_copy = user_item.copy(deep=True)"
   ]
  },
  {
   "cell_type": "code",
   "execution_count": 224,
   "metadata": {},
   "outputs": [],
   "source": [
    "item_counter = user_item_copy.groupby(['item_id']).agg({\"counter\":sum}).reset_index()"
   ]
  },
  {
   "cell_type": "code",
   "execution_count": 225,
   "metadata": {},
   "outputs": [],
   "source": [
    "items_consumed_atleast_five_users = list(item_counter[item_counter['counter']>=5]['item_id'].unique())"
   ]
  },
  {
   "cell_type": "code",
   "execution_count": 226,
   "metadata": {},
   "outputs": [],
   "source": [
    "user_item = user_item[user_item['item_id'].isin(items_consumed_atleast_five_users)]"
   ]
  },
  {
   "cell_type": "code",
   "execution_count": 227,
   "metadata": {},
   "outputs": [],
   "source": [
    "user_item.drop('counter',inplace=True,axis=1)"
   ]
  },
  {
   "cell_type": "markdown",
   "metadata": {},
   "source": [
    "### Stratified Trait Test Split of Data"
   ]
  },
  {
   "cell_type": "code",
   "execution_count": 228,
   "metadata": {},
   "outputs": [],
   "source": [
    "user_item_train, user_item_test  = train_test_split(user_item,train_size=0.75, random_state=42,stratify=user_item['language'])"
   ]
  },
  {
   "cell_type": "code",
   "execution_count": 229,
   "metadata": {},
   "outputs": [],
   "source": [
    "user_item_verify = user_item.copy(deep=True)\n",
    "user_item_verify_train = user_item_train.copy(deep=True)\n",
    "user_item_verify_test = user_item_test.copy(deep=True)"
   ]
  },
  {
   "cell_type": "code",
   "execution_count": 230,
   "metadata": {},
   "outputs": [
    {
     "name": "stderr",
     "output_type": "stream",
     "text": [
      "C:\\Users\\Dell\\anaconda3\\lib\\site-packages\\pandas\\core\\frame.py:3990: SettingWithCopyWarning: \n",
      "A value is trying to be set on a copy of a slice from a DataFrame\n",
      "\n",
      "See the caveats in the documentation: https://pandas.pydata.org/pandas-docs/stable/user_guide/indexing.html#returning-a-view-versus-a-copy\n",
      "  return super().drop(\n"
     ]
    }
   ],
   "source": [
    "# country will not have much weightage in the article to recommend as would the content of the article\n",
    "# language too will not be explicitly needed. The content of the article read will itself help in identifying the language\n",
    "# title too is not needed seperately as the text description will entail the title in its content\n",
    "# interaction_type are all positive and hence they need to be seperately marked\n",
    "user_item.drop(['country','title','language','interaction_type'],inplace=True,axis=1)\n",
    "user_item_train.drop(['country','title','language','interaction_type'],inplace=True,axis=1)\n",
    "user_item_test.drop(['country','title','language','interaction_type'],inplace=True,axis=1)"
   ]
  },
  {
   "cell_type": "code",
   "execution_count": 231,
   "metadata": {},
   "outputs": [
    {
     "data": {
      "text/plain": [
       "28889"
      ]
     },
     "execution_count": 231,
     "metadata": {},
     "output_type": "execute_result"
    }
   ],
   "source": [
    "len(user_item_train)"
   ]
  },
  {
   "cell_type": "code",
   "execution_count": 232,
   "metadata": {},
   "outputs": [
    {
     "data": {
      "text/plain": [
       "9630"
      ]
     },
     "execution_count": 232,
     "metadata": {},
     "output_type": "execute_result"
    }
   ],
   "source": [
    "len(user_item_test)"
   ]
  },
  {
   "cell_type": "code",
   "execution_count": 233,
   "metadata": {},
   "outputs": [],
   "source": [
    "user_item_train.reset_index(inplace=True,drop=True)\n",
    "user_item_test.reset_index(inplace=True,drop=True)"
   ]
  },
  {
   "cell_type": "markdown",
   "metadata": {},
   "source": [
    "## Content Based Recommendation - "
   ]
  },
  {
   "cell_type": "markdown",
   "metadata": {},
   "source": [
    "We will be using the <b>entire dataset to make a content based recommendation system.</b><br><br>\n",
    "Splitting the data into train and test does not make sense while making a content based model.\n",
    "We want all the articles to be in the similarity matrix for them to be in the recommendation list.<br><br>\n",
    "<b>If we will be excluding some articles while making the similarity matrix, they will never be included in the \n",
    "recommendation list</b>"
   ]
  },
  {
   "cell_type": "code",
   "execution_count": 234,
   "metadata": {},
   "outputs": [],
   "source": [
    "item_df = user_item[['item_id','text_description']].drop_duplicates()"
   ]
  },
  {
   "cell_type": "code",
   "execution_count": 235,
   "metadata": {},
   "outputs": [],
   "source": [
    "item_df.reset_index(inplace=True)"
   ]
  },
  {
   "cell_type": "code",
   "execution_count": 236,
   "metadata": {},
   "outputs": [],
   "source": [
    "item_df.drop('index',inplace=True,axis=1)"
   ]
  },
  {
   "cell_type": "code",
   "execution_count": 237,
   "metadata": {},
   "outputs": [],
   "source": [
    "keywords = item_df['text_description'].tolist()"
   ]
  },
  {
   "cell_type": "code",
   "execution_count": 238,
   "metadata": {},
   "outputs": [
    {
     "data": {
      "text/plain": [
       "2105"
      ]
     },
     "execution_count": 238,
     "metadata": {},
     "output_type": "execute_result"
    }
   ],
   "source": [
    "len(keywords)"
   ]
  },
  {
   "cell_type": "markdown",
   "metadata": {},
   "source": [
    "### Removing Stop words of both languages - English and Portugal"
   ]
  },
  {
   "cell_type": "code",
   "execution_count": 239,
   "metadata": {},
   "outputs": [],
   "source": [
    "from nltk.tokenize import RegexpTokenizer\n",
    "\n",
    "tokenizer = RegexpTokenizer(r'\\w+')\n",
    "keywords = [tokenizer.tokenize(keyword.lower()) for keyword in keywords]"
   ]
  },
  {
   "cell_type": "code",
   "execution_count": 240,
   "metadata": {},
   "outputs": [
    {
     "name": "stderr",
     "output_type": "stream",
     "text": [
      "[nltk_data] Downloading package stopwords to\n",
      "[nltk_data]     C:\\Users\\Dell\\AppData\\Roaming\\nltk_data...\n",
      "[nltk_data]   Package stopwords is already up-to-date!\n"
     ]
    },
    {
     "data": {
      "text/plain": [
       "True"
      ]
     },
     "execution_count": 240,
     "metadata": {},
     "output_type": "execute_result"
    }
   ],
   "source": [
    "from nltk.corpus import stopwords\n",
    "nltk.download('stopwords')"
   ]
  },
  {
   "cell_type": "code",
   "execution_count": 241,
   "metadata": {},
   "outputs": [],
   "source": [
    "stop_words_en = stopwords.words('english')\n",
    "stop_words_pte = stopwords.words('portuguese')"
   ]
  },
  {
   "cell_type": "code",
   "execution_count": 242,
   "metadata": {},
   "outputs": [],
   "source": [
    "stop_words = set(stop_words_en+stop_words_pte)"
   ]
  },
  {
   "cell_type": "code",
   "execution_count": 243,
   "metadata": {},
   "outputs": [],
   "source": [
    "for words in keywords:\n",
    "    for word in words:\n",
    "        if (word in stop_words or word.isnumeric()==True):\n",
    "            words.remove(word)"
   ]
  },
  {
   "cell_type": "code",
   "execution_count": 244,
   "metadata": {},
   "outputs": [
    {
     "data": {
      "image/png": "[encoded data removed]",
      "text/plain": [
       "<Figure size 432x288 with 1 Axes>"
      ]
     },
     "metadata": {},
     "output_type": "display_data"
    }
   ],
   "source": [
    "# analysing the number of keywords in the text\n",
    "number_of_keywords = []\n",
    "for words in keywords:\n",
    "    n_keywords = len(words)\n",
    "    number_of_keywords.append(n_keywords)\n",
    "\n",
    "plt.hist(number_of_keywords,bins=10,)\n",
    "plt.xlabel('distribution of number of words in movies keywords column')\n",
    "plt.ylabel('number of articles')\n",
    "plt.show()"
   ]
  },
  {
   "cell_type": "markdown",
   "metadata": {},
   "source": [
    "### Calculating TFIDF using cosine similarity"
   ]
  },
  {
   "cell_type": "code",
   "execution_count": 245,
   "metadata": {},
   "outputs": [],
   "source": [
    "import gensim"
   ]
  },
  {
   "cell_type": "code",
   "execution_count": 246,
   "metadata": {},
   "outputs": [],
   "source": [
    "from gensim.corpora.dictionary import Dictionary\n",
    "dictionary = Dictionary(keywords) # create a dictionary of words from our keywords"
   ]
  },
  {
   "cell_type": "code",
   "execution_count": 247,
   "metadata": {},
   "outputs": [
    {
     "data": {
      "text/plain": [
       "59033"
      ]
     },
     "execution_count": 247,
     "metadata": {},
     "output_type": "execute_result"
    }
   ],
   "source": [
    "len(dictionary) #71442"
   ]
  },
  {
   "cell_type": "code",
   "execution_count": 248,
   "metadata": {},
   "outputs": [],
   "source": [
    "corpus = [dictionary.doc2bow(doc) for doc in keywords]"
   ]
  },
  {
   "cell_type": "code",
   "execution_count": 249,
   "metadata": {},
   "outputs": [],
   "source": [
    "from gensim.models.tfidfmodel import TfidfModel"
   ]
  },
  {
   "cell_type": "code",
   "execution_count": 250,
   "metadata": {},
   "outputs": [],
   "source": [
    "tfidf = TfidfModel(corpus)"
   ]
  },
  {
   "cell_type": "code",
   "execution_count": 251,
   "metadata": {},
   "outputs": [],
   "source": [
    "from gensim.similarities import MatrixSimilarity"
   ]
  },
  {
   "cell_type": "code",
   "execution_count": 252,
   "metadata": {},
   "outputs": [
    {
     "name": "stdout",
     "output_type": "stream",
     "text": [
      "MatrixSimilarity<2105 docs, 59033 features>\n"
     ]
    }
   ],
   "source": [
    "sims = MatrixSimilarity(tfidf[corpus], num_features=len(dictionary))\n",
    "print(sims)"
   ]
  },
  {
   "cell_type": "code",
   "execution_count": 253,
   "metadata": {},
   "outputs": [],
   "source": [
    "#item_df.head()"
   ]
  },
  {
   "cell_type": "code",
   "execution_count": 254,
   "metadata": {},
   "outputs": [
    {
     "data": {
      "text/html": [
       "<div>\n",
       "<style scoped>\n",
       "    .dataframe tbody tr th:only-of-type {\n",
       "        vertical-align: middle;\n",
       "    }\n",
       "\n",
       "    .dataframe tbody tr th {\n",
       "        vertical-align: top;\n",
       "    }\n",
       "\n",
       "    .dataframe thead th {\n",
       "        text-align: right;\n",
       "    }\n",
       "</style>\n",
       "<table border=\"1\" class=\"dataframe\">\n",
       "  <thead>\n",
       "    <tr style=\"text-align: right;\">\n",
       "      <th></th>\n",
       "      <th>item_id</th>\n",
       "      <th>title</th>\n",
       "    </tr>\n",
       "  </thead>\n",
       "  <tbody>\n",
       "    <tr>\n",
       "      <th>10</th>\n",
       "      <td>-9157338616628196758</td>\n",
       "      <td>Situação financeira ruim de varejistas pressio...</td>\n",
       "    </tr>\n",
       "    <tr>\n",
       "      <th>16</th>\n",
       "      <td>-5917314377186856799</td>\n",
       "      <td>Artigos e Palestras - Programa Agricultura de ...</td>\n",
       "    </tr>\n",
       "    <tr>\n",
       "      <th>17</th>\n",
       "      <td>6157037646878010131</td>\n",
       "      <td>Rede Agricultura de Precisão II</td>\n",
       "    </tr>\n",
       "    <tr>\n",
       "      <th>21</th>\n",
       "      <td>-1672166631728511207</td>\n",
       "      <td>O potencial do bitcoin na América Latina</td>\n",
       "    </tr>\n",
       "    <tr>\n",
       "      <th>23</th>\n",
       "      <td>5714314286511882372</td>\n",
       "      <td>Como Startups e Grandes Empresas podem colabor...</td>\n",
       "    </tr>\n",
       "    <tr>\n",
       "      <th>...</th>\n",
       "      <td>...</td>\n",
       "      <td>...</td>\n",
       "    </tr>\n",
       "    <tr>\n",
       "      <th>3107</th>\n",
       "      <td>-7264217791213422584</td>\n",
       "      <td>Qual é o valor da área de T&amp;D na sua empresa?</td>\n",
       "    </tr>\n",
       "    <tr>\n",
       "      <th>3108</th>\n",
       "      <td>-2402288292108892893</td>\n",
       "      <td>Como testar exceções em Java com o JUnit - Cod...</td>\n",
       "    </tr>\n",
       "    <tr>\n",
       "      <th>3109</th>\n",
       "      <td>-624901815223005993</td>\n",
       "      <td>A.I. Duet, crie melodias usando o aprendizado ...</td>\n",
       "    </tr>\n",
       "    <tr>\n",
       "      <th>3111</th>\n",
       "      <td>-8591127493017117985</td>\n",
       "      <td>IBM e Visa transformam automóveis, eletrodomés...</td>\n",
       "    </tr>\n",
       "    <tr>\n",
       "      <th>3117</th>\n",
       "      <td>9213260650272029784</td>\n",
       "      <td>Conheça a Liga IoT, plataforma de inovação abe...</td>\n",
       "    </tr>\n",
       "  </tbody>\n",
       "</table>\n",
       "<p>850 rows × 2 columns</p>\n",
       "</div>"
      ],
      "text/plain": [
       "                  item_id                                              title\n",
       "10   -9157338616628196758  Situação financeira ruim de varejistas pressio...\n",
       "16   -5917314377186856799  Artigos e Palestras - Programa Agricultura de ...\n",
       "17    6157037646878010131                    Rede Agricultura de Precisão II\n",
       "21   -1672166631728511207           O potencial do bitcoin na América Latina\n",
       "23    5714314286511882372  Como Startups e Grandes Empresas podem colabor...\n",
       "...                   ...                                                ...\n",
       "3107 -7264217791213422584      Qual é o valor da área de T&D na sua empresa?\n",
       "3108 -2402288292108892893  Como testar exceções em Java com o JUnit - Cod...\n",
       "3109  -624901815223005993  A.I. Duet, crie melodias usando o aprendizado ...\n",
       "3111 -8591127493017117985  IBM e Visa transformam automóveis, eletrodomés...\n",
       "3117  9213260650272029784  Conheça a Liga IoT, plataforma de inovação abe...\n",
       "\n",
       "[850 rows x 2 columns]"
      ]
     },
     "execution_count": 254,
     "metadata": {},
     "output_type": "execute_result"
    }
   ],
   "source": [
    "platform_content[platform_content['language']=='pt'][['item_id','title']]"
   ]
  },
  {
   "cell_type": "code",
   "execution_count": 255,
   "metadata": {},
   "outputs": [],
   "source": [
    "## function to remove stop words and tokenise the text\n",
    "def process_sentence(description):\n",
    "    tokenised = tokenizer.tokenize(description.lower())\n",
    "    for word in tokenised:\n",
    "        if (word in stop_words or word.isnumeric()==True):\n",
    "            tokenised.remove(word)\n",
    "            \n",
    "    return tokenised"
   ]
  },
  {
   "cell_type": "code",
   "execution_count": 256,
   "metadata": {},
   "outputs": [],
   "source": [
    "## Function to recommend articles based on a given article\n",
    "def news_recommendation_using_item_id(news_id, number_of_recs=5):\n",
    "    news = item_df.loc[item_df.item_id==news_id] # get the news article row\n",
    "    keywords = process_sentence(news['text_description'].values[0]) #get the keywords as a Series\n",
    "    \n",
    "    query_doc = keywords # set the query_doc to the list of keywords\n",
    "    \n",
    "    query_doc_bow = dictionary.doc2bow(query_doc) # get a bag of words from the query_doc\n",
    "    query_doc_tfidf = tfidf[query_doc_bow] #convert the regular bag of words model to a tf-idf model where we have tuples\n",
    "    # of the article ID and it's tf-idf value for the news article\n",
    "\n",
    "    similarity_array = sims[query_doc_tfidf] # get the array of similarity values between the given article and \n",
    "    # every other article. \n",
    "    #So the length is the number of articles we have. To do this, we pass our list of tf-idf tuples to sims.\n",
    "\n",
    "    similarity_series = pd.Series(similarity_array.tolist(), index=item_df.item_id.values) #Convert to a Series\n",
    "    top_articles = similarity_series.sort_values(ascending=False)[1:number_of_recs+1] \n",
    "    # get the top matching results, i.e. most similar articles; \n",
    "    # start from index 1 because every article is the most similar to itself\n",
    "\n",
    "    #print the words with the highest tf-idf values for the provided article:(title, score)\n",
    "    sorted_tfidf_weights = sorted(tfidf[corpus[news.index.values.tolist()[0]]], key=lambda w: w[1], reverse=True)\n",
    "    print('The top 5 words associated with this news article by tf-idf are: ')\n",
    "    for term_id, weight in sorted_tfidf_weights[:5]:\n",
    "        print(\" '%s' with a tf-idf score of %.3f\" %(dictionary.get(term_id), weight))\n",
    "    \n",
    "    # Print the top matching articles\n",
    "    print(\"Our top %s most similar news articles for the news article '%s' are:\" %(number_of_recs, platform_content[platform_content['item_id']==news_id]['title'].values[0]))\n",
    "    for idx, (article,score) in enumerate(zip(top_articles.index, top_articles)):\n",
    "        print(\"%d '%s' with a similarity score of %.3f\" %(idx+1, platform_content[platform_content['item_id']==article]['title'].values[0], score))"
   ]
  },
  {
   "cell_type": "code",
   "execution_count": 257,
   "metadata": {},
   "outputs": [
    {
     "name": "stdout",
     "output_type": "stream",
     "text": [
      "The top 5 words associated with this news article by tf-idf are: \n",
      " 'agricultura' with a tf-idf score of 0.538\n",
      " 'embrapa' with a tf-idf score of 0.373\n",
      " 'precisão' with a tf-idf score of 0.356\n",
      " 'produção' with a tf-idf score of 0.124\n",
      " 'agrícola' with a tf-idf score of 0.112\n",
      "Our top 5 most similar news articles for the news article 'Rede Agricultura de Precisão II' are:\n",
      "1 'Artigos e Palestras - Programa Agricultura de Precisão do SENAR' with a similarity score of 0.500\n",
      "2 'Agronegócio entra na era da agricultura digital | Economia, Notícias | Tribuna PR - Paraná Online' with a similarity score of 0.362\n",
      "3 'Especial Agrishow: Soluções de agricultura de precisão elevam produtividade e aumentam a qualidade do plantio' with a similarity score of 0.360\n",
      "4 'Heroína, nazistas e agente laranja: por dentro da fusão do ano' with a similarity score of 0.155\n",
      "5 'Hackathon - Portal Embrapa' with a similarity score of 0.150\n"
     ]
    }
   ],
   "source": [
    "news_recommendation_using_item_id(6157037646878010131)"
   ]
  },
  {
   "cell_type": "code",
   "execution_count": 258,
   "metadata": {},
   "outputs": [],
   "source": [
    "# Function to recommend articles using a user\n",
    "def news_recommendation_using_user_id(user_id):\n",
    "    \n",
    "    article_dictionary = {}\n",
    "    item_ids = user_item[user_item['consumer_id']==user_id]['item_id'].to_list()\n",
    "    \n",
    "    for item in item_ids:\n",
    "        news = item_df.loc[item_df.item_id==item] # get the news article row\n",
    "        keywords = process_sentence(news['text_description'].values[0]) # get the keywords as a Series \n",
    "        \n",
    "        query_doc = keywords #set the query_doc to the list of keywords\n",
    "    \n",
    "        query_doc_bow = dictionary.doc2bow(query_doc) # get a bag of words from the query_doc\n",
    "        query_doc_tfidf = tfidf[query_doc_bow] #convert the regular bag of words model to a tf-idf model where we have tuples\n",
    "        # of the article ID and it's tf-idf value for the movie\n",
    "\n",
    "        similarity_array = sims[query_doc_tfidf] # get the array of similarity values between our article and every other article. \n",
    "        #So the length is the number of articles we have. To do this, we pass our list of tf-idf tuples to sims.\n",
    "\n",
    "        similarity_series = pd.Series(similarity_array.tolist(), index=item_df.item_id.values) #Convert to a Series\n",
    "        top_hits = similarity_series.sort_values(ascending=False)[1:11]\n",
    "        \n",
    "        \n",
    "        for (news_id,score) in zip(top_hits.index,top_hits):\n",
    "            if news_id in article_dictionary:\n",
    "                article_dictionary[news_id]+=score\n",
    "            else:\n",
    "                article_dictionary[news_id] = score\n",
    "        \n",
    "    sorted_items = sorted(article_dictionary.items(), key = \n",
    "             lambda kv:(kv[1], kv[0]),reverse=True)\n",
    "    \n",
    "    top_10_recommendations = []\n",
    "\n",
    "        \n",
    "    for key,value in sorted_items:\n",
    "        if key not in item_ids and len(top_10_recommendations)<10:\n",
    "            top_10_recommendations.append((key,value))\n",
    "        \n",
    "    output = []\n",
    "        \n",
    "    # Print the top matching articles\n",
    "    for item_id,score in top_10_recommendations:\n",
    "        \n",
    "        output.append(platform_content[platform_content['item_id']==item_id]['title'].values[0])\n",
    "    \n",
    "    return output"
   ]
  },
  {
   "cell_type": "code",
   "execution_count": 259,
   "metadata": {},
   "outputs": [
    {
     "data": {
      "text/plain": [
       "['How to Improve 8 Major Problem Areas for Japanese Learners of All Levels',\n",
       " 'Código Google: Introdução da próxima geração do Google Tag Manager e do Tag Manager 360 para Mobile Apps',\n",
       " 'Top 10 GCP sessions from Google I/O 2016',\n",
       " 'Google I/O 2016: Develop, Grow & Earn',\n",
       " \"Google's Firebase Team Picks Up Twitter's Fabric\",\n",
       " 'Cookbook',\n",
       " 'Android Studio 2.0 | Android Developers Blog',\n",
       " 'Android Studio 2.2',\n",
       " 'One weird trick that will change the way you code forever: JavaScript TDD',\n",
       " 'Clean Coder Blog']"
      ]
     },
     "execution_count": 259,
     "metadata": {},
     "output_type": "execute_result"
    }
   ],
   "source": [
    "## Articles that were recommended\n",
    "news_recommendation_using_user_id(-9212075797126931087)"
   ]
  },
  {
   "cell_type": "code",
   "execution_count": 260,
   "metadata": {},
   "outputs": [
    {
     "data": {
      "text/plain": [
       "array(['Firebase Test Lab for Android',\n",
       "       'Learn Hiragana: The Ultimate Guide',\n",
       "       'Fresco, sim! - Android Dev BR', 'Japanese for dummies',\n",
       "       'Firebase and Google Cloud: better together'], dtype=object)"
      ]
     },
     "execution_count": 260,
     "metadata": {},
     "output_type": "execute_result"
    }
   ],
   "source": [
    "## Articles that the user had read\n",
    "user_item_verify[user_item_verify['consumer_id']==-9212075797126931087]['title'].unique()"
   ]
  },
  {
   "cell_type": "markdown",
   "metadata": {},
   "source": [
    "### Evaluating Content Based Recommendation System using Hit Rate!"
   ]
  },
  {
   "cell_type": "code",
   "execution_count": 261,
   "metadata": {},
   "outputs": [],
   "source": [
    "## Unique user-ids\n",
    "users = list(user_item['consumer_id'].unique())"
   ]
  },
  {
   "cell_type": "code",
   "execution_count": 262,
   "metadata": {},
   "outputs": [],
   "source": [
    "## importing pickle file to store evaluation metrics\n",
    "import pickle"
   ]
  },
  {
   "cell_type": "markdown",
   "metadata": {},
   "source": [
    "### The below code for calculating <u>Hit Rate</u> was run on nimblebox using a GPU and the results were stored in a pickle file"
   ]
  },
  {
   "cell_type": "code",
   "execution_count": 263,
   "metadata": {},
   "outputs": [],
   "source": [
    "## This was run on nimblebox using a GPU and the results were stored in a pickle file\n",
    "\n",
    "# for user_idx,user_id in enumerate(users):\n",
    "    \n",
    "#     item_ids = set(user_item[user_item['consumer_id']==user_id]['item_id'].to_list())\n",
    "    \n",
    "#     if len(item_ids)>50:\n",
    "        \n",
    "#         item_ids = set(list(item_ids)[:50])\n",
    "    \n",
    "    \n",
    "#     hit_rate = 0\n",
    "    \n",
    "#     total_interactions = len(item_ids)\n",
    "    \n",
    "#     for item in item_ids:\n",
    "        \n",
    "#         article_dictionary = {}\n",
    "        \n",
    "#         hit_rate_item = []\n",
    "            \n",
    "#         hit_rate_item.append(item)\n",
    "        \n",
    "#         items_to_go_into_recommendation = item_ids - set(hit_rate_item)\n",
    "        \n",
    "#         for item_used_for_recommendation in items_to_go_into_recommendation:\n",
    "            \n",
    "#             news = item_df.loc[item_df.item_id==item_used_for_recommendation] # get the movie row\n",
    "#             keywords = process_sentence(news['text_description'].values[0]) \n",
    "\n",
    "#             query_doc = keywords #set the query_doc to the list of keywords\n",
    "    \n",
    "#             query_doc_bow = dictionary.doc2bow(query_doc) # get a bag of words from the query_doc\n",
    "#             query_doc_tfidf = tfidf[query_doc_bow] \n",
    "\n",
    "#             similarity_array = sims[query_doc_tfidf] \n",
    "\n",
    "#             similarity_series = pd.Series(similarity_array.tolist(), index=item_df.item_id.values) \n",
    "#             top_hits = similarity_series.sort_values(ascending=False)[1:11]\n",
    "            \n",
    "            \n",
    "#             for (news_id,score) in zip(top_hits.index,top_hits):\n",
    "#                 if news_id in article_dictionary:\n",
    "#                     article_dictionary[news_id]+=score\n",
    "#                 else:\n",
    "#                     article_dictionary[news_id] = score\n",
    "        \n",
    "#         sorted_items = sorted(article_dictionary.items(), key = lambda kv:(kv[1], kv[0]),reverse=True)\n",
    "    \n",
    "#         top_10_recommendations = []\n",
    "\n",
    "        \n",
    "#         for key,value in sorted_items:\n",
    "#             if key not in items_to_go_into_recommendation and len(top_10_recommendations)<10:\n",
    "#                 top_10_recommendations.append((key,value))\n",
    "        \n",
    "#         output = []\n",
    "        \n",
    "#     # Print the top matching movies\n",
    "#         for idx,(item_id,score) in enumerate(top_10_recommendations):\n",
    "#         #print(\"%d '%s' with a score of %.3f\" %(idx+1, platform_content[platform_content['item_id']==item_id]['title'].values[0], score))\n",
    "#             output.append(item_id)\n",
    "        \n",
    "#         #print(\"output-\",output)        \n",
    "              \n",
    "#         if item in output:\n",
    "            \n",
    "#             hit_rate+=1\n",
    "    \n",
    "    \n",
    "#     if hit_rate>0:\n",
    "#         print(\"{} hit rate for {} interactions\".format(hit_rate,total_interactions))\n",
    "    \n",
    "#     print(\"=============== {} out of {} users evaluated=====================\".format(user_idx,len(users)))\n",
    "    \n",
    "#     eval_dict_hit_rate[user_id] = hit_rate\n",
    "    \n",
    "#     eval_dict_recall[user_id] = float(hit_rate/total_interactions)\n",
    "    \n",
    "    \n",
    "#     if user_idx%12 == 0:\n",
    "#         print(\"=============dumping into Pickle==========================\")\n",
    "#         with open('hit_rate.pickle', 'wb') as handle:\n",
    "#             pickle.dump(eval_dict_hit_rate, handle, protocol=pickle.HIGHEST_PROTOCOL)\n",
    "            \n",
    "#         with open('recall.pickle', 'wb') as handle:\n",
    "#             pickle.dump(eval_dict_recall, handle, protocol=pickle.HIGHEST_PROTOCOL)\n",
    "    "
   ]
  },
  {
   "cell_type": "code",
   "execution_count": 264,
   "metadata": {},
   "outputs": [],
   "source": [
    "## Hit rate and Recall Values\n",
    "with open('hit_rate.pickle', 'rb') as handle:\n",
    "    hit_rate = pickle.load(handle)\n",
    "    \n",
    "with open('recall.pickle', 'rb') as handle:\n",
    "    recall = pickle.load(handle)"
   ]
  },
  {
   "cell_type": "markdown",
   "metadata": {},
   "source": [
    "## How is Hit Rate Defined - \n",
    "\n",
    "Let say a <b>user had interacted with 5 articles</b>. So the total number of interactions = 5.\n",
    "\n",
    "To calculate hit rate, we take <b>one article at a time</b> and use the recommendation system to <b>get the 10 recommended articles using the rest 4 articles</b>. We then see <b>if the article taken out is present in the list of 10 recommendations. If yes, increase the hit count by 1. </b>\n",
    "\n",
    "hit rate is an absolute number.\n",
    "\n",
    "<b>Recall = hit rate/total interactions which is a relative number lying between 0 and 1.</b>"
   ]
  },
  {
   "cell_type": "code",
   "execution_count": 265,
   "metadata": {},
   "outputs": [],
   "source": [
    "user_id_list = []\n",
    "hit_rate_list = []\n",
    "recall_list = []"
   ]
  },
  {
   "cell_type": "code",
   "execution_count": 266,
   "metadata": {},
   "outputs": [],
   "source": [
    "for key,value in hit_rate.items():\n",
    "    user_id_list.append(key)\n",
    "    hit_rate_list.append(value)"
   ]
  },
  {
   "cell_type": "code",
   "execution_count": 267,
   "metadata": {},
   "outputs": [],
   "source": [
    "for _,value in recall.items():\n",
    "    recall_list.append(value)"
   ]
  },
  {
   "cell_type": "code",
   "execution_count": 268,
   "metadata": {},
   "outputs": [],
   "source": [
    "content_based_eval = pd.DataFrame({\"user_id\":user_id_list,\"hit_rate\":hit_rate_list,\"recall\":recall_list})"
   ]
  },
  {
   "cell_type": "code",
   "execution_count": 269,
   "metadata": {},
   "outputs": [
    {
     "data": {
      "text/html": [
       "<div>\n",
       "<style scoped>\n",
       "    .dataframe tbody tr th:only-of-type {\n",
       "        vertical-align: middle;\n",
       "    }\n",
       "\n",
       "    .dataframe tbody tr th {\n",
       "        vertical-align: top;\n",
       "    }\n",
       "\n",
       "    .dataframe thead th {\n",
       "        text-align: right;\n",
       "    }\n",
       "</style>\n",
       "<table border=\"1\" class=\"dataframe\">\n",
       "  <thead>\n",
       "    <tr style=\"text-align: right;\">\n",
       "      <th></th>\n",
       "      <th>user_id</th>\n",
       "      <th>hit_rate</th>\n",
       "      <th>recall</th>\n",
       "    </tr>\n",
       "  </thead>\n",
       "  <tbody>\n",
       "    <tr>\n",
       "      <th>0</th>\n",
       "      <td>-9223121837663643404</td>\n",
       "      <td>0</td>\n",
       "      <td>0.0</td>\n",
       "    </tr>\n",
       "    <tr>\n",
       "      <th>1</th>\n",
       "      <td>-9212075797126931087</td>\n",
       "      <td>2</td>\n",
       "      <td>0.4</td>\n",
       "    </tr>\n",
       "    <tr>\n",
       "      <th>2</th>\n",
       "      <td>-9207251133131336884</td>\n",
       "      <td>0</td>\n",
       "      <td>0.0</td>\n",
       "    </tr>\n",
       "    <tr>\n",
       "      <th>3</th>\n",
       "      <td>-9199575329909162940</td>\n",
       "      <td>0</td>\n",
       "      <td>0.0</td>\n",
       "    </tr>\n",
       "    <tr>\n",
       "      <th>4</th>\n",
       "      <td>-9196668942822132778</td>\n",
       "      <td>0</td>\n",
       "      <td>0.0</td>\n",
       "    </tr>\n",
       "  </tbody>\n",
       "</table>\n",
       "</div>"
      ],
      "text/plain": [
       "               user_id  hit_rate  recall\n",
       "0 -9223121837663643404         0     0.0\n",
       "1 -9212075797126931087         2     0.4\n",
       "2 -9207251133131336884         0     0.0\n",
       "3 -9199575329909162940         0     0.0\n",
       "4 -9196668942822132778         0     0.0"
      ]
     },
     "execution_count": 269,
     "metadata": {},
     "output_type": "execute_result"
    }
   ],
   "source": [
    "content_based_eval.head()"
   ]
  },
  {
   "cell_type": "code",
   "execution_count": 270,
   "metadata": {},
   "outputs": [],
   "source": [
    "pie = pd.DataFrame({\"hit_rate\":content_based_eval['hit_rate'].value_counts().index,\"count\":content_based_eval['hit_rate'].value_counts().values})"
   ]
  },
  {
   "cell_type": "code",
   "execution_count": 271,
   "metadata": {},
   "outputs": [
    {
     "data": {
      "text/html": [
       "<div>\n",
       "<style scoped>\n",
       "    .dataframe tbody tr th:only-of-type {\n",
       "        vertical-align: middle;\n",
       "    }\n",
       "\n",
       "    .dataframe tbody tr th {\n",
       "        vertical-align: top;\n",
       "    }\n",
       "\n",
       "    .dataframe thead th {\n",
       "        text-align: right;\n",
       "    }\n",
       "</style>\n",
       "<table border=\"1\" class=\"dataframe\">\n",
       "  <thead>\n",
       "    <tr style=\"text-align: right;\">\n",
       "      <th></th>\n",
       "      <th>hit_rate</th>\n",
       "      <th>count</th>\n",
       "    </tr>\n",
       "  </thead>\n",
       "  <tbody>\n",
       "    <tr>\n",
       "      <th>0</th>\n",
       "      <td>0</td>\n",
       "      <td>373</td>\n",
       "    </tr>\n",
       "    <tr>\n",
       "      <th>1</th>\n",
       "      <td>2</td>\n",
       "      <td>50</td>\n",
       "    </tr>\n",
       "    <tr>\n",
       "      <th>2</th>\n",
       "      <td>1</td>\n",
       "      <td>45</td>\n",
       "    </tr>\n",
       "    <tr>\n",
       "      <th>3</th>\n",
       "      <td>3</td>\n",
       "      <td>18</td>\n",
       "    </tr>\n",
       "    <tr>\n",
       "      <th>4</th>\n",
       "      <td>4</td>\n",
       "      <td>7</td>\n",
       "    </tr>\n",
       "  </tbody>\n",
       "</table>\n",
       "</div>"
      ],
      "text/plain": [
       "   hit_rate  count\n",
       "0         0    373\n",
       "1         2     50\n",
       "2         1     45\n",
       "3         3     18\n",
       "4         4      7"
      ]
     },
     "execution_count": 271,
     "metadata": {},
     "output_type": "execute_result"
    }
   ],
   "source": [
    "pie.head()"
   ]
  },
  {
   "cell_type": "code",
   "execution_count": 272,
   "metadata": {},
   "outputs": [
    {
     "data": {
      "text/plain": [
       "Text(0.5, 1.0, 'Absolute Hit Rate with the Mean Recall of 0.05')"
      ]
     },
     "execution_count": 272,
     "metadata": {},
     "output_type": "execute_result"
    },
    {
     "data": {
      "image/png": "[encoded data removed]",
      "text/plain": [
       "<Figure size 720x432 with 1 Axes>"
      ]
     },
     "metadata": {},
     "output_type": "display_data"
    }
   ],
   "source": [
    "l, ax = plt.subplots(figsize=[10,6])\n",
    "labels = pie['hit_rate']\n",
    "plt.pie(x=pie['count'], autopct=\"%.1f%%\",labels=labels,explode=[0.015]*len(pie['count']), pctdistance=0.5)\n",
    "plt.title(\"Absolute Hit Rate with the Mean Recall of {:.2f}\".format(np.mean(content_based_eval['recall'])), fontsize=14)"
   ]
  },
  {
   "cell_type": "markdown",
   "metadata": {},
   "source": [
    "<h2 style=\"text-align:center;\">Building a Collaboration Based Recommendation System using ALS from Implicit Library - </h1>"
   ]
  },
  {
   "cell_type": "code",
   "execution_count": 273,
   "metadata": {},
   "outputs": [
    {
     "name": "stdout",
     "output_type": "stream",
     "text": [
      "Requirement already satisfied: implicit in c:\\users\\dell\\anaconda3\\lib\\site-packages (0.4.4)\n",
      "Requirement already satisfied: numpy in c:\\users\\dell\\anaconda3\\lib\\site-packages (from implicit) (1.18.5)\n",
      "Requirement already satisfied: scipy>=0.16 in c:\\users\\dell\\anaconda3\\lib\\site-packages (from implicit) (1.5.0)\n",
      "Requirement already satisfied: tqdm>=4.27 in c:\\users\\dell\\anaconda3\\lib\\site-packages (from implicit) (4.47.0)\n"
     ]
    }
   ],
   "source": [
    "## installing the implicit package\n",
    "!pip install implicit"
   ]
  },
  {
   "cell_type": "code",
   "execution_count": 274,
   "metadata": {},
   "outputs": [],
   "source": [
    "## importing the relevant classes and functions\n",
    "from scipy.sparse import csr_matrix, save_npz, load_npz, vstack, hstack, lil_matrix\n",
    "import implicit\n",
    "from implicit.evaluation import train_test_split, precision_at_k, mean_average_precision_at_k"
   ]
  },
  {
   "cell_type": "code",
   "execution_count": 275,
   "metadata": {},
   "outputs": [
    {
     "data": {
      "text/html": [
       "<div>\n",
       "<style scoped>\n",
       "    .dataframe tbody tr th:only-of-type {\n",
       "        vertical-align: middle;\n",
       "    }\n",
       "\n",
       "    .dataframe tbody tr th {\n",
       "        vertical-align: top;\n",
       "    }\n",
       "\n",
       "    .dataframe thead th {\n",
       "        text-align: right;\n",
       "    }\n",
       "</style>\n",
       "<table border=\"1\" class=\"dataframe\">\n",
       "  <thead>\n",
       "    <tr style=\"text-align: right;\">\n",
       "      <th></th>\n",
       "      <th>consumer_id</th>\n",
       "      <th>item_id</th>\n",
       "      <th>text_description</th>\n",
       "    </tr>\n",
       "  </thead>\n",
       "  <tbody>\n",
       "    <tr>\n",
       "      <th>40705</th>\n",
       "      <td>9210530975708218054</td>\n",
       "      <td>8477804012624580461</td>\n",
       "      <td>\"Em 2020, as pessoas não irão usar aplicativos...</td>\n",
       "    </tr>\n",
       "    <tr>\n",
       "      <th>40706</th>\n",
       "      <td>9210530975708218054</td>\n",
       "      <td>8526042588044002101</td>\n",
       "      <td>As Craig and I start our journey toward buildi...</td>\n",
       "    </tr>\n",
       "    <tr>\n",
       "      <th>40707</th>\n",
       "      <td>9210530975708218054</td>\n",
       "      <td>8856169137131817223</td>\n",
       "      <td>Para ser realmente inovador você não precisa n...</td>\n",
       "    </tr>\n",
       "    <tr>\n",
       "      <th>40708</th>\n",
       "      <td>9210530975708218054</td>\n",
       "      <td>8869347744613364434</td>\n",
       "      <td>Serial, Parallel, Concurrent, CMS, G1, Young G...</td>\n",
       "    </tr>\n",
       "    <tr>\n",
       "      <th>40709</th>\n",
       "      <td>9210530975708218054</td>\n",
       "      <td>9209886322932807692</td>\n",
       "      <td>Recentemente, a equipe do Chrome anunciou que ...</td>\n",
       "    </tr>\n",
       "  </tbody>\n",
       "</table>\n",
       "</div>"
      ],
      "text/plain": [
       "               consumer_id              item_id  \\\n",
       "40705  9210530975708218054  8477804012624580461   \n",
       "40706  9210530975708218054  8526042588044002101   \n",
       "40707  9210530975708218054  8856169137131817223   \n",
       "40708  9210530975708218054  8869347744613364434   \n",
       "40709  9210530975708218054  9209886322932807692   \n",
       "\n",
       "                                        text_description  \n",
       "40705  \"Em 2020, as pessoas não irão usar aplicativos...  \n",
       "40706  As Craig and I start our journey toward buildi...  \n",
       "40707  Para ser realmente inovador você não precisa n...  \n",
       "40708  Serial, Parallel, Concurrent, CMS, G1, Young G...  \n",
       "40709  Recentemente, a equipe do Chrome anunciou que ...  "
      ]
     },
     "execution_count": 275,
     "metadata": {},
     "output_type": "execute_result"
    }
   ],
   "source": [
    "user_item.tail()"
   ]
  },
  {
   "cell_type": "markdown",
   "metadata": {},
   "source": [
    "#### Converting consumer id and item id into categories as the Implicit ALS algo demands so"
   ]
  },
  {
   "cell_type": "code",
   "execution_count": 276,
   "metadata": {},
   "outputs": [],
   "source": [
    "user_item['consumer_id'] = user_item['consumer_id'].astype(\"category\")"
   ]
  },
  {
   "cell_type": "code",
   "execution_count": 277,
   "metadata": {},
   "outputs": [],
   "source": [
    "user_item['item_id'] = user_item['item_id'].astype(\"category\")"
   ]
  },
  {
   "cell_type": "code",
   "execution_count": 278,
   "metadata": {},
   "outputs": [],
   "source": [
    "# creating the sparse user item matrix\n",
    "alpha = 40\n",
    "sparse_user_item = csr_matrix( ([alpha]*len(user_item['item_id']), (user_item['consumer_id'].cat.codes.copy(), user_item['item_id'].cat.codes.copy()) ))"
   ]
  },
  {
   "cell_type": "code",
   "execution_count": 279,
   "metadata": {},
   "outputs": [],
   "source": [
    "#print(sparse_user_item)"
   ]
  },
  {
   "cell_type": "code",
   "execution_count": 280,
   "metadata": {},
   "outputs": [],
   "source": [
    "sparse_item_user = sparse_user_item.T.tocsr()"
   ]
  },
  {
   "cell_type": "code",
   "execution_count": 281,
   "metadata": {},
   "outputs": [],
   "source": [
    "#print(sparse_item_user)"
   ]
  },
  {
   "cell_type": "code",
   "execution_count": 282,
   "metadata": {},
   "outputs": [],
   "source": [
    "# splitting into test and train\n",
    "train_item_user, test_item_user = train_test_split(sparse_item_user, train_percentage=0.8)\n",
    "\n",
    "train_user_item, test_user_item = train_test_split(sparse_user_item, train_percentage=0.8)"
   ]
  },
  {
   "cell_type": "code",
   "execution_count": 283,
   "metadata": {},
   "outputs": [],
   "source": [
    "# building the collaborative filtering model\n",
    "\n",
    "model = implicit.als.AlternatingLeastSquares(factors=100, regularization=0.001, iterations=1500, calculate_training_loss=True)"
   ]
  },
  {
   "cell_type": "code",
   "execution_count": 284,
   "metadata": {},
   "outputs": [
    {
     "data": {
      "application/vnd.jupyter.widget-view+json": {
       "model_id": "4f0356edf1a0498e8ba72473eda621af",
       "version_major": 2,
       "version_minor": 0
      },
      "text/plain": [
       "HBox(children=(FloatProgress(value=0.0, max=1500.0), HTML(value='')))"
      ]
     },
     "metadata": {},
     "output_type": "display_data"
    },
    {
     "name": "stdout",
     "output_type": "stream",
     "text": [
      "\n"
     ]
    }
   ],
   "source": [
    "model.fit(train_item_user)"
   ]
  },
  {
   "cell_type": "code",
   "execution_count": 285,
   "metadata": {},
   "outputs": [],
   "source": [
    "# creating a mapping between original user_id and the user_id given in sparse matrix\n",
    "# will be used while making the recommendation system\n",
    "\n",
    "user_id_mapping = dict(zip(user_item['consumer_id'].unique(),user_item['consumer_id'].cat.codes.copy().unique()))\n",
    "item_id_mapping = dict(zip(user_item['item_id'].cat.codes.copy().unique(),user_item['item_id'].unique()))"
   ]
  },
  {
   "cell_type": "code",
   "execution_count": 286,
   "metadata": {},
   "outputs": [],
   "source": [
    "# building the collaboration based recommender system\n",
    "\n",
    "def recommend(user_id):\n",
    "    \n",
    "    mapped_user_id = user_id_mapping[user_id]\n",
    "    \n",
    "    recommended, _ =  zip(*model.recommend(mapped_user_id, sparse_user_item))\n",
    "    \n",
    "    recommended_articles = []\n",
    "    \n",
    "    for mapped_item_id in recommended:\n",
    "        \n",
    "        item_id = item_id_mapping[mapped_item_id]\n",
    "        \n",
    "        recommended_articles.append(platform_content[platform_content['item_id']==item_id]['title'].values[0])\n",
    "        \n",
    "    return recommended_articles"
   ]
  },
  {
   "cell_type": "code",
   "execution_count": 287,
   "metadata": {},
   "outputs": [
    {
     "data": {
      "text/plain": [
       "['Lava-louças Brastemp Ative! 8 Serviços Blf08abana 110v - R$ 800,00',\n",
       " 'The Top 10 Most Common Mistakes That Node.js Developers Make',\n",
       " 'How it feels to learn Javascript in 2016',\n",
       " 'Cubr',\n",
       " \"Brazil's Bank Itaú Joins R3 Blockchain Consortium - CoinDesk\",\n",
       " 'Citroën lança e-commerce de carros',\n",
       " 'Banco desafia empreendedores e estudantes de tecnologia a buscarem inovação para processos | EXAME.com',\n",
       " 'VMware Cloud™ on AWS - A Closer Look - frankdenneman.nl',\n",
       " \"Don't document your code. Code your documentation.\",\n",
       " 'Terça de Dados #11 - Debate sobre a Regulamentação de TI']"
      ]
     },
     "execution_count": 287,
     "metadata": {},
     "output_type": "execute_result"
    }
   ],
   "source": [
    "# testing the collaboration based recommender system\n",
    "\n",
    "recommend(-9196668942822132778)"
   ]
  },
  {
   "cell_type": "code",
   "execution_count": 288,
   "metadata": {},
   "outputs": [
    {
     "data": {
      "text/plain": [
       "['Iniciando com o Docker: dicas práticas para começar a usar agora mesmo - Tableless',\n",
       " 'Use Docker to build, test and push your Artifacts',\n",
       " 'Itaú segue tendência das fintechs e se torna primeiro banco tradicional a permitir abertura de contas por app - Startupi',\n",
       " 'Docker Swarm',\n",
       " \"Docker Engine 1.11 with runC: Announcing the general availability of the industry's first OCI-compliant runtime\",\n",
       " 'Why You Should Stop Installing Your WebDev Environment Locally - Smashing Magazine',\n",
       " 'Microsoft expands its support for Docker containers',\n",
       " 'Automate Docker with the Remote API and Ruby',\n",
       " 'Docker 1.12: Now with Built-in Orchestration!',\n",
       " 'Iniciando com o Docker: Criando suas próprias imagens - Tableless']"
      ]
     },
     "execution_count": 288,
     "metadata": {},
     "output_type": "execute_result"
    }
   ],
   "source": [
    "## content based recommendations\n",
    "news_recommendation_using_user_id(-9196668942822132778)"
   ]
  },
  {
   "cell_type": "code",
   "execution_count": 289,
   "metadata": {},
   "outputs": [
    {
     "data": {
      "text/plain": [
       "array(['Itaú é pioneiro do blockchain',\n",
       "       'Contêiner do Windows no Windows 10',\n",
       "       'Docker - Build, Ship, and Run Any App, Anywhere',\n",
       "       'Webinário gratuito \"Como analisar um AWR Report\"',\n",
       "       'Itaú Unibanco fecha compra de ativos de varejo do Citi no Brasil',\n",
       "       '15 minutos sobre Docker'], dtype=object)"
      ]
     },
     "execution_count": 289,
     "metadata": {},
     "output_type": "execute_result"
    }
   ],
   "source": [
    "## articles that the user had read based on which the above recommendations were made\n",
    "\n",
    "user_item_verify[user_item_verify['consumer_id']==-9196668942822132778]['title'].unique()"
   ]
  },
  {
   "cell_type": "markdown",
   "metadata": {},
   "source": [
    "<b>Based on the verification above, it seems that the recommendation system is working well - \n",
    "\n",
    "The Content Based Recommendation System is suggesting articles quite similar to the ones already read.<br>\n",
    "The Collaboration Based Recommendation System is suggesting articles of similar theme.</b>"
   ]
  },
  {
   "cell_type": "markdown",
   "metadata": {},
   "source": [
    "## Evaluating the ALS Model - "
   ]
  },
  {
   "cell_type": "markdown",
   "metadata": {},
   "source": [
    "#### Will use the metric Precision at K(k=10) to evaluate the model"
   ]
  },
  {
   "cell_type": "code",
   "execution_count": 290,
   "metadata": {},
   "outputs": [
    {
     "data": {
      "application/vnd.jupyter.widget-view+json": {
       "model_id": "a951c289fbb04ed58bee7e90844ea4bb",
       "version_major": 2,
       "version_minor": 0
      },
      "text/plain": [
       "HBox(children=(FloatProgress(value=0.0, max=1884.0), HTML(value='')))"
      ]
     },
     "metadata": {},
     "output_type": "display_data"
    },
    {
     "name": "stdout",
     "output_type": "stream",
     "text": [
      "\n"
     ]
    }
   ],
   "source": [
    "p_at_10 = precision_at_k(model,train_item_user.T.tocsr(),test_item_user.T.tocsr(),K=10)"
   ]
  },
  {
   "cell_type": "code",
   "execution_count": 291,
   "metadata": {},
   "outputs": [
    {
     "name": "stdout",
     "output_type": "stream",
     "text": [
      "Precision at 10 comes out to be 0.14\n"
     ]
    }
   ],
   "source": [
    "print(\"Precision at 10 comes out to be {:.2f}\".format(p_at_10))"
   ]
  },
  {
   "cell_type": "markdown",
   "metadata": {},
   "source": [
    "### Now lets build the above ALS algo. on our own  - "
   ]
  },
  {
   "cell_type": "markdown",
   "metadata": {},
   "source": [
    "<h1 style=\"text-align:center;\"> Building an ALS based Recommendation System <u><i>from Scratch</i></u> - </h1>"
   ]
  },
  {
   "cell_type": "markdown",
   "metadata": {},
   "source": [
    "Lets first study a bit about ALS Algorithm - <br><br>\n",
    "\n",
    "ALS involves Matrix factorization which assumes that:<br>\n",
    "<ul><li>Each user can be described by k attributes or features. For example, feature 1 might be a number that says how much each user likes sci-fi movies.</li>\n",
    "<li>Each item (movie) can be described by an analagous set of k attributes or features. To correspond to the above example, feature 1 for the movie might be a number that says how close the movie is to pure sci-fi.</li>\n",
    "<li>If we multiply each feature of the user by the corresponding feature of the movie and add everything together, this will be a good approximation for the rating the user would give that movie.</li>\n",
    "<br>\n",
    " \n",
    "<b>The beauty is that we do not know what these features are. Nor do we know how many (k) features are relevant. We simply pick a number for k and learn the relevant values for all the features for all the users and items. How do we learn? By minimizing a loss function, of course!</b>"
   ]
  },
  {
   "cell_type": "markdown",
   "metadata": {},
   "source": [
    "### Some Maths - \n",
    "\n",
    "We can turn our matrix factorization approximation of a k-attribute user into math by letting a user u take the form of a k-dimensional vector x_u. Similarly, an item i can be k-dimensional vector y_i. User u’s predicted rating for item i is just the dot product of their two vectors."
   ]
  },
  {
   "attachments": {
    "image_1.PNG": {
     "image/png": "[encoded data removed]"
    }
   },
   "cell_type": "markdown",
   "metadata": {},
   "source": [
    "![image_1.PNG](attachment:image_1.PNG)"
   ]
  },
  {
   "cell_type": "markdown",
   "metadata": {},
   "source": [
    "where r_ui hat represents our prediction for the true rating r_ui, and y_i (x⊺_u) is assumed to be a column (row) vector. These user and item vectors are often called latent vectors or low-dimensional embeddings in the literature. The k attributes are often called the latent factors. We will choose to minimize the square of the difference between all ratings in our dataset (S) and our predictions. This produces a loss function of the form"
   ]
  },
  {
   "attachments": {
    "image_2.PNG": {
     "image/png": "[encoded data removed]"
    }
   },
   "cell_type": "markdown",
   "metadata": {},
   "source": [
    "![image_2.PNG](attachment:image_2.PNG)"
   ]
  },
  {
   "cell_type": "markdown",
   "metadata": {},
   "source": [
    "Note that we’ve added on two L2 regularization terms at the end to prevent overfitting of the user and item vectors. Our goal now is to minimize this loss function. Derivatives are an obvious tool for minimizing functions, we will be one of the derivative based method - <b>ALS Algo</b>"
   ]
  },
  {
   "cell_type": "markdown",
   "metadata": {},
   "source": [
    "For ALS minimiztion, we hold one set of latent vectors constant. <br><br>For this example, we’ll pick the item vectors. We then take the derivative of the loss function with respect to the other set of vectors (the user vectors). We set the derivative equal to zero (we’re searching for a minimum) and solve for the non-constant vectors (the user vectors). <br><br>Now comes the alternating part: With these new, solved-for user vectors in hand, we hold them constant, instead, and take the derivative of the loss function with respect to the previously constant vectors (the item vectors). <br><br>\n",
    "<b>We alternate back and forth and carry out this two-step dance until convergence.</b>"
   ]
  },
  {
   "cell_type": "markdown",
   "metadata": {},
   "source": [
    "### ALS Derivation"
   ]
  },
  {
   "cell_type": "markdown",
   "metadata": {},
   "source": [
    "### Step - 1\n",
    "To explain things with math, let’s hold the item vectors (y_i) constant and take the derivative of the loss function with respect to the user vectors (x_u)"
   ]
  },
  {
   "attachments": {
    "image_3.PNG": {
     "image/png": "[encoded data removed]"
    }
   },
   "cell_type": "markdown",
   "metadata": {},
   "source": [
    "![image_3.PNG](attachment:image_3.PNG)"
   ]
  },
  {
   "cell_type": "markdown",
   "metadata": {},
   "source": [
    "A couple things happen above: let us assume that we have n users and m items, so our ratings matrix is n×m. We introduce the symbol Y (with dimensioins m×k) to represent all item row vectors vertically stacked on each other. Also, the row vector r_u just represents users u’s row from the ratings matrix with all the ratings for all the items (so it has dimension 1×m). Lastly, I is just the identity matrix which has dimension k×k here."
   ]
  },
  {
   "cell_type": "markdown",
   "metadata": {},
   "source": [
    "### Step - 2\n",
    "The derivation for the item vectors is quite similar - "
   ]
  },
  {
   "attachments": {
    "image_4.PNG": {
     "image/png": "[encoded data removed]"
    }
   },
   "cell_type": "markdown",
   "metadata": {},
   "source": [
    "![image_4.PNG](attachment:image_4.PNG)"
   ]
  },
  {
   "cell_type": "markdown",
   "metadata": {},
   "source": [
    "### Lets turn this into code - "
   ]
  },
  {
   "cell_type": "markdown",
   "metadata": {},
   "source": [
    "### All the articles are the ones that the user has either liked, commented, saved or followed. Hence the user seems to be interested in the topics. Hence I will mark the rating as 4 for all of these. "
   ]
  },
  {
   "cell_type": "code",
   "execution_count": 292,
   "metadata": {},
   "outputs": [],
   "source": [
    "user_item['rating'] = 4"
   ]
  },
  {
   "cell_type": "code",
   "execution_count": 293,
   "metadata": {},
   "outputs": [
    {
     "data": {
      "text/html": [
       "<div>\n",
       "<style scoped>\n",
       "    .dataframe tbody tr th:only-of-type {\n",
       "        vertical-align: middle;\n",
       "    }\n",
       "\n",
       "    .dataframe tbody tr th {\n",
       "        vertical-align: top;\n",
       "    }\n",
       "\n",
       "    .dataframe thead th {\n",
       "        text-align: right;\n",
       "    }\n",
       "</style>\n",
       "<table border=\"1\" class=\"dataframe\">\n",
       "  <thead>\n",
       "    <tr style=\"text-align: right;\">\n",
       "      <th></th>\n",
       "      <th>consumer_id</th>\n",
       "      <th>item_id</th>\n",
       "      <th>text_description</th>\n",
       "      <th>rating</th>\n",
       "    </tr>\n",
       "  </thead>\n",
       "  <tbody>\n",
       "    <tr>\n",
       "      <th>40705</th>\n",
       "      <td>9210530975708218054</td>\n",
       "      <td>8477804012624580461</td>\n",
       "      <td>\"Em 2020, as pessoas não irão usar aplicativos...</td>\n",
       "      <td>4</td>\n",
       "    </tr>\n",
       "    <tr>\n",
       "      <th>40706</th>\n",
       "      <td>9210530975708218054</td>\n",
       "      <td>8526042588044002101</td>\n",
       "      <td>As Craig and I start our journey toward buildi...</td>\n",
       "      <td>4</td>\n",
       "    </tr>\n",
       "    <tr>\n",
       "      <th>40707</th>\n",
       "      <td>9210530975708218054</td>\n",
       "      <td>8856169137131817223</td>\n",
       "      <td>Para ser realmente inovador você não precisa n...</td>\n",
       "      <td>4</td>\n",
       "    </tr>\n",
       "    <tr>\n",
       "      <th>40708</th>\n",
       "      <td>9210530975708218054</td>\n",
       "      <td>8869347744613364434</td>\n",
       "      <td>Serial, Parallel, Concurrent, CMS, G1, Young G...</td>\n",
       "      <td>4</td>\n",
       "    </tr>\n",
       "    <tr>\n",
       "      <th>40709</th>\n",
       "      <td>9210530975708218054</td>\n",
       "      <td>9209886322932807692</td>\n",
       "      <td>Recentemente, a equipe do Chrome anunciou que ...</td>\n",
       "      <td>4</td>\n",
       "    </tr>\n",
       "  </tbody>\n",
       "</table>\n",
       "</div>"
      ],
      "text/plain": [
       "               consumer_id              item_id  \\\n",
       "40705  9210530975708218054  8477804012624580461   \n",
       "40706  9210530975708218054  8526042588044002101   \n",
       "40707  9210530975708218054  8856169137131817223   \n",
       "40708  9210530975708218054  8869347744613364434   \n",
       "40709  9210530975708218054  9209886322932807692   \n",
       "\n",
       "                                        text_description  rating  \n",
       "40705  \"Em 2020, as pessoas não irão usar aplicativos...       4  \n",
       "40706  As Craig and I start our journey toward buildi...       4  \n",
       "40707  Para ser realmente inovador você não precisa n...       4  \n",
       "40708  Serial, Parallel, Concurrent, CMS, G1, Young G...       4  \n",
       "40709  Recentemente, a equipe do Chrome anunciou que ...       4  "
      ]
     },
     "execution_count": 293,
     "metadata": {},
     "output_type": "execute_result"
    }
   ],
   "source": [
    "user_item.tail()"
   ]
  },
  {
   "cell_type": "markdown",
   "metadata": {},
   "source": [
    "### Using only those users which have interacted with atleast 3 articles so that the train-test split is not empty"
   ]
  },
  {
   "cell_type": "code",
   "execution_count": 294,
   "metadata": {},
   "outputs": [],
   "source": [
    "## Number of articles per user\n",
    "df = user_item.groupby('consumer_id',as_index=False).count()"
   ]
  },
  {
   "cell_type": "code",
   "execution_count": 295,
   "metadata": {},
   "outputs": [],
   "source": [
    "## users having interest in atleast 3 articles\n",
    "atleast_3 = df[df['item_id']>=3]"
   ]
  },
  {
   "cell_type": "code",
   "execution_count": 296,
   "metadata": {},
   "outputs": [],
   "source": [
    "## we will only deal with users who have shown interest in atleast 3 articles as we want to split the data into train and test\n",
    "user_item = user_item[user_item['consumer_id'].isin(atleast_3['consumer_id'])]"
   ]
  },
  {
   "cell_type": "markdown",
   "metadata": {},
   "source": [
    "Now I will be creating a mapping of consumer_ids and item_ids to positive integers so that they are easier to deal with"
   ]
  },
  {
   "cell_type": "code",
   "execution_count": 297,
   "metadata": {},
   "outputs": [],
   "source": [
    "user_mapping = {}\n",
    "item_mapping = {}"
   ]
  },
  {
   "cell_type": "code",
   "execution_count": 298,
   "metadata": {},
   "outputs": [],
   "source": [
    "for idx,item_id in enumerate(list(user_item['item_id'].unique())):\n",
    "    item_mapping[idx] = item_id"
   ]
  },
  {
   "cell_type": "code",
   "execution_count": 299,
   "metadata": {},
   "outputs": [],
   "source": [
    "for idx,user_id in enumerate(list(user_item['consumer_id'].unique())):\n",
    "    user_mapping[idx] = user_id"
   ]
  },
  {
   "cell_type": "code",
   "execution_count": 300,
   "metadata": {},
   "outputs": [],
   "source": [
    "def return_key(dictionary,val):\n",
    "    for key,value in dictionary.items():\n",
    "        if value==val:\n",
    "            return int(key)"
   ]
  },
  {
   "cell_type": "code",
   "execution_count": 301,
   "metadata": {},
   "outputs": [],
   "source": [
    "user_item['user_id'] = user_item['consumer_id'].apply(lambda x:return_key(user_mapping,x))"
   ]
  },
  {
   "cell_type": "code",
   "execution_count": 302,
   "metadata": {},
   "outputs": [],
   "source": [
    "user_item['user_id'] = user_item['user_id'].astype('int')"
   ]
  },
  {
   "cell_type": "code",
   "execution_count": 303,
   "metadata": {},
   "outputs": [],
   "source": [
    "user_item['article_id'] = user_item['item_id'].apply(lambda x:return_key(item_mapping,x))"
   ]
  },
  {
   "cell_type": "code",
   "execution_count": 304,
   "metadata": {},
   "outputs": [],
   "source": [
    "user_article = user_item[['user_id','article_id','rating']].copy(deep=True)"
   ]
  },
  {
   "cell_type": "code",
   "execution_count": 305,
   "metadata": {},
   "outputs": [
    {
     "data": {
      "text/html": [
       "<div>\n",
       "<style scoped>\n",
       "    .dataframe tbody tr th:only-of-type {\n",
       "        vertical-align: middle;\n",
       "    }\n",
       "\n",
       "    .dataframe tbody tr th {\n",
       "        vertical-align: top;\n",
       "    }\n",
       "\n",
       "    .dataframe thead th {\n",
       "        text-align: right;\n",
       "    }\n",
       "</style>\n",
       "<table border=\"1\" class=\"dataframe\">\n",
       "  <thead>\n",
       "    <tr style=\"text-align: right;\">\n",
       "      <th></th>\n",
       "      <th>user_id</th>\n",
       "      <th>article_id</th>\n",
       "      <th>rating</th>\n",
       "    </tr>\n",
       "  </thead>\n",
       "  <tbody>\n",
       "    <tr>\n",
       "      <th>40705</th>\n",
       "      <td>1385</td>\n",
       "      <td>470</td>\n",
       "      <td>4</td>\n",
       "    </tr>\n",
       "    <tr>\n",
       "      <th>40706</th>\n",
       "      <td>1385</td>\n",
       "      <td>908</td>\n",
       "      <td>4</td>\n",
       "    </tr>\n",
       "    <tr>\n",
       "      <th>40707</th>\n",
       "      <td>1385</td>\n",
       "      <td>1095</td>\n",
       "      <td>4</td>\n",
       "    </tr>\n",
       "    <tr>\n",
       "      <th>40708</th>\n",
       "      <td>1385</td>\n",
       "      <td>972</td>\n",
       "      <td>4</td>\n",
       "    </tr>\n",
       "    <tr>\n",
       "      <th>40709</th>\n",
       "      <td>1385</td>\n",
       "      <td>1724</td>\n",
       "      <td>4</td>\n",
       "    </tr>\n",
       "  </tbody>\n",
       "</table>\n",
       "</div>"
      ],
      "text/plain": [
       "       user_id article_id  rating\n",
       "40705     1385        470       4\n",
       "40706     1385        908       4\n",
       "40707     1385       1095       4\n",
       "40708     1385        972       4\n",
       "40709     1385       1724       4"
      ]
     },
     "execution_count": 305,
     "metadata": {},
     "output_type": "execute_result"
    }
   ],
   "source": [
    "user_article.tail()"
   ]
  },
  {
   "cell_type": "markdown",
   "metadata": {},
   "source": [
    "### Creating a Ratings Matrix"
   ]
  },
  {
   "cell_type": "code",
   "execution_count": 306,
   "metadata": {},
   "outputs": [],
   "source": [
    "n_users = user_article['user_id'].unique().shape[0]\n",
    "\n",
    "n_items = user_article['article_id'].unique().shape[0]\n",
    "\n",
    "ratings = np.zeros((n_users, n_items))"
   ]
  },
  {
   "cell_type": "code",
   "execution_count": 307,
   "metadata": {},
   "outputs": [],
   "source": [
    "for row in user_article.itertuples():\n",
    "    ratings[row[1], row[2]] = row[3]"
   ]
  },
  {
   "cell_type": "code",
   "execution_count": 308,
   "metadata": {},
   "outputs": [
    {
     "data": {
      "text/plain": [
       "(1386, 2105)"
      ]
     },
     "execution_count": 308,
     "metadata": {},
     "output_type": "execute_result"
    }
   ],
   "source": [
    "ratings.shape\n",
    "# 1386 users and 2105 articles"
   ]
  },
  {
   "cell_type": "code",
   "execution_count": 309,
   "metadata": {},
   "outputs": [
    {
     "name": "stdout",
     "output_type": "stream",
     "text": [
      "1386 users\n",
      "2105 items\n",
      "Sparsity: 98.70%\n"
     ]
    }
   ],
   "source": [
    "print(str(n_users) + ' users')\n",
    "print(str(n_items) + ' items')\n",
    "sparsity = float(len(ratings.nonzero()[0]))\n",
    "sparsity /= (ratings.shape[0] * ratings.shape[1])\n",
    "sparsity *= 100\n",
    "sparsity = 100 - sparsity\n",
    "print('Sparsity: {:4.2f}%'.format(sparsity))"
   ]
  },
  {
   "cell_type": "markdown",
   "metadata": {},
   "source": [
    "As expected, the matrix is highly sparsed"
   ]
  },
  {
   "cell_type": "code",
   "execution_count": 310,
   "metadata": {},
   "outputs": [],
   "source": [
    "## create a dictionary to store the number of articles interested in by a user\n",
    "user_article_read={}"
   ]
  },
  {
   "cell_type": "code",
   "execution_count": 311,
   "metadata": {},
   "outputs": [],
   "source": [
    "df = user_article.groupby('user_id',as_index=False).count()"
   ]
  },
  {
   "cell_type": "code",
   "execution_count": 312,
   "metadata": {},
   "outputs": [],
   "source": [
    "for row in df.itertuples():\n",
    "    user_article_read[row[1]] = row[2]"
   ]
  },
  {
   "cell_type": "markdown",
   "metadata": {},
   "source": [
    "Splitting the dataset into train and test, such that test dataset have 30% or 10(whichever less) articles shown interest by a user"
   ]
  },
  {
   "cell_type": "code",
   "execution_count": 313,
   "metadata": {},
   "outputs": [],
   "source": [
    "def train_test_split(ratings):\n",
    "    test = np.zeros(ratings.shape)\n",
    "    train = ratings.copy()\n",
    "    for user in range(ratings.shape[0]):\n",
    "        print(user)\n",
    "        test_ratings = np.random.choice(ratings[user, :].nonzero()[0], \n",
    "                                        size=round(0.3*user_article_read[user]), \n",
    "                                        replace=False)\n",
    "        train[user, test_ratings] = 0.\n",
    "        test[user, test_ratings] = ratings[user, test_ratings]\n",
    "        \n",
    "    # Test and training are truly disjoint\n",
    "    assert(np.all((train * test) == 0)) \n",
    "    return train, test"
   ]
  },
  {
   "cell_type": "code",
   "execution_count": 314,
   "metadata": {},
   "outputs": [
    {
     "name": "stdout",
     "output_type": "stream",
     "text": [
      "0\n",
      "1\n",
      "2\n",
      "3\n",
      "4\n",
      "5\n",
      "6\n",
      "7\n",
      "8\n",
      "9\n",
      "10\n",
      "11\n",
      "12\n",
      "13\n",
      "14\n",
      "15\n",
      "16\n",
      "17\n",
      "18\n",
      "19\n",
      "20\n",
      "21\n",
      "22\n",
      "23\n",
      "24\n",
      "25\n",
      "26\n",
      "27\n",
      "28\n",
      "29\n",
      "30\n",
      "31\n",
      "32\n",
      "33\n",
      "34\n",
      "35\n",
      "36\n",
      "37\n",
      "38\n",
      "39\n",
      "40\n",
      "41\n",
      "42\n",
      "43\n",
      "44\n",
      "45\n",
      "46\n",
      "47\n",
      "48\n",
      "49\n",
      "50\n",
      "51\n",
      "52\n",
      "53\n",
      "54\n",
      "55\n",
      "56\n",
      "57\n",
      "58\n",
      "59\n",
      "60\n",
      "61\n",
      "62\n",
      "63\n",
      "64\n",
      "65\n",
      "66\n",
      "67\n",
      "68\n",
      "69\n",
      "70\n",
      "71\n",
      "72\n",
      "73\n",
      "74\n",
      "75\n",
      "76\n",
      "77\n",
      "78\n",
      "79\n",
      "80\n",
      "81\n",
      "82\n",
      "83\n",
      "84\n",
      "85\n",
      "86\n",
      "87\n",
      "88\n",
      "89\n",
      "90\n",
      "91\n",
      "92\n",
      "93\n",
      "94\n",
      "95\n",
      "96\n",
      "97\n",
      "98\n",
      "99\n",
      "100\n",
      "101\n",
      "102\n",
      "103\n",
      "104\n",
      "105\n",
      "106\n",
      "107\n",
      "108\n",
      "109\n",
      "110\n",
      "111\n",
      "112\n",
      "113\n",
      "114\n",
      "115\n",
      "116\n",
      "117\n",
      "118\n",
      "119\n",
      "120\n",
      "121\n",
      "122\n",
      "123\n",
      "124\n",
      "125\n",
      "126\n",
      "127\n",
      "128\n",
      "129\n",
      "130\n",
      "131\n",
      "132\n",
      "133\n",
      "134\n",
      "135\n",
      "136\n",
      "137\n",
      "138\n",
      "139\n",
      "140\n",
      "141\n",
      "142\n",
      "143\n",
      "144\n",
      "145\n",
      "146\n",
      "147\n",
      "148\n",
      "149\n",
      "150\n",
      "151\n",
      "152\n",
      "153\n",
      "154\n",
      "155\n",
      "156\n",
      "157\n",
      "158\n",
      "159\n",
      "160\n",
      "161\n",
      "162\n",
      "163\n",
      "164\n",
      "165\n",
      "166\n",
      "167\n",
      "168\n",
      "169\n",
      "170\n",
      "171\n",
      "172\n",
      "173\n",
      "174\n",
      "175\n",
      "176\n",
      "177\n",
      "178\n",
      "179\n",
      "180\n",
      "181\n",
      "182\n",
      "183\n",
      "184\n",
      "185\n",
      "186\n",
      "187\n",
      "188\n",
      "189\n",
      "190\n",
      "191\n",
      "192\n",
      "193\n",
      "194\n",
      "195\n",
      "196\n",
      "197\n",
      "198\n",
      "199\n",
      "200\n",
      "201\n",
      "202\n",
      "203\n",
      "204\n",
      "205\n",
      "206\n",
      "207\n",
      "208\n",
      "209\n",
      "210\n",
      "211\n",
      "212\n",
      "213\n",
      "214\n",
      "215\n",
      "216\n",
      "217\n",
      "218\n",
      "219\n",
      "220\n",
      "221\n",
      "222\n",
      "223\n",
      "224\n",
      "225\n",
      "226\n",
      "227\n",
      "228\n",
      "229\n",
      "230\n",
      "231\n",
      "232\n",
      "233\n",
      "234\n",
      "235\n",
      "236\n",
      "237\n",
      "238\n",
      "239\n",
      "240\n",
      "241\n",
      "242\n",
      "243\n",
      "244\n",
      "245\n",
      "246\n",
      "247\n",
      "248\n",
      "249\n",
      "250\n",
      "251\n",
      "252\n",
      "253\n",
      "254\n",
      "255\n",
      "256\n",
      "257\n",
      "258\n",
      "259\n",
      "260\n",
      "261\n",
      "262\n",
      "263\n",
      "264\n",
      "265\n",
      "266\n",
      "267\n",
      "268\n",
      "269\n",
      "270\n",
      "271\n",
      "272\n",
      "273\n",
      "274\n",
      "275\n",
      "276\n",
      "277\n",
      "278\n",
      "279\n",
      "280\n",
      "281\n",
      "282\n",
      "283\n",
      "284\n",
      "285\n",
      "286\n",
      "287\n",
      "288\n",
      "289\n",
      "290\n",
      "291\n",
      "292\n",
      "293\n",
      "294\n",
      "295\n",
      "296\n",
      "297\n",
      "298\n",
      "299\n",
      "300\n",
      "301\n",
      "302\n",
      "303\n",
      "304\n",
      "305\n",
      "306\n",
      "307\n",
      "308\n",
      "309\n",
      "310\n",
      "311\n",
      "312\n",
      "313\n",
      "314\n",
      "315\n",
      "316\n",
      "317\n",
      "318\n",
      "319\n",
      "320\n",
      "321\n",
      "322\n",
      "323\n",
      "324\n",
      "325\n",
      "326\n",
      "327\n",
      "328\n",
      "329\n",
      "330\n",
      "331\n",
      "332\n",
      "333\n",
      "334\n",
      "335\n",
      "336\n",
      "337\n",
      "338\n",
      "339\n",
      "340\n",
      "341\n",
      "342\n",
      "343\n",
      "344\n",
      "345\n",
      "346\n",
      "347\n",
      "348\n",
      "349\n",
      "350\n",
      "351\n",
      "352\n",
      "353\n",
      "354\n",
      "355\n",
      "356\n",
      "357\n",
      "358\n",
      "359\n",
      "360\n",
      "361\n",
      "362\n",
      "363\n",
      "364\n",
      "365\n",
      "366\n",
      "367\n",
      "368\n",
      "369\n",
      "370\n",
      "371\n",
      "372\n",
      "373\n",
      "374\n",
      "375\n",
      "376\n",
      "377\n",
      "378\n",
      "379\n",
      "380\n",
      "381\n",
      "382\n",
      "383\n",
      "384\n",
      "385\n",
      "386\n",
      "387\n",
      "388\n",
      "389\n",
      "390\n",
      "391\n",
      "392\n",
      "393\n",
      "394\n",
      "395\n",
      "396\n",
      "397\n",
      "398\n",
      "399\n",
      "400\n",
      "401\n",
      "402\n",
      "403\n",
      "404\n",
      "405\n",
      "406\n",
      "407\n",
      "408\n",
      "409\n",
      "410\n",
      "411\n",
      "412\n",
      "413\n",
      "414\n",
      "415\n",
      "416\n",
      "417\n",
      "418\n",
      "419\n",
      "420\n",
      "421\n",
      "422\n",
      "423\n",
      "424\n",
      "425\n",
      "426\n",
      "427\n",
      "428\n",
      "429\n",
      "430\n",
      "431\n",
      "432\n",
      "433\n",
      "434\n",
      "435\n",
      "436\n",
      "437\n",
      "438\n",
      "439\n",
      "440\n",
      "441\n",
      "442\n",
      "443\n",
      "444\n",
      "445\n",
      "446\n",
      "447\n",
      "448\n",
      "449\n",
      "450\n",
      "451\n",
      "452\n",
      "453\n",
      "454\n",
      "455\n",
      "456\n",
      "457\n",
      "458\n",
      "459\n",
      "460\n",
      "461\n",
      "462\n",
      "463\n",
      "464\n",
      "465\n",
      "466\n",
      "467\n",
      "468\n",
      "469\n",
      "470\n",
      "471\n",
      "472\n",
      "473\n",
      "474\n",
      "475\n",
      "476\n",
      "477\n",
      "478\n",
      "479\n",
      "480\n",
      "481\n",
      "482\n",
      "483\n",
      "484\n",
      "485\n",
      "486\n",
      "487\n",
      "488\n",
      "489\n",
      "490\n",
      "491\n",
      "492\n",
      "493\n",
      "494\n",
      "495\n",
      "496\n",
      "497\n",
      "498\n",
      "499\n",
      "500\n",
      "501\n",
      "502\n",
      "503\n",
      "504\n",
      "505\n",
      "506\n",
      "507\n",
      "508\n",
      "509\n",
      "510\n",
      "511\n",
      "512\n",
      "513\n",
      "514\n",
      "515\n",
      "516\n",
      "517\n",
      "518\n",
      "519\n",
      "520\n",
      "521\n",
      "522\n",
      "523\n",
      "524\n",
      "525\n",
      "526\n",
      "527\n",
      "528\n",
      "529\n",
      "530\n",
      "531\n",
      "532\n",
      "533\n",
      "534\n",
      "535\n",
      "536\n",
      "537\n",
      "538\n",
      "539\n",
      "540\n",
      "541\n",
      "542\n",
      "543\n",
      "544\n",
      "545\n",
      "546\n",
      "547\n",
      "548\n",
      "549\n",
      "550\n",
      "551\n",
      "552\n",
      "553\n",
      "554\n",
      "555\n",
      "556\n",
      "557\n",
      "558\n",
      "559\n",
      "560\n",
      "561\n",
      "562\n",
      "563\n",
      "564\n",
      "565\n",
      "566\n",
      "567\n",
      "568\n",
      "569\n",
      "570\n",
      "571\n",
      "572\n",
      "573\n",
      "574\n",
      "575\n",
      "576\n",
      "577\n",
      "578\n",
      "579\n",
      "580\n",
      "581\n",
      "582\n",
      "583\n",
      "584\n",
      "585\n",
      "586\n",
      "587\n",
      "588\n",
      "589\n",
      "590\n",
      "591\n",
      "592\n",
      "593\n",
      "594\n",
      "595\n",
      "596\n",
      "597\n",
      "598\n",
      "599\n",
      "600\n",
      "601\n",
      "602\n",
      "603\n",
      "604\n",
      "605\n",
      "606\n",
      "607\n",
      "608\n",
      "609\n",
      "610\n",
      "611\n",
      "612\n",
      "613\n",
      "614\n",
      "615\n",
      "616\n",
      "617\n",
      "618\n",
      "619\n",
      "620\n",
      "621\n",
      "622\n",
      "623\n",
      "624\n",
      "625\n",
      "626\n",
      "627\n",
      "628\n",
      "629\n",
      "630\n",
      "631\n",
      "632\n",
      "633\n",
      "634\n",
      "635\n",
      "636\n",
      "637\n",
      "638\n",
      "639\n",
      "640\n",
      "641\n",
      "642\n",
      "643\n",
      "644\n",
      "645\n",
      "646\n",
      "647\n",
      "648\n",
      "649\n",
      "650\n",
      "651\n",
      "652\n",
      "653\n",
      "654\n",
      "655\n",
      "656\n",
      "657\n",
      "658\n",
      "659\n",
      "660\n",
      "661\n",
      "662\n",
      "663\n",
      "664\n",
      "665\n",
      "666\n",
      "667\n",
      "668\n",
      "669\n",
      "670\n",
      "671\n",
      "672\n",
      "673\n",
      "674\n",
      "675\n",
      "676\n",
      "677\n",
      "678\n",
      "679\n",
      "680\n",
      "681\n",
      "682\n",
      "683\n",
      "684\n",
      "685\n",
      "686\n",
      "687\n",
      "688\n",
      "689\n",
      "690\n",
      "691\n",
      "692\n",
      "693\n",
      "694\n",
      "695\n",
      "696\n",
      "697\n",
      "698\n",
      "699\n",
      "700\n",
      "701\n",
      "702\n",
      "703\n",
      "704\n",
      "705\n",
      "706\n",
      "707\n",
      "708\n",
      "709\n",
      "710\n",
      "711\n",
      "712\n",
      "713\n",
      "714\n",
      "715\n",
      "716\n",
      "717\n",
      "718\n",
      "719\n",
      "720\n",
      "721\n",
      "722\n",
      "723\n",
      "724\n",
      "725\n",
      "726\n",
      "727\n",
      "728\n",
      "729\n",
      "730\n",
      "731\n",
      "732\n",
      "733\n",
      "734\n",
      "735\n",
      "736\n",
      "737\n",
      "738\n",
      "739\n",
      "740\n",
      "741\n",
      "742\n",
      "743\n",
      "744\n",
      "745\n",
      "746\n",
      "747\n",
      "748\n",
      "749\n",
      "750\n",
      "751\n",
      "752\n",
      "753\n",
      "754\n",
      "755\n",
      "756\n",
      "757\n",
      "758\n",
      "759\n",
      "760\n",
      "761\n",
      "762\n",
      "763\n",
      "764\n",
      "765\n",
      "766\n",
      "767\n",
      "768\n",
      "769\n",
      "770\n",
      "771\n",
      "772\n",
      "773\n",
      "774\n",
      "775\n",
      "776\n",
      "777\n",
      "778\n",
      "779\n",
      "780\n",
      "781\n",
      "782\n",
      "783\n",
      "784\n",
      "785\n",
      "786\n",
      "787\n",
      "788\n",
      "789\n",
      "790\n",
      "791\n",
      "792\n",
      "793\n",
      "794\n",
      "795\n",
      "796\n",
      "797\n",
      "798\n",
      "799\n",
      "800\n",
      "801\n",
      "802\n",
      "803\n",
      "804\n",
      "805\n",
      "806\n",
      "807\n",
      "808\n",
      "809\n",
      "810\n",
      "811\n",
      "812\n",
      "813\n",
      "814\n",
      "815\n",
      "816\n",
      "817\n",
      "818\n",
      "819\n",
      "820\n",
      "821\n",
      "822\n",
      "823\n",
      "824\n",
      "825\n",
      "826\n",
      "827\n",
      "828\n",
      "829\n",
      "830\n",
      "831\n",
      "832\n",
      "833\n",
      "834\n",
      "835\n",
      "836\n",
      "837\n",
      "838\n",
      "839\n",
      "840\n",
      "841\n",
      "842\n",
      "843\n",
      "844\n",
      "845\n",
      "846\n",
      "847\n",
      "848\n",
      "849\n",
      "850\n",
      "851\n",
      "852\n",
      "853\n",
      "854\n",
      "855\n",
      "856\n",
      "857\n",
      "858\n",
      "859\n",
      "860\n",
      "861\n",
      "862\n",
      "863\n",
      "864\n",
      "865\n",
      "866\n",
      "867\n",
      "868\n",
      "869\n",
      "870\n",
      "871\n",
      "872\n",
      "873\n",
      "874\n",
      "875\n",
      "876\n",
      "877\n",
      "878\n",
      "879\n",
      "880\n",
      "881\n",
      "882\n",
      "883\n",
      "884\n",
      "885\n",
      "886\n",
      "887\n",
      "888\n",
      "889\n",
      "890\n",
      "891\n",
      "892\n",
      "893\n",
      "894\n",
      "895\n",
      "896\n",
      "897\n",
      "898\n",
      "899\n",
      "900\n",
      "901\n",
      "902\n",
      "903\n",
      "904\n",
      "905\n",
      "906\n",
      "907\n",
      "908\n",
      "909\n",
      "910\n",
      "911\n",
      "912\n",
      "913\n",
      "914\n",
      "915\n",
      "916\n",
      "917\n",
      "918\n",
      "919\n",
      "920\n",
      "921\n",
      "922\n",
      "923\n",
      "924\n",
      "925\n",
      "926\n",
      "927\n",
      "928\n",
      "929\n",
      "930\n",
      "931\n",
      "932\n",
      "933\n",
      "934\n",
      "935\n",
      "936\n",
      "937\n",
      "938\n",
      "939\n",
      "940\n",
      "941\n",
      "942\n",
      "943\n",
      "944\n",
      "945\n",
      "946\n",
      "947\n",
      "948\n",
      "949\n",
      "950\n",
      "951\n",
      "952\n",
      "953\n",
      "954\n",
      "955\n",
      "956\n",
      "957\n",
      "958\n",
      "959\n",
      "960\n",
      "961\n",
      "962\n",
      "963\n",
      "964\n",
      "965\n",
      "966\n",
      "967\n",
      "968\n",
      "969\n",
      "970\n",
      "971\n",
      "972\n",
      "973\n",
      "974\n",
      "975\n",
      "976\n",
      "977\n",
      "978\n",
      "979\n",
      "980\n",
      "981\n",
      "982\n",
      "983\n",
      "984\n",
      "985\n",
      "986\n",
      "987\n",
      "988\n",
      "989\n",
      "990\n",
      "991\n",
      "992\n",
      "993\n",
      "994\n",
      "995\n",
      "996\n",
      "997\n",
      "998\n",
      "999\n",
      "1000\n",
      "1001\n",
      "1002\n",
      "1003\n",
      "1004\n",
      "1005\n",
      "1006\n",
      "1007\n",
      "1008\n",
      "1009\n",
      "1010\n",
      "1011\n",
      "1012\n",
      "1013\n",
      "1014\n",
      "1015\n",
      "1016\n",
      "1017\n",
      "1018\n",
      "1019\n",
      "1020\n",
      "1021\n",
      "1022\n",
      "1023\n",
      "1024\n",
      "1025\n",
      "1026\n",
      "1027\n",
      "1028\n",
      "1029\n",
      "1030\n",
      "1031\n",
      "1032\n",
      "1033\n",
      "1034\n",
      "1035\n",
      "1036\n",
      "1037\n",
      "1038\n",
      "1039\n",
      "1040\n",
      "1041\n",
      "1042\n",
      "1043\n",
      "1044\n",
      "1045\n",
      "1046\n",
      "1047\n",
      "1048\n",
      "1049\n",
      "1050\n",
      "1051\n",
      "1052\n",
      "1053\n",
      "1054\n",
      "1055\n",
      "1056\n",
      "1057\n",
      "1058\n",
      "1059\n",
      "1060\n",
      "1061\n",
      "1062\n",
      "1063\n",
      "1064\n",
      "1065\n",
      "1066\n",
      "1067\n",
      "1068\n",
      "1069\n",
      "1070\n",
      "1071\n",
      "1072\n",
      "1073\n",
      "1074\n",
      "1075\n",
      "1076\n",
      "1077\n",
      "1078\n",
      "1079\n",
      "1080\n",
      "1081\n",
      "1082\n",
      "1083\n",
      "1084\n",
      "1085\n",
      "1086\n",
      "1087\n",
      "1088\n",
      "1089\n",
      "1090\n",
      "1091\n",
      "1092\n",
      "1093\n",
      "1094\n",
      "1095\n",
      "1096\n",
      "1097\n",
      "1098\n",
      "1099\n",
      "1100\n",
      "1101\n",
      "1102\n",
      "1103\n",
      "1104\n",
      "1105\n",
      "1106\n",
      "1107\n",
      "1108\n",
      "1109\n",
      "1110\n",
      "1111\n",
      "1112\n",
      "1113\n",
      "1114\n",
      "1115\n",
      "1116\n",
      "1117\n",
      "1118\n",
      "1119\n",
      "1120\n",
      "1121\n",
      "1122\n",
      "1123\n",
      "1124\n",
      "1125\n",
      "1126\n",
      "1127\n",
      "1128\n",
      "1129\n",
      "1130\n",
      "1131\n",
      "1132\n",
      "1133\n",
      "1134\n",
      "1135\n",
      "1136\n",
      "1137\n",
      "1138\n",
      "1139\n",
      "1140\n",
      "1141\n",
      "1142\n",
      "1143\n",
      "1144\n",
      "1145\n",
      "1146\n",
      "1147\n",
      "1148\n",
      "1149\n",
      "1150\n",
      "1151\n",
      "1152\n",
      "1153\n",
      "1154\n",
      "1155\n",
      "1156\n",
      "1157\n",
      "1158\n",
      "1159\n",
      "1160\n",
      "1161\n",
      "1162\n",
      "1163\n",
      "1164\n",
      "1165\n",
      "1166\n",
      "1167\n",
      "1168\n",
      "1169\n",
      "1170\n",
      "1171\n",
      "1172\n",
      "1173\n",
      "1174\n",
      "1175\n",
      "1176\n",
      "1177\n",
      "1178\n",
      "1179\n",
      "1180\n",
      "1181\n",
      "1182\n",
      "1183\n",
      "1184\n",
      "1185\n",
      "1186\n",
      "1187\n",
      "1188\n",
      "1189\n",
      "1190\n",
      "1191\n",
      "1192\n",
      "1193\n",
      "1194\n",
      "1195\n",
      "1196\n",
      "1197\n",
      "1198\n",
      "1199\n",
      "1200\n",
      "1201\n",
      "1202\n",
      "1203\n",
      "1204\n",
      "1205\n",
      "1206\n",
      "1207\n",
      "1208\n",
      "1209\n",
      "1210\n",
      "1211\n",
      "1212\n",
      "1213\n",
      "1214\n",
      "1215\n",
      "1216\n",
      "1217\n",
      "1218\n",
      "1219\n",
      "1220\n",
      "1221\n",
      "1222\n",
      "1223\n",
      "1224\n",
      "1225\n",
      "1226\n",
      "1227\n",
      "1228\n",
      "1229\n",
      "1230\n",
      "1231\n",
      "1232\n",
      "1233\n",
      "1234\n",
      "1235\n",
      "1236\n",
      "1237\n",
      "1238\n",
      "1239\n",
      "1240\n",
      "1241\n",
      "1242\n",
      "1243\n",
      "1244\n",
      "1245\n",
      "1246\n",
      "1247\n",
      "1248\n",
      "1249\n",
      "1250\n",
      "1251\n",
      "1252\n",
      "1253\n",
      "1254\n",
      "1255\n",
      "1256\n",
      "1257\n",
      "1258\n",
      "1259\n",
      "1260\n",
      "1261\n",
      "1262\n",
      "1263\n",
      "1264\n",
      "1265\n",
      "1266\n",
      "1267\n",
      "1268\n",
      "1269\n",
      "1270\n",
      "1271\n",
      "1272\n",
      "1273\n",
      "1274\n",
      "1275\n",
      "1276\n",
      "1277\n",
      "1278\n",
      "1279\n",
      "1280\n",
      "1281\n",
      "1282\n",
      "1283\n",
      "1284\n",
      "1285\n",
      "1286\n",
      "1287\n",
      "1288\n",
      "1289\n",
      "1290\n",
      "1291\n",
      "1292\n",
      "1293\n",
      "1294\n",
      "1295\n",
      "1296\n",
      "1297\n",
      "1298\n",
      "1299\n",
      "1300\n",
      "1301\n",
      "1302\n",
      "1303\n",
      "1304\n",
      "1305\n",
      "1306\n",
      "1307\n",
      "1308\n",
      "1309\n",
      "1310\n",
      "1311\n",
      "1312\n",
      "1313\n",
      "1314\n",
      "1315\n",
      "1316\n",
      "1317\n",
      "1318\n",
      "1319\n",
      "1320\n",
      "1321\n",
      "1322\n",
      "1323\n",
      "1324\n",
      "1325\n",
      "1326\n",
      "1327\n",
      "1328\n",
      "1329\n",
      "1330\n",
      "1331\n",
      "1332\n",
      "1333\n",
      "1334\n",
      "1335\n",
      "1336\n",
      "1337\n",
      "1338\n",
      "1339\n",
      "1340\n",
      "1341\n",
      "1342\n",
      "1343\n",
      "1344\n",
      "1345\n",
      "1346\n",
      "1347\n",
      "1348\n",
      "1349\n",
      "1350\n",
      "1351\n",
      "1352\n",
      "1353\n",
      "1354\n",
      "1355\n",
      "1356\n",
      "1357\n",
      "1358\n",
      "1359\n",
      "1360\n",
      "1361\n",
      "1362\n",
      "1363\n",
      "1364\n",
      "1365\n",
      "1366\n",
      "1367\n",
      "1368\n",
      "1369\n",
      "1370\n",
      "1371\n",
      "1372\n",
      "1373\n",
      "1374\n",
      "1375\n",
      "1376\n",
      "1377\n",
      "1378\n",
      "1379\n",
      "1380\n",
      "1381\n",
      "1382\n",
      "1383\n",
      "1384\n",
      "1385\n"
     ]
    }
   ],
   "source": [
    "train, test = train_test_split(ratings)"
   ]
  },
  {
   "cell_type": "code",
   "execution_count": 315,
   "metadata": {},
   "outputs": [
    {
     "data": {
      "text/plain": [
       "(array([61, 63, 64, 66], dtype=int64),)"
      ]
     },
     "execution_count": 315,
     "metadata": {},
     "output_type": "execute_result"
    }
   ],
   "source": [
    "# Training articles for user 0\n",
    "train[4].nonzero()"
   ]
  },
  {
   "cell_type": "code",
   "execution_count": 316,
   "metadata": {},
   "outputs": [
    {
     "data": {
      "text/plain": [
       "(array([62, 65], dtype=int64),)"
      ]
     },
     "execution_count": 316,
     "metadata": {},
     "output_type": "execute_result"
    }
   ],
   "source": [
    "# Test articles for user 0\n",
    "test[4].nonzero()"
   ]
  },
  {
   "cell_type": "code",
   "execution_count": 317,
   "metadata": {},
   "outputs": [],
   "source": [
    "from numpy.linalg import solve"
   ]
  },
  {
   "cell_type": "markdown",
   "metadata": {},
   "source": [
    "### Implementing the Mathematical Formulaes discussed - "
   ]
  },
  {
   "cell_type": "markdown",
   "metadata": {},
   "source": [
    "Defining a class with the various methods to execute the parts of the ALS algo"
   ]
  },
  {
   "cell_type": "code",
   "execution_count": 318,
   "metadata": {},
   "outputs": [],
   "source": [
    "class ALS_Algo():\n",
    "    def __init__(self, \n",
    "                 ratings, \n",
    "                 n_factors=40, \n",
    "                 item_reg=0.0, \n",
    "                 user_reg=0.0,\n",
    "                 verbose=False):\n",
    "        \"\"\"\n",
    "        Train a matrix factorization model to predict empty \n",
    "        entries in a matrix. The terminology assumes a \n",
    "        ratings matrix which is ~ user x item\n",
    "        \n",
    "        Params\n",
    "        ======\n",
    "        ratings : (ndarray)\n",
    "            User x Item matrix with corresponding ratings\n",
    "        \n",
    "        n_factors : (int)\n",
    "            Number of latent factors to use in matrix \n",
    "            factorization model\n",
    "        \n",
    "        item_reg : (float)\n",
    "            Regularization term for item latent factors\n",
    "        \n",
    "        user_reg : (float)\n",
    "            Regularization term for user latent factors\n",
    "        \n",
    "        verbose : (bool)\n",
    "            Whether or not to printout training progress\n",
    "        \"\"\"\n",
    "        \n",
    "        self.ratings = ratings\n",
    "        self.n_users, self.n_items = ratings.shape\n",
    "        self.n_factors = n_factors\n",
    "        self.item_reg = item_reg\n",
    "        self.user_reg = user_reg\n",
    "        self._v = verbose\n",
    "\n",
    "    def als_step(self,\n",
    "                 latent_vectors,\n",
    "                 fixed_vecs,\n",
    "                 ratings,\n",
    "                 _lambda,\n",
    "                 type='user'):\n",
    "        \"\"\"\n",
    "        One of the two ALS steps. Solve for the latent vectors\n",
    "        specified by type.\n",
    "        \"\"\"\n",
    "        if type == 'user':\n",
    "            # Precompute\n",
    "            YTY = fixed_vecs.T.dot(fixed_vecs)\n",
    "            lambdaI = np.eye(YTY.shape[0]) * _lambda\n",
    "\n",
    "            for u in range(latent_vectors.shape[0]):\n",
    "                latent_vectors[u, :] = solve((YTY + lambdaI), \n",
    "                                             ratings[u, :].dot(fixed_vecs))\n",
    "        elif type == 'item':\n",
    "            # Precompute\n",
    "            XTX = fixed_vecs.T.dot(fixed_vecs)\n",
    "            lambdaI = np.eye(XTX.shape[0]) * _lambda\n",
    "            \n",
    "            for i in range(latent_vectors.shape[0]):\n",
    "                latent_vectors[i, :] = solve((XTX + lambdaI), \n",
    "                                             ratings[:, i].T.dot(fixed_vecs))\n",
    "        return latent_vectors\n",
    "\n",
    "    def train(self, n_iter=10):\n",
    "        \"\"\" Train model for n_iter iterations from scratch.\"\"\"\n",
    "        # initialize latent vectors\n",
    "        self.user_vecs = np.random.random((self.n_users, self.n_factors))\n",
    "        self.item_vecs = np.random.random((self.n_items, self.n_factors))\n",
    "        \n",
    "        self.partial_train(n_iter)\n",
    "    \n",
    "    def partial_train(self, n_iter):\n",
    "        \"\"\" \n",
    "        Train model for n_iter iterations. Can be \n",
    "        called multiple times for further training.\n",
    "        \"\"\"\n",
    "        ctr = 1\n",
    "        while ctr <= n_iter:\n",
    "            if ctr % 10 == 0 and self._v:\n",
    "                print ('\\tcurrent iteration: {}'.format(ctr))\n",
    "            self.user_vecs = self.als_step(self.user_vecs, \n",
    "                                           self.item_vecs, \n",
    "                                           self.ratings, \n",
    "                                           self.user_reg, \n",
    "                                           type='user')\n",
    "            self.item_vecs = self.als_step(self.item_vecs, \n",
    "                                           self.user_vecs, \n",
    "                                           self.ratings, \n",
    "                                           self.item_reg, \n",
    "                                           type='item')\n",
    "            ctr += 1\n",
    "    \n",
    "    def predict_all(self):\n",
    "        \"\"\" Predict ratings for every user and item. \"\"\"\n",
    "        predictions = np.zeros((self.user_vecs.shape[0], \n",
    "                                self.item_vecs.shape[0]))\n",
    "        for u in range(self.user_vecs.shape[0]):\n",
    "            for i in range(self.item_vecs.shape[0]):\n",
    "                predictions[u, i] = self.predict(u, i)\n",
    "                \n",
    "        return predictions\n",
    "    def predict(self, u, i):\n",
    "        \"\"\" Single user and item prediction. \"\"\"\n",
    "        return self.user_vecs[u, :].dot(self.item_vecs[i, :].T)\n",
    "    \n",
    "    def calculate_learning_curve(self, iter_array, test):\n",
    "        \"\"\"\n",
    "        Keep track of MSE as a function of training iterations.\n",
    "        \n",
    "        Params\n",
    "        ======\n",
    "        iter_array : (list)\n",
    "            List of numbers of iterations to train for each step of \n",
    "            the learning curve. e.g. [1, 5, 10, 20]\n",
    "        test : (2D ndarray)\n",
    "            Testing dataset (assumed to be user x item).\n",
    "        \n",
    "        The function creates two new class attributes:\n",
    "        \n",
    "        train_mse : (list)\n",
    "            Training data MSE values for each value of iter_array\n",
    "        test_mse : (list)\n",
    "            Test data MSE values for each value of iter_array\n",
    "        \"\"\"\n",
    "        iter_array.sort()\n",
    "        self.train_mse =[]\n",
    "        self.test_mse = []\n",
    "        iter_diff = 0\n",
    "        for (i, n_iter) in enumerate(iter_array):\n",
    "            if self._v:\n",
    "                print ('Iteration: {}'.format(n_iter))\n",
    "            if i == 0:\n",
    "                self.train(n_iter - iter_diff)\n",
    "            else:\n",
    "                self.partial_train(n_iter - iter_diff)\n",
    "\n",
    "            predictions = self.predict_all()\n",
    "\n",
    "            self.train_mse += [get_mse(predictions, self.ratings)]\n",
    "            self.test_mse += [get_mse(predictions, test)]\n",
    "            if self._v:\n",
    "                print ('Train mse: ' + str(self.train_mse[-1]))\n",
    "                print ('Test mse: ' + str(self.test_mse[-1]))\n",
    "            iter_diff = n_iter"
   ]
  },
  {
   "cell_type": "code",
   "execution_count": 319,
   "metadata": {},
   "outputs": [],
   "source": [
    "## defining the get_mse function used in the above function\n",
    "from sklearn.metrics import mean_squared_error\n",
    "\n",
    "def get_mse(pred, actual):\n",
    "    # Ignore nonzero terms.\n",
    "    pred = pred[actual.nonzero()].flatten()\n",
    "    actual = actual[actual.nonzero()].flatten()\n",
    "    return mean_squared_error(pred, actual)"
   ]
  },
  {
   "cell_type": "code",
   "execution_count": 320,
   "metadata": {},
   "outputs": [],
   "source": [
    "## function to recommend collaboration based articles using user_id\n",
    "\n",
    "def recommendations_ALS_scratch(model,user_id,num_recommendations):\n",
    "    \n",
    "    # getting user id for ALS Model\n",
    "    user = return_key(user_mapping,user_id)\n",
    "    \n",
    "    recommendations = []\n",
    "    \n",
    "    output_articles = []\n",
    "    \n",
    "    # articles that had already been read by a user\n",
    "    already_read_articles = list(train[user,:].nonzero()[0])\n",
    "      \n",
    "    for item,article in item_mapping.items():\n",
    "        \n",
    "        # so that already interacted articles are not recommended again\n",
    "        if item not in already_read_articles:\n",
    "        \n",
    "            recommendations.append((platform_content[platform_content['item_id']==article]['title'].values[0],model.predict(user,item)))\n",
    "    \n",
    "    # sorting based on the score\n",
    "    recommendations = sorted(recommendations,key=lambda w:w[1], reverse=True)\n",
    "    \n",
    "    for suggested_article,score in recommendations:\n",
    "        \n",
    "        output_articles.append(suggested_article)\n",
    "    \n",
    "    return output_articles[0:num_recommendations]"
   ]
  },
  {
   "cell_type": "code",
   "execution_count": 321,
   "metadata": {},
   "outputs": [],
   "source": [
    "## Initiating the ALS object\n",
    "MF_ALS = ALS_Algo(train, n_factors=40, \\\n",
    "                    user_reg=0.0, item_reg=0.0)\n",
    "\n",
    "# iterations to train and test mse\n",
    "iter_array = [1, 2, 5, 10, 25, 50, 100,500]\n",
    "\n",
    "# calculating mse\n",
    "MF_ALS.calculate_learning_curve(iter_array, test)"
   ]
  },
  {
   "cell_type": "code",
   "execution_count": 322,
   "metadata": {},
   "outputs": [
    {
     "data": {
      "text/plain": [
       "[\"Things you probably didn't know you could do with Chrome's Developer Console\",\n",
       " 'When to make a Git Commit',\n",
       " 'DBA BRASIL no INTEROPMIX 2016',\n",
       " 'The technology behind preview photos',\n",
       " 'Advanced Android Espresso']"
      ]
     },
     "execution_count": 322,
     "metadata": {},
     "output_type": "execute_result"
    }
   ],
   "source": [
    "# using the model to make recommendations\n",
    "recommendations_ALS_scratch(MF_ALS,-8763398617720485024,5)"
   ]
  },
  {
   "cell_type": "code",
   "execution_count": 323,
   "metadata": {},
   "outputs": [],
   "source": [
    "# functions to plot the mse\n",
    "\n",
    "%matplotlib inline\n",
    "import matplotlib.pyplot as plt\n",
    "import seaborn as sns\n",
    "sns.set()\n",
    "\n",
    "def plot_learning_curve(iter_array, model):\n",
    "    plt.plot(iter_array, model.train_mse, \\\n",
    "             label='Training', linewidth=5)\n",
    "    plt.plot(iter_array, model.test_mse, \\\n",
    "             label='Test', linewidth=5)\n",
    "\n",
    "\n",
    "    plt.xticks(fontsize=16);\n",
    "    plt.yticks(fontsize=16);\n",
    "    plt.xlabel('iterations', fontsize=30);\n",
    "    plt.ylabel('MSE', fontsize=30);\n",
    "    plt.legend(loc='best', fontsize=20);"
   ]
  },
  {
   "cell_type": "code",
   "execution_count": 324,
   "metadata": {},
   "outputs": [
    {
     "data": {
      "image/png": "[encoded data removed]",
      "text/plain": [
       "<Figure size 432x288 with 1 Axes>"
      ]
     },
     "metadata": {},
     "output_type": "display_data"
    }
   ],
   "source": [
    "## plotting the mse\n",
    "\n",
    "plot_learning_curve(iter_array, MF_ALS)"
   ]
  },
  {
   "cell_type": "code",
   "execution_count": 325,
   "metadata": {},
   "outputs": [],
   "source": [
    "# Model with an increase Regularisation Value\n",
    "MF_ALS = ALS_Algo(train, n_factors=5,user_reg=0.01, item_reg=0.01)\n",
    "\n",
    "# Calculating MSE\n",
    "iter_array = [1, 2, 5, 10, 25, 50, 100,500]\n",
    "MF_ALS.calculate_learning_curve(iter_array, test)"
   ]
  },
  {
   "cell_type": "code",
   "execution_count": 326,
   "metadata": {},
   "outputs": [
    {
     "data": {
      "image/png": "[encoded data removed]",
      "text/plain": [
       "<Figure size 432x288 with 1 Axes>"
      ]
     },
     "metadata": {},
     "output_type": "display_data"
    }
   ],
   "source": [
    "plot_learning_curve(iter_array, MF_ALS)"
   ]
  },
  {
   "cell_type": "markdown",
   "metadata": {},
   "source": [
    "### Hyper-Parameter Tuning"
   ]
  },
  {
   "cell_type": "code",
   "execution_count": null,
   "metadata": {},
   "outputs": [
    {
     "name": "stdout",
     "output_type": "stream",
     "text": [
      "Factors: 5\n",
      "Regularization: 0.001\n"
     ]
    }
   ],
   "source": [
    "latent_factors = [5,10,20,30,40]\n",
    "regularizations = [0.001,0.01,0.1]\n",
    "regularizations.sort()\n",
    "iter_array = [1000]\n",
    "\n",
    "best_params = {}\n",
    "best_params['n_factors'] = latent_factors[0]\n",
    "best_params['reg'] = regularizations[0]\n",
    "best_params['n_iter'] = 0\n",
    "best_params['train_mse'] = np.inf\n",
    "best_params['test_mse'] = np.inf\n",
    "best_params['model'] = None\n",
    "\n",
    "for fact in latent_factors:\n",
    "    print ('Factors: {}'.format(fact))\n",
    "    for reg in regularizations:\n",
    "        print ('Regularization: {}'.format(reg))\n",
    "        MF_ALS = ALS_Algo(train, n_factors=fact, \\\n",
    "                            user_reg=reg, item_reg=reg)\n",
    "        MF_ALS.calculate_learning_curve(iter_array, test)\n",
    "        min_idx = np.argmin(MF_ALS.test_mse)\n",
    "        if MF_ALS.test_mse[min_idx] < best_params['test_mse']:\n",
    "            best_params['n_factors'] = fact\n",
    "            best_params['reg'] = reg\n",
    "            best_params['n_iter'] = iter_array[min_idx]\n",
    "            best_params['train_mse'] = MF_ALS.train_mse[min_idx]\n",
    "            best_params['test_mse'] = MF_ALS.test_mse[min_idx]\n",
    "            best_params['model'] = MF_ALS\n",
    "            print ('New optimal hyperparameters')\n",
    "            print (pd.Series(best_params))"
   ]
  },
  {
   "cell_type": "code",
   "execution_count": null,
   "metadata": {},
   "outputs": [],
   "source": [
    "best_params"
   ]
  },
  {
   "cell_type": "code",
   "execution_count": null,
   "metadata": {},
   "outputs": [],
   "source": [
    "best_model = ALS_Algo(train, n_factors=10,user_reg=0.001, item_reg=0.001)\n",
    "\n",
    "iter_array = [1,2,5,10,50,100,500,1000]\n",
    "best_model.calculate_learning_curve(iter_array, test)\n",
    "plot_learning_curve(iter_array, best_model)"
   ]
  },
  {
   "cell_type": "code",
   "execution_count": null,
   "metadata": {},
   "outputs": [],
   "source": [
    "best_als_model = best_params['model']"
   ]
  },
  {
   "cell_type": "code",
   "execution_count": null,
   "metadata": {},
   "outputs": [],
   "source": [
    "## recommendations using the best model\n",
    "recommendations_ALS_scratch(best_als_model,1754215888246437356,5)"
   ]
  },
  {
   "cell_type": "markdown",
   "metadata": {},
   "source": [
    "### Hybrid Recommendation System"
   ]
  },
  {
   "cell_type": "markdown",
   "metadata": {},
   "source": [
    "To make a Hybrid model, what we can do is - \n",
    "\n",
    "1. Include the articles which are common to both content and collaboration based recommendation system\n",
    "2. <br>A. Include 2 articles from Content with 1 article from Collaboration and so on. So the weightage given to content will be 66% while 33% to collaboration but they will be placed such that after every 2 recommendation from Content we get one recommendation from collaboration.<br><br>\n",
    "    B. Include 1 article from Collaboration with 1 article from Content and so on. So the weightage given to content will be 50% to each.<br><br>\n",
    "    C. Include 2 articles from Collaboration with 1 article from Content and so on. So the weightage given to Collaboration will be 66% while 33% to content but they will be placed such that after every 2 recommendation from Collaboration we get one recommendation from content.\n",
    "    \n",
    "Lets see which one gives the best results!"
   ]
  },
  {
   "cell_type": "code",
   "execution_count": null,
   "metadata": {},
   "outputs": [],
   "source": [
    "def hybrid_model_recommendations(user_id,hybrid_method):\n",
    "    \n",
    "    content_based = news_recommendation_using_user_id(user_id)\n",
    "    \n",
    "    collaboration_based = recommendations_ALS_scratch(best_als_model,user_id,5)\n",
    "    \n",
    "    common = set(content_based).intersection(set(collaboration_based))\n",
    "    \n",
    "    for article in common:\n",
    "        \n",
    "        content_based.remove(article)\n",
    "        \n",
    "        collaboration_based.remove(article)\n",
    "    \n",
    "    output = []\n",
    "    \n",
    "    output_dict = {}\n",
    "    \n",
    "    output+=list(common)\n",
    "    \n",
    "    if hybrid_method == 1:\n",
    "        \n",
    "        while len(content_based)+len(collaboration_based)>0:\n",
    "                \n",
    "                if len(content_based)>0:\n",
    "                    output.append(content_based.pop(0) )\n",
    "                if len(content_based)>0:\n",
    "                    output.append(content_based.pop(0))\n",
    "                if len(collaboration_based)>0:\n",
    "                    output.append(collaboration_based.pop(0))\n",
    "                    \n",
    "        return output\n",
    "            \n",
    "    if hybrid_method == 2:\n",
    "        \n",
    "        while len(content_based)+len(collaboration_based)>0:\n",
    "                \n",
    "                if len(collaboration_based)>0:\n",
    "                    output.append(collaboration_based.pop(0))\n",
    "                if len(content_based)>0:\n",
    "                    output.append(content_based.pop(0) )\n",
    "                    \n",
    "        return output\n",
    "    \n",
    "    if hybrid_method == 3:\n",
    "        \n",
    "        while len(content_based)+len(collaboration_based)>0:\n",
    "                \n",
    "                if len(collaboration_based)>0:\n",
    "                    output.append(collaboration_based.pop(0) )\n",
    "                if len(collaboration_based)>0:\n",
    "                    output.append(collaboration_based.pop(0))\n",
    "                if len(content_based)>0:\n",
    "                    output.append(content_based.pop(0))\n",
    "                    \n",
    "        return output\n",
    "                    \n",
    "    if hybrid_method == \"All\":\n",
    "        \n",
    "        output_1 = hybrid_model_recommendations(user_id,1)\n",
    "        output_2 = hybrid_model_recommendations(user_id,2)\n",
    "        output_3 = hybrid_model_recommendations(user_id,3)\n",
    "        \n",
    "        output_dict[\"method_1\"] = output_1\n",
    "        output_dict[\"method_2\"] = output_2\n",
    "        output_dict[\"method_3\"] = output_3\n",
    "        \n",
    "        return output_dict"
   ]
  },
  {
   "cell_type": "code",
   "execution_count": null,
   "metadata": {},
   "outputs": [],
   "source": [
    "hybrid_model_recommendations(-9172914609055320039,1)"
   ]
  },
  {
   "cell_type": "markdown",
   "metadata": {},
   "source": [
    "<h2 style=\"text-align:center;\"> Evaluating the Hybrid Model - </h2>"
   ]
  },
  {
   "cell_type": "markdown",
   "metadata": {},
   "source": [
    "<h3 style=\"text-align:center;\">Evaluation Technique -</h3> \n",
    "\n",
    "I will be using <b>Precision @ K</b>, where K=10, to evaluate the model. I am not concerned about the order in which the recommendations are made as I believe that it is with movies that the order matters much. The reason is that movies are 2-3 hours long and it takes time to judge if you actually like one or not. With articles, you can skim through them in a few minutes and move onto the next!\n",
    "\n",
    "Hence for me, I want to make sure that the model makes the maximum number of relevant recommendations without paying much heed to the order of recommendations!\n",
    "\n",
    "<b> Approach </b> - \n",
    "<br><br>\n",
    "We have divided the data set in training and test data set. We take users from the training data and the model predicts 10 articles based on the articles present in the training data set for that user. <br><br>Precision at 10 = (Number of articles recommended that are present in the test dataset for that user)/10"
   ]
  },
  {
   "cell_type": "code",
   "execution_count": null,
   "metadata": {},
   "outputs": [],
   "source": [
    "# Number of users\n",
    "test.shape[0]"
   ]
  },
  {
   "cell_type": "code",
   "execution_count": null,
   "metadata": {},
   "outputs": [],
   "source": [
    "## defined the function for content based recommendations given the list of articles read by a user\n",
    "# precision is the number of recommendations as this will be used to calculate precision at K\n",
    "\n",
    "def content_based_using_list_articles(article_id_list,precision):\n",
    "    \n",
    "    article_dictionary = {}\n",
    "    \n",
    "    item_ids = article_id_list\n",
    "    \n",
    "    for item in item_ids:\n",
    "        news = item_df.loc[item_df.item_id==item] # get the movie row\n",
    "        keywords = process_sentence(news['text_description'].values[0]) #get the keywords as a Series\n",
    "        \n",
    "        query_doc = keywords #set the query_doc to the list of keywords\n",
    "    \n",
    "        query_doc_bow = dictionary.doc2bow(query_doc) # get a bag of words from the query_doc\n",
    "        query_doc_tfidf = tfidf[query_doc_bow] #convert the regular bag of words model to a tf-idf model where we have tuples\n",
    "        # of the article ID and it's tf-idf value for the movie\n",
    "\n",
    "        similarity_array = sims[query_doc_tfidf] \n",
    "\n",
    "        similarity_series = pd.Series(similarity_array.tolist(), index=item_df.item_id.values) #Convert to a Series\n",
    "        top_hits = similarity_series.sort_values(ascending=False)[1:11]\n",
    "        \n",
    "        \n",
    "        for (news_id,score) in zip(top_hits.index,top_hits):\n",
    "            if news_id in article_dictionary:\n",
    "                article_dictionary[news_id]+=score\n",
    "            else:\n",
    "                article_dictionary[news_id] = score\n",
    "        \n",
    "    sorted_items = sorted(article_dictionary.items(), key = \n",
    "             lambda kv:(kv[1], kv[0]),reverse=True)\n",
    "    \n",
    "    top_10_recommendations = []\n",
    "\n",
    "        \n",
    "    for key,value in sorted_items:\n",
    "        if key not in item_ids and len(top_10_recommendations)<precision:\n",
    "            top_10_recommendations.append((key,value))\n",
    "        \n",
    "    output = []\n",
    "        \n",
    "    # Print the top matching articles\n",
    "    for item_id,score in top_10_recommendations:\n",
    "        \n",
    "        output.append(platform_content[platform_content['item_id']==item_id]['title'].values[0])\n",
    "    \n",
    "    return output\n",
    "    "
   ]
  },
  {
   "cell_type": "code",
   "execution_count": null,
   "metadata": {},
   "outputs": [],
   "source": [
    "def evaluate_hyrbrid(hybrid_method=1,precision=10):\n",
    "    \n",
    "    evaluation_metrics = []\n",
    "    \n",
    "    for user in range(test.shape[0]):\n",
    "        \n",
    "        article_ids = []\n",
    "        \n",
    "        training_article_names = []\n",
    "        \n",
    "        print(\"======== user {} out of {} ==============\".format(user,test.shape[0]))\n",
    "        \n",
    "        counter = 0\n",
    "        \n",
    "        test_articles = []\n",
    "        \n",
    "        user_id = user_mapping[user]\n",
    "        \n",
    "        articles_in_train = list(train[user,:].nonzero()[0])\n",
    "        \n",
    "        for article in articles_in_train:\n",
    "                \n",
    "                article_ids.append(item_mapping[article])\n",
    "                \n",
    "        for article in article_ids:\n",
    "            \n",
    "            training_article_names.append(platform_content[platform_content['item_id']==article]['title'].values[0])\n",
    "        \n",
    "        # getting content based recommendations using the given set of article ids in the training set\n",
    "        content_based = content_based_using_list_articles(article_ids,precision)\n",
    "        \n",
    "        # getting collaboration based recommmendations using the als model trained before\n",
    "        collaboration_based = recommendations_ALS_scratch(best_als_model,user_mapping[user],precision)\n",
    "        \n",
    "        # articles in test dataset\n",
    "        articles_in_test = list(test[user,:].nonzero()[0])\n",
    "        \n",
    "        for article in articles_in_test:\n",
    "                \n",
    "                test_articles.append(platform_content[platform_content['item_id']==item_mapping[article]]['title'].values[0])\n",
    "        \n",
    "        # common articles recommended by both training and testing algorithm\n",
    "        common = set(content_based).intersection(set(collaboration_based))\n",
    "        \n",
    "        for article in common:\n",
    "\n",
    "            content_based.remove(article)\n",
    "\n",
    "            collaboration_based.remove(article)\n",
    "\n",
    "        output = []\n",
    "\n",
    "        output+=list(common)\n",
    "        \n",
    "        # For every 2 content based recommendations we have 1 collaboration based recommendation\n",
    "        if hybrid_method == 1:\n",
    "\n",
    "            while len(content_based)+len(collaboration_based)>0:\n",
    "\n",
    "                    if len(content_based)>0:\n",
    "                        output.append(content_based.pop(0) )\n",
    "                    if len(content_based)>0:\n",
    "                        output.append(content_based.pop(0))\n",
    "                    if len(collaboration_based)>0:\n",
    "                        output.append(collaboration_based.pop(0))\n",
    "            \n",
    "            # output has the list of recommendations\n",
    "            for article in output[:precision]:\n",
    "                # if recommended article is there in the test dataset articles, we increase the counter by 1\n",
    "                if article in test_articles:\n",
    "                    counter+=1\n",
    "            \n",
    "            # Precision at k\n",
    "            evaluation_metrics.append((counter/precision))\n",
    "            \n",
    "            print(counter)\n",
    "\n",
    "            \n",
    "        # equal weightage to content and collaboration based recommendations\n",
    "        if hybrid_method == 2:\n",
    "\n",
    "            while len(content_based)+len(collaboration_based)>0:\n",
    "\n",
    "                    if len(collaboration_based)>0:\n",
    "                        output.append(collaboration_based.pop(0))\n",
    "                    if len(content_based)>0:\n",
    "                        output.append(content_based.pop(0) )\n",
    "\n",
    "            for article in output[:precision]:\n",
    "                if article in test_articles:\n",
    "                    counter+=1\n",
    "            \n",
    "            \n",
    "            evaluation_metrics.append((counter/precision))\n",
    "            \n",
    "            print(counter)\n",
    "        \n",
    "        # for every 2 collaboration based recommendations we have 1 content based recommendation\n",
    "        if hybrid_method == 3:\n",
    "\n",
    "            while len(content_based)+len(collaboration_based)>0:\n",
    "\n",
    "                    if len(collaboration_based)>0:\n",
    "                        output.append(collaboration_based.pop(0) )\n",
    "                    if len(collaboration_based)>0:\n",
    "                        output.append(collaboration_based.pop(0))\n",
    "                    if len(content_based)>0:\n",
    "                        output.append(content_based.pop(0))\n",
    "\n",
    "            for article in output[:precision]:\n",
    "                if article in test_articles:\n",
    "                    counter+=1\n",
    "            \n",
    "            \n",
    "            evaluation_metrics.append((counter/precision))\n",
    "            \n",
    "            print(counter)\n",
    "        \n",
    "        ## for every 3 content based recommendations, we have 1 collaboration based recommendation\n",
    "        ## for a Precision@10 that amounts to 80% weightage to content based recommendations\n",
    "        if hybrid_method == \"80_content\":\n",
    "\n",
    "            while len(content_based)+len(collaboration_based)>0:\n",
    "\n",
    "                    if len(content_based)>0:\n",
    "                        output.append(content_based.pop(0) )\n",
    "                    if len(content_based)>0:\n",
    "                        output.append(content_based.pop(0))\n",
    "                    if len(content_based)>0:\n",
    "                        output.append(content_based.pop(0))\n",
    "                    if len(collaboration_based)>0:\n",
    "                        output.append(collaboration_based.pop(0))\n",
    "\n",
    "            for article in output[:precision]:\n",
    "                if article in test_articles:\n",
    "                    counter+=1\n",
    "            \n",
    "            \n",
    "            evaluation_metrics.append((counter/precision))\n",
    "            \n",
    "            print(counter)\n",
    "        \n",
    "        ## for every 3 collaboration based recommendations, we have 1 content based recommendation\n",
    "        ## for a Precision@10 that amounts to 80% weightage to collaboration based recommendations\n",
    "        if hybrid_method == \"80_collab\":\n",
    "\n",
    "            while len(content_based)+len(collaboration_based)>0:\n",
    "\n",
    "                    if len(collaboration_based)>0:\n",
    "                        output.append(collaboration_based.pop(0) )\n",
    "                    if len(collaboration_based)>0:\n",
    "                        output.append(collaboration_based.pop(0))\n",
    "                    if len(collaboration_based)>0:\n",
    "                        output.append(collaboration_based.pop(0))\n",
    "                    if len(content_based)>0:\n",
    "                        output.append(content_based.pop(0))\n",
    "\n",
    "            for article in output[:precision]:\n",
    "                if article in test_articles:\n",
    "                    counter+=1\n",
    "            \n",
    "            \n",
    "            evaluation_metrics.append((counter/precision))\n",
    "            \n",
    "            print(counter)\n",
    "\n",
    "    \n",
    "        if user%10 == 0:\n",
    "\n",
    "            print(\"=============dumping into Pickle==========================\")\n",
    "            \n",
    "            with open('precision_hybrid_'+str(hybrid_method)+'_precision_'+str(precision)+'.pickle', 'wb') as handle:\n",
    "                pickle.dump(evaluation_metrics, handle, protocol=pickle.HIGHEST_PROTOCOL)\n",
    "            \n",
    "            print(\"Precision @ {} = {}\".format(precision,np.mean(evaluation_metrics)))\n",
    "\n",
    "    print(\"Precision @ {} = {}\".format(precision,np.mean(evaluation_metrics)))\n",
    "    \n",
    "    return evaluation_metrics"
   ]
  },
  {
   "cell_type": "code",
   "execution_count": null,
   "metadata": {},
   "outputs": [],
   "source": [
    "import os.path"
   ]
  },
  {
   "cell_type": "code",
   "execution_count": null,
   "metadata": {},
   "outputs": [],
   "source": [
    "## checking precision @ 10 for the first method\n",
    "if not os.path.isfile('precision_hybrid_1_precision_10.pickle'):\n",
    "    precision_at_10_list = evaluate_hyrbrid(hybrid_method=1,precision=10)\n",
    "else:\n",
    "    with open('precision_hybrid_1_precision_10.pickle', 'rb') as handle:\n",
    "        precision_at_10_list = pickle.load(handle)"
   ]
  },
  {
   "cell_type": "code",
   "execution_count": null,
   "metadata": {},
   "outputs": [],
   "source": [
    "print(\"Precision @ 10 for first Method - {}\".format(np.mean(precision_at_10_list)))"
   ]
  },
  {
   "cell_type": "code",
   "execution_count": null,
   "metadata": {},
   "outputs": [],
   "source": [
    "if not os.path.isfile('precision_hybrid_2_precision_10.pickle'):\n",
    "    precision_at_10_list_method_2 = evaluate_hyrbrid(hybrid_method=2,precision=10)\n",
    "else:\n",
    "    with open('precision_hybrid_2_precision_10.pickle', 'rb') as handle:\n",
    "        precision_at_10_list_method_2 = pickle.load(handle)"
   ]
  },
  {
   "cell_type": "code",
   "execution_count": null,
   "metadata": {},
   "outputs": [],
   "source": [
    "print(\"Precision @10 for Second Method - \",np.mean(precision_at_10_list_method_2))"
   ]
  },
  {
   "cell_type": "code",
   "execution_count": null,
   "metadata": {},
   "outputs": [],
   "source": [
    "if not os.path.isfile('precision_hybrid_3_precision_10.pickle'):\n",
    "    precision_at_10_list_method_3 = evaluate_hyrbrid(hybrid_method=3,precision=10)\n",
    "else:\n",
    "    with open('precision_hybrid_3_precision_10.pickle', 'rb') as handle:\n",
    "        precision_at_10_list_method_3 = pickle.load(handle)"
   ]
  },
  {
   "cell_type": "code",
   "execution_count": null,
   "metadata": {},
   "outputs": [],
   "source": [
    "print(\"Precision @10 for Third Method - \",np.mean(precision_at_10_list_method_3))"
   ]
  },
  {
   "cell_type": "code",
   "execution_count": null,
   "metadata": {},
   "outputs": [],
   "source": [
    "if not os.path.isfile('precision_hybrid_80_collab_precision_10.pickle'):\n",
    "    precision_at_10_list_final_v2 = evaluate_hyrbrid(hybrid_method=\"80_collab\",precision=10)\n",
    "else:\n",
    "    with open('precision_hybrid_80_collab_precision_10.pickle', 'rb') as handle:\n",
    "        precision_at_10_list_final_v2 = pickle.load(handle)"
   ]
  },
  {
   "cell_type": "code",
   "execution_count": null,
   "metadata": {},
   "outputs": [],
   "source": [
    "print(\"Precision @10 for 80% weightage to Collaboration based model - \",np.mean(precision_at_10_list_final_v2))"
   ]
  },
  {
   "cell_type": "code",
   "execution_count": null,
   "metadata": {},
   "outputs": [],
   "source": [
    "if not os.path.isfile('precision_hybrid_80_content_precision_10.pickle'):\n",
    "    precision_at_10_list_final = evaluate_hyrbrid(hybrid_method=\"80_content\",precision=10)\n",
    "else:\n",
    "    with open('precision_hybrid_80_content_precision_10.pickle', 'rb') as handle:\n",
    "        precision_at_10_list_final = pickle.load(handle)"
   ]
  },
  {
   "cell_type": "code",
   "execution_count": null,
   "metadata": {},
   "outputs": [],
   "source": [
    "print(\"Precision @10 for 80% weightage to content based model - \",np.mean(precision_at_10_list_final))"
   ]
  },
  {
   "cell_type": "markdown",
   "metadata": {},
   "source": [
    "<h1 style=\"text-align:center;\"> Final Observations </h1>"
   ]
  },
  {
   "cell_type": "markdown",
   "metadata": {},
   "source": [
    "==============================================================================\n",
    "<h3 style=\"text-align:center;\">Precision @ 10 for various cases - </h3>\n",
    "\n",
    "<br><br>Case 1: 80% Content Based & 20% Collaboration Based = 0.042\n",
    "\n",
    "Case 2: 66% Content Based & 33% Collaboration Based = 0.046\n",
    "\n",
    "Case 3: 50% Content Based & 50% Collaboration Based = 0.051\n",
    "\n",
    "Case 4: 33% Content Based and 66% Collaboration Based = 0.053\n",
    "\n",
    "<b>Case 5: 20% Content Based and 80% Collaboration Based = 0.056</b><br>\n",
    "\n",
    "================================================================================="
   ]
  },
  {
   "cell_type": "markdown",
   "metadata": {},
   "source": [
    "### Making the User-Item Profile\n",
    "\n",
    "#### This can be used to make recommendations based on user-user similarity.\n",
    "###### Did this in this assignment as it was part of an evaluation rubric"
   ]
  },
  {
   "cell_type": "code",
   "execution_count": null,
   "metadata": {},
   "outputs": [],
   "source": [
    "user_item['count'] = 1"
   ]
  },
  {
   "cell_type": "code",
   "execution_count": null,
   "metadata": {},
   "outputs": [],
   "source": [
    "user_item_profile = user_item.pivot_table(index='consumer_id',columns=['item_id'],values='count')"
   ]
  },
  {
   "cell_type": "code",
   "execution_count": null,
   "metadata": {},
   "outputs": [],
   "source": [
    "user_item_profile.head()"
   ]
  },
  {
   "cell_type": "markdown",
   "metadata": {},
   "source": [
    "### Calculating user similarity matrix\n",
    "\n",
    "##### Used cosine similarity as the measure of similarity"
   ]
  },
  {
   "cell_type": "code",
   "execution_count": null,
   "metadata": {},
   "outputs": [],
   "source": [
    "from sklearn.metrics.pairwise import cosine_similarity"
   ]
  },
  {
   "cell_type": "code",
   "execution_count": null,
   "metadata": {},
   "outputs": [],
   "source": [
    "user_item_profile.fillna(0,inplace=True)"
   ]
  },
  {
   "cell_type": "code",
   "execution_count": null,
   "metadata": {},
   "outputs": [],
   "source": [
    "# user similarity matrix\n",
    "user_sim = cosine_similarity(user_item_profile)"
   ]
  },
  {
   "cell_type": "code",
   "execution_count": null,
   "metadata": {},
   "outputs": [],
   "source": [
    "# this is used to get to the top n elements of a list\n",
    "import heapq"
   ]
  },
  {
   "cell_type": "code",
   "execution_count": null,
   "metadata": {},
   "outputs": [],
   "source": [
    "def get_key(val):\n",
    "    for key, value in user_id_mapping.items():\n",
    "         if val == value:\n",
    "                return key"
   ]
  },
  {
   "cell_type": "code",
   "execution_count": null,
   "metadata": {},
   "outputs": [],
   "source": [
    "def get_similar_users(user_id,n_users):\n",
    "    \n",
    "    sim_vector_user = user_sim[user_id_mapping[user_id]]\n",
    "    \n",
    "    users = heapq.nlargest(n_users+1, range(len(sim_vector_user)), key=sim_vector_user.__getitem__)[1:]\n",
    "    \n",
    "    similar_users = []\n",
    "    \n",
    "    articles_by_user = set(user_item_verify[user_item_verify['consumer_id']==user_id]['title'].unique())\n",
    "    \n",
    "    for sim_user in users:\n",
    "        \n",
    "        articles_by_sim_user = set(user_item_verify[user_item_verify['consumer_id']==get_key(sim_user)]['title'].unique())\n",
    "        \n",
    "        common_articles = len(articles_by_user.intersection(articles_by_sim_user))\n",
    "        \n",
    "        similar_users.append((get_key(sim_user),common_articles))\n",
    "    \n",
    "    print(\"Similar Users to {} - \".format(user_id))\n",
    "    for costumer,common_count in similar_users:\n",
    "        \n",
    "        print(\"User '{}' with {} common articles read\".format(costumer,common_count))"
   ]
  },
  {
   "cell_type": "code",
   "execution_count": null,
   "metadata": {},
   "outputs": [],
   "source": [
    "get_similar_users(1202287501580555390,5)"
   ]
  },
  {
   "cell_type": "markdown",
   "metadata": {},
   "source": [
    "### Item Similarity matrix has already been created using GenSim Library above while making the context based recommendation system"
   ]
  }
 ],
 "metadata": {
  "kernelspec": {
   "display_name": "Python 3",
   "language": "python",
   "name": "python3"
  },
  "language_info": {
   "codemirror_mode": {
    "name": "ipython",
    "version": 3
   },
   "file_extension": ".py",
   "mimetype": "text/x-python",
   "name": "python",
   "nbconvert_exporter": "python",
   "pygments_lexer": "ipython3",
   "version": "3.8.3"
  }
 },
 "nbformat": 4,
 "nbformat_minor": 4
}
