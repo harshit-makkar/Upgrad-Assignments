{
 "cells": [
  {
   "cell_type": "code",
   "execution_count": 2,
   "metadata": {},
   "outputs": [],
   "source": [
    "import numpy as np\n",
    "import pandas as pd\n",
    "import matplotlib.pyplot as plt\n",
    "import seaborn as sns\n",
    "from sklearn.model_selection import train_test_split"
   ]
  },
  {
   "cell_type": "code",
   "execution_count": 3,
   "metadata": {},
   "outputs": [
    {
     "name": "stderr",
     "output_type": "stream",
     "text": [
      "C:\\Users\\Dell\\anaconda3\\lib\\site-packages\\IPython\\core\\interactiveshell.py:3071: DtypeWarning: Columns (4) have mixed types.Specify dtype option on import or set low_memory=False.\n",
      "  has_raised = await self.run_ast_nodes(code_ast.body, cell_name,\n"
     ]
    }
   ],
   "source": [
    "consumer_transactions = pd.read_csv('consumer_transanctions.csv')\n",
    "platform_content = pd.read_csv('platform_content.csv')"
   ]
  },
  {
   "cell_type": "code",
   "execution_count": 4,
   "metadata": {},
   "outputs": [
    {
     "data": {
      "text/html": [
       "<div>\n",
       "<style scoped>\n",
       "    .dataframe tbody tr th:only-of-type {\n",
       "        vertical-align: middle;\n",
       "    }\n",
       "\n",
       "    .dataframe tbody tr th {\n",
       "        vertical-align: top;\n",
       "    }\n",
       "\n",
       "    .dataframe thead th {\n",
       "        text-align: right;\n",
       "    }\n",
       "</style>\n",
       "<table border=\"1\" class=\"dataframe\">\n",
       "  <thead>\n",
       "    <tr style=\"text-align: right;\">\n",
       "      <th></th>\n",
       "      <th>event_timestamp</th>\n",
       "      <th>interaction_type</th>\n",
       "      <th>item_id</th>\n",
       "      <th>consumer_id</th>\n",
       "      <th>consumer_session_id</th>\n",
       "      <th>consumer_device_info</th>\n",
       "      <th>consumer_location</th>\n",
       "      <th>country</th>\n",
       "    </tr>\n",
       "  </thead>\n",
       "  <tbody>\n",
       "    <tr>\n",
       "      <th>0</th>\n",
       "      <td>1465413032</td>\n",
       "      <td>content_watched</td>\n",
       "      <td>-3499919498720038879</td>\n",
       "      <td>-8845298781299428018</td>\n",
       "      <td>1264196770339959068</td>\n",
       "      <td>NaN</td>\n",
       "      <td>NaN</td>\n",
       "      <td>NaN</td>\n",
       "    </tr>\n",
       "    <tr>\n",
       "      <th>1</th>\n",
       "      <td>1465412560</td>\n",
       "      <td>content_watched</td>\n",
       "      <td>8890720798209849691</td>\n",
       "      <td>-1032019229384696495</td>\n",
       "      <td>3621737643587579081</td>\n",
       "      <td>Mozilla/5.0 (Macintosh; Intel Mac OS X 10_11_2...</td>\n",
       "      <td>NY</td>\n",
       "      <td>US</td>\n",
       "    </tr>\n",
       "    <tr>\n",
       "      <th>2</th>\n",
       "      <td>1465416190</td>\n",
       "      <td>content_watched</td>\n",
       "      <td>310515487419366995</td>\n",
       "      <td>-1130272294246983140</td>\n",
       "      <td>2631864456530402479</td>\n",
       "      <td>NaN</td>\n",
       "      <td>NaN</td>\n",
       "      <td>NaN</td>\n",
       "    </tr>\n",
       "    <tr>\n",
       "      <th>3</th>\n",
       "      <td>1465413895</td>\n",
       "      <td>content_followed</td>\n",
       "      <td>310515487419366995</td>\n",
       "      <td>344280948527967603</td>\n",
       "      <td>-3167637573980064150</td>\n",
       "      <td>NaN</td>\n",
       "      <td>NaN</td>\n",
       "      <td>NaN</td>\n",
       "    </tr>\n",
       "    <tr>\n",
       "      <th>4</th>\n",
       "      <td>1465412290</td>\n",
       "      <td>content_watched</td>\n",
       "      <td>-7820640624231356730</td>\n",
       "      <td>-445337111692715325</td>\n",
       "      <td>561148 1178424124714</td>\n",
       "      <td>NaN</td>\n",
       "      <td>NaN</td>\n",
       "      <td>NaN</td>\n",
       "    </tr>\n",
       "  </tbody>\n",
       "</table>\n",
       "</div>"
      ],
      "text/plain": [
       "   event_timestamp  interaction_type              item_id  \\\n",
       "0       1465413032   content_watched -3499919498720038879   \n",
       "1       1465412560   content_watched  8890720798209849691   \n",
       "2       1465416190   content_watched   310515487419366995   \n",
       "3       1465413895  content_followed   310515487419366995   \n",
       "4       1465412290   content_watched -7820640624231356730   \n",
       "\n",
       "           consumer_id   consumer_session_id  \\\n",
       "0 -8845298781299428018   1264196770339959068   \n",
       "1 -1032019229384696495   3621737643587579081   \n",
       "2 -1130272294246983140   2631864456530402479   \n",
       "3   344280948527967603  -3167637573980064150   \n",
       "4  -445337111692715325  561148 1178424124714   \n",
       "\n",
       "                                consumer_device_info consumer_location country  \n",
       "0                                                NaN               NaN     NaN  \n",
       "1  Mozilla/5.0 (Macintosh; Intel Mac OS X 10_11_2...                NY      US  \n",
       "2                                                NaN               NaN     NaN  \n",
       "3                                                NaN               NaN     NaN  \n",
       "4                                                NaN               NaN     NaN  "
      ]
     },
     "execution_count": 4,
     "metadata": {},
     "output_type": "execute_result"
    }
   ],
   "source": [
    "consumer_transactions.head()"
   ]
  },
  {
   "cell_type": "code",
   "execution_count": 5,
   "metadata": {},
   "outputs": [
    {
     "data": {
      "text/plain": [
       "content_watched         61086\n",
       "content_liked            5745\n",
       "content_saved            2463\n",
       "content_commented_on     1611\n",
       "content_followed         1407\n",
       "Name: interaction_type, dtype: int64"
      ]
     },
     "execution_count": 5,
     "metadata": {},
     "output_type": "execute_result"
    }
   ],
   "source": [
    "consumer_transactions['interaction_type'].value_counts()"
   ]
  },
  {
   "cell_type": "markdown",
   "metadata": {},
   "source": [
    "### Content Watched, Liked, Saved, Commented on or Followed - all suggest an interest in the topic of the article. Hence all these interactions can be kept for the system to use while suggesting recommendations"
   ]
  },
  {
   "cell_type": "code",
   "execution_count": 6,
   "metadata": {},
   "outputs": [
    {
     "data": {
      "text/plain": [
       "<matplotlib.axes._subplots.AxesSubplot at 0x1d95b80dc10>"
      ]
     },
     "execution_count": 6,
     "metadata": {},
     "output_type": "execute_result"
    },
    {
     "data": {
      "image/png": "[encoded data removed]",
      "text/plain": [
       "<Figure size 720x360 with 1 Axes>"
      ]
     },
     "metadata": {
      "needs_background": "light"
     },
     "output_type": "display_data"
    }
   ],
   "source": [
    "ax = plt.figure(figsize=(10,5))\n",
    "sns.barplot(x=consumer_transactions['interaction_type'].value_counts().index,y=consumer_transactions['interaction_type'].value_counts().values)"
   ]
  },
  {
   "cell_type": "code",
   "execution_count": 7,
   "metadata": {},
   "outputs": [],
   "source": [
    "#platform_content.head()"
   ]
  },
  {
   "cell_type": "code",
   "execution_count": 8,
   "metadata": {},
   "outputs": [
    {
     "data": {
      "text/plain": [
       "event_timestamp         False\n",
       "interaction_type        False\n",
       "item_id                 False\n",
       "consumer_id             False\n",
       "consumer_session_id     False\n",
       "consumer_device_info     True\n",
       "consumer_location        True\n",
       "country                  True\n",
       "dtype: bool"
      ]
     },
     "execution_count": 8,
     "metadata": {},
     "output_type": "execute_result"
    }
   ],
   "source": [
    "consumer_transactions.isnull().any()"
   ]
  },
  {
   "cell_type": "code",
   "execution_count": 9,
   "metadata": {},
   "outputs": [
    {
     "data": {
      "text/plain": [
       "event_timestamp         False\n",
       "interaction_type        False\n",
       "item_id                 False\n",
       "producer_id             False\n",
       "producer_session_id     False\n",
       "producer_device_info     True\n",
       "producer_location        True\n",
       "producer_country         True\n",
       "item_type               False\n",
       "item_url                False\n",
       "title                   False\n",
       "text_description        False\n",
       "language                False\n",
       "dtype: bool"
      ]
     },
     "execution_count": 9,
     "metadata": {},
     "output_type": "execute_result"
    }
   ],
   "source": [
    "platform_content.isnull().any()"
   ]
  },
  {
   "cell_type": "code",
   "execution_count": 10,
   "metadata": {},
   "outputs": [],
   "source": [
    "#platform_content['item_id'].nunique()"
   ]
  },
  {
   "cell_type": "code",
   "execution_count": 11,
   "metadata": {},
   "outputs": [],
   "source": [
    "content_info= platform_content.groupby('item_id').agg({\"title\":\"first\",\"text_description\":\"first\",\"language\":\"first\"})"
   ]
  },
  {
   "cell_type": "code",
   "execution_count": 12,
   "metadata": {},
   "outputs": [],
   "source": [
    "#len(content_info)"
   ]
  },
  {
   "cell_type": "code",
   "execution_count": 13,
   "metadata": {},
   "outputs": [],
   "source": [
    "user_item = consumer_transactions.groupby(['consumer_id','item_id'],as_index=False).agg({\"interaction_type\":'first',\"country\":\"first\"})"
   ]
  },
  {
   "cell_type": "code",
   "execution_count": 14,
   "metadata": {},
   "outputs": [],
   "source": [
    "#user_item.head()"
   ]
  },
  {
   "cell_type": "code",
   "execution_count": 15,
   "metadata": {},
   "outputs": [],
   "source": [
    "#len(user_item) #40710"
   ]
  },
  {
   "cell_type": "code",
   "execution_count": 16,
   "metadata": {},
   "outputs": [],
   "source": [
    "user_item = user_item.merge(right=content_info,on='item_id',how='left')"
   ]
  },
  {
   "cell_type": "code",
   "execution_count": 17,
   "metadata": {},
   "outputs": [],
   "source": [
    "#user_item.head()"
   ]
  },
  {
   "cell_type": "code",
   "execution_count": 18,
   "metadata": {},
   "outputs": [
    {
     "data": {
      "text/plain": [
       "consumer_id         False\n",
       "item_id             False\n",
       "interaction_type    False\n",
       "country              True\n",
       "title               False\n",
       "text_description    False\n",
       "language            False\n",
       "dtype: bool"
      ]
     },
     "execution_count": 18,
     "metadata": {},
     "output_type": "execute_result"
    }
   ],
   "source": [
    "user_item.isnull().any()"
   ]
  },
  {
   "cell_type": "code",
   "execution_count": 19,
   "metadata": {},
   "outputs": [
    {
     "data": {
      "text/plain": [
       "en    26206\n",
       "pt    14449\n",
       "la       26\n",
       "ja       23\n",
       "es        6\n",
       "Name: language, dtype: int64"
      ]
     },
     "execution_count": 19,
     "metadata": {},
     "output_type": "execute_result"
    }
   ],
   "source": [
    "user_item.language.value_counts()"
   ]
  },
  {
   "cell_type": "code",
   "execution_count": 20,
   "metadata": {},
   "outputs": [
    {
     "data": {
      "text/plain": [
       "<matplotlib.axes._subplots.AxesSubplot at 0x1d95bf99f40>"
      ]
     },
     "execution_count": 20,
     "metadata": {},
     "output_type": "execute_result"
    },
    {
     "data": {
      "image/png": "[encoded data removed]",
      "text/plain": [
       "<Figure size 432x288 with 1 Axes>"
      ]
     },
     "metadata": {
      "needs_background": "light"
     },
     "output_type": "display_data"
    }
   ],
   "source": [
    "sns.countplot(x=user_item.language)"
   ]
  },
  {
   "cell_type": "code",
   "execution_count": 21,
   "metadata": {},
   "outputs": [],
   "source": [
    "# keeping articles of language English and Portugese only as the rest are just 0.25% of the whole dataset\n",
    "user_item = user_item[user_item['language'].isin(['en','pt'])]"
   ]
  },
  {
   "cell_type": "code",
   "execution_count": 22,
   "metadata": {},
   "outputs": [],
   "source": [
    "user_item['counter'] = 1"
   ]
  },
  {
   "cell_type": "code",
   "execution_count": 23,
   "metadata": {},
   "outputs": [],
   "source": [
    "user_item_copy = user_item.copy(deep=True)"
   ]
  },
  {
   "cell_type": "code",
   "execution_count": 24,
   "metadata": {},
   "outputs": [],
   "source": [
    "item_counter = user_item_copy.groupby(['item_id']).agg({\"counter\":sum}).reset_index()"
   ]
  },
  {
   "cell_type": "code",
   "execution_count": 25,
   "metadata": {},
   "outputs": [],
   "source": [
    "items_consumed_atleast_five_users = list(item_counter[item_counter['counter']>=5]['item_id'].unique())"
   ]
  },
  {
   "cell_type": "code",
   "execution_count": 26,
   "metadata": {},
   "outputs": [],
   "source": [
    "user_item = user_item[user_item['item_id'].isin(items_consumed_atleast_five_users)]"
   ]
  },
  {
   "cell_type": "code",
   "execution_count": 27,
   "metadata": {},
   "outputs": [],
   "source": [
    "user_item.drop('counter',inplace=True,axis=1)"
   ]
  },
  {
   "cell_type": "markdown",
   "metadata": {},
   "source": [
    "#### Stratified Trait Test Split of Data"
   ]
  },
  {
   "cell_type": "code",
   "execution_count": 28,
   "metadata": {},
   "outputs": [],
   "source": [
    "user_item_train, user_item_test  = train_test_split(user_item,train_size=0.75, random_state=42,stratify=user_item['language'])"
   ]
  },
  {
   "cell_type": "code",
   "execution_count": 29,
   "metadata": {},
   "outputs": [],
   "source": [
    "user_item_verify = user_item.copy(deep=True)\n",
    "user_item_verify_train = user_item_train.copy(deep=True)\n",
    "user_item_verify_test = user_item_test.copy(deep=True)"
   ]
  },
  {
   "cell_type": "code",
   "execution_count": 30,
   "metadata": {},
   "outputs": [
    {
     "name": "stderr",
     "output_type": "stream",
     "text": [
      "C:\\Users\\Dell\\anaconda3\\lib\\site-packages\\pandas\\core\\frame.py:3990: SettingWithCopyWarning: \n",
      "A value is trying to be set on a copy of a slice from a DataFrame\n",
      "\n",
      "See the caveats in the documentation: https://pandas.pydata.org/pandas-docs/stable/user_guide/indexing.html#returning-a-view-versus-a-copy\n",
      "  return super().drop(\n"
     ]
    }
   ],
   "source": [
    "# country will not have much weightage in the article to recommend as would the content of the article\n",
    "# language too will not be explicitly needed. The content of the article read will itself help in identifying the language\n",
    "# title too is not needed seperately as the text description will entail the title in its content\n",
    "# interaction_type are all positive and hence they need to be seperately marked\n",
    "user_item.drop(['country','title','language','interaction_type'],inplace=True,axis=1)\n",
    "user_item_train.drop(['country','title','language','interaction_type'],inplace=True,axis=1)\n",
    "user_item_test.drop(['country','title','language','interaction_type'],inplace=True,axis=1)"
   ]
  },
  {
   "cell_type": "code",
   "execution_count": 31,
   "metadata": {},
   "outputs": [
    {
     "data": {
      "text/plain": [
       "28889"
      ]
     },
     "execution_count": 31,
     "metadata": {},
     "output_type": "execute_result"
    }
   ],
   "source": [
    "len(user_item_train)"
   ]
  },
  {
   "cell_type": "code",
   "execution_count": 32,
   "metadata": {},
   "outputs": [
    {
     "data": {
      "text/plain": [
       "9630"
      ]
     },
     "execution_count": 32,
     "metadata": {},
     "output_type": "execute_result"
    }
   ],
   "source": [
    "len(user_item_test)"
   ]
  },
  {
   "cell_type": "code",
   "execution_count": 33,
   "metadata": {},
   "outputs": [],
   "source": [
    "user_item_train.reset_index(inplace=True,drop=True)\n",
    "user_item_test.reset_index(inplace=True,drop=True)"
   ]
  },
  {
   "cell_type": "markdown",
   "metadata": {},
   "source": [
    "## Content Based Recommendation - "
   ]
  },
  {
   "cell_type": "markdown",
   "metadata": {},
   "source": [
    "### Using the training dataset to form the vocabularity to be used while recommending similar articles"
   ]
  },
  {
   "cell_type": "code",
   "execution_count": 30,
   "metadata": {},
   "outputs": [
    {
     "name": "stderr",
     "output_type": "stream",
     "text": [
      "[nltk_data] Downloading package punkt to\n",
      "[nltk_data]     C:\\Users\\Dell\\AppData\\Roaming\\nltk_data...\n",
      "[nltk_data]   Package punkt is already up-to-date!\n"
     ]
    },
    {
     "data": {
      "text/plain": [
       "True"
      ]
     },
     "execution_count": 30,
     "metadata": {},
     "output_type": "execute_result"
    }
   ],
   "source": [
    "import nltk\n",
    "nltk.download('punkt')"
   ]
  },
  {
   "cell_type": "code",
   "execution_count": 31,
   "metadata": {},
   "outputs": [],
   "source": [
    "item_df = user_item[['item_id','text_description']].drop_duplicates()"
   ]
  },
  {
   "cell_type": "code",
   "execution_count": 32,
   "metadata": {},
   "outputs": [],
   "source": [
    "item_df.reset_index(inplace=True)"
   ]
  },
  {
   "cell_type": "code",
   "execution_count": 33,
   "metadata": {},
   "outputs": [],
   "source": [
    "item_df.drop('index',inplace=True,axis=1)"
   ]
  },
  {
   "cell_type": "code",
   "execution_count": 34,
   "metadata": {},
   "outputs": [],
   "source": [
    "keywords = item_df['text_description'].tolist()"
   ]
  },
  {
   "cell_type": "code",
   "execution_count": 35,
   "metadata": {},
   "outputs": [
    {
     "data": {
      "text/plain": [
       "2105"
      ]
     },
     "execution_count": 35,
     "metadata": {},
     "output_type": "execute_result"
    }
   ],
   "source": [
    "len(keywords)"
   ]
  },
  {
   "cell_type": "code",
   "execution_count": 36,
   "metadata": {},
   "outputs": [],
   "source": [
    "from nltk.tokenize import RegexpTokenizer\n",
    "\n",
    "tokenizer = RegexpTokenizer(r'\\w+')\n",
    "keywords = [tokenizer.tokenize(keyword.lower()) for keyword in keywords]"
   ]
  },
  {
   "cell_type": "code",
   "execution_count": 37,
   "metadata": {},
   "outputs": [
    {
     "name": "stderr",
     "output_type": "stream",
     "text": [
      "[nltk_data] Downloading package stopwords to\n",
      "[nltk_data]     C:\\Users\\Dell\\AppData\\Roaming\\nltk_data...\n",
      "[nltk_data]   Package stopwords is already up-to-date!\n"
     ]
    },
    {
     "data": {
      "text/plain": [
       "True"
      ]
     },
     "execution_count": 37,
     "metadata": {},
     "output_type": "execute_result"
    }
   ],
   "source": [
    "from nltk.corpus import stopwords\n",
    "nltk.download('stopwords')"
   ]
  },
  {
   "cell_type": "code",
   "execution_count": 38,
   "metadata": {},
   "outputs": [],
   "source": [
    "stop_words_en = stopwords.words('english')\n",
    "stop_words_pte = stopwords.words('portuguese')"
   ]
  },
  {
   "cell_type": "code",
   "execution_count": 39,
   "metadata": {},
   "outputs": [],
   "source": [
    "stop_words = set(stop_words_en+stop_words_pte)"
   ]
  },
  {
   "cell_type": "code",
   "execution_count": 40,
   "metadata": {},
   "outputs": [],
   "source": [
    "for words in keywords:\n",
    "    for word in words:\n",
    "        if (word in stop_words or word.isnumeric()==True):\n",
    "            words.remove(word)"
   ]
  },
  {
   "cell_type": "code",
   "execution_count": 41,
   "metadata": {},
   "outputs": [
    {
     "data": {
      "image/png": "[encoded data removed]",
      "text/plain": [
       "<Figure size 432x288 with 1 Axes>"
      ]
     },
     "metadata": {
      "needs_background": "light"
     },
     "output_type": "display_data"
    }
   ],
   "source": [
    "# analysing the number of keywords in the text\n",
    "number_of_keywords = []\n",
    "for words in keywords:\n",
    "    n_keywords = len(words)\n",
    "    number_of_keywords.append(n_keywords)\n",
    "\n",
    "plt.hist(number_of_keywords,bins=10,)\n",
    "plt.xlabel('distribution of number of words in movies keywords column')\n",
    "plt.ylabel('number of articles')\n",
    "plt.show()"
   ]
  },
  {
   "cell_type": "markdown",
   "metadata": {},
   "source": [
    "### TFIDF with cosine similarity"
   ]
  },
  {
   "cell_type": "code",
   "execution_count": 42,
   "metadata": {},
   "outputs": [],
   "source": [
    "import gensim"
   ]
  },
  {
   "cell_type": "code",
   "execution_count": 43,
   "metadata": {},
   "outputs": [],
   "source": [
    "from gensim.corpora.dictionary import Dictionary\n",
    "dictionary = Dictionary(keywords) # create a dictionary of words from our keywords"
   ]
  },
  {
   "cell_type": "code",
   "execution_count": 44,
   "metadata": {},
   "outputs": [
    {
     "data": {
      "text/plain": [
       "59033"
      ]
     },
     "execution_count": 44,
     "metadata": {},
     "output_type": "execute_result"
    }
   ],
   "source": [
    "len(dictionary) #71442"
   ]
  },
  {
   "cell_type": "code",
   "execution_count": 45,
   "metadata": {},
   "outputs": [],
   "source": [
    "corpus = [dictionary.doc2bow(doc) for doc in keywords]"
   ]
  },
  {
   "cell_type": "code",
   "execution_count": 46,
   "metadata": {},
   "outputs": [],
   "source": [
    "from gensim.models.tfidfmodel import TfidfModel"
   ]
  },
  {
   "cell_type": "code",
   "execution_count": 47,
   "metadata": {},
   "outputs": [],
   "source": [
    "tfidf = TfidfModel(corpus)"
   ]
  },
  {
   "cell_type": "code",
   "execution_count": 48,
   "metadata": {},
   "outputs": [],
   "source": [
    "from gensim.similarities import MatrixSimilarity"
   ]
  },
  {
   "cell_type": "code",
   "execution_count": 49,
   "metadata": {},
   "outputs": [
    {
     "name": "stdout",
     "output_type": "stream",
     "text": [
      "MatrixSimilarity<2105 docs, 59033 features>\n"
     ]
    }
   ],
   "source": [
    "sims = MatrixSimilarity(tfidf[corpus], num_features=len(dictionary))\n",
    "print(sims)"
   ]
  },
  {
   "cell_type": "code",
   "execution_count": 50,
   "metadata": {},
   "outputs": [],
   "source": [
    "#item_df.head()"
   ]
  },
  {
   "cell_type": "code",
   "execution_count": 51,
   "metadata": {},
   "outputs": [
    {
     "data": {
      "text/html": [
       "<div>\n",
       "<style scoped>\n",
       "    .dataframe tbody tr th:only-of-type {\n",
       "        vertical-align: middle;\n",
       "    }\n",
       "\n",
       "    .dataframe tbody tr th {\n",
       "        vertical-align: top;\n",
       "    }\n",
       "\n",
       "    .dataframe thead th {\n",
       "        text-align: right;\n",
       "    }\n",
       "</style>\n",
       "<table border=\"1\" class=\"dataframe\">\n",
       "  <thead>\n",
       "    <tr style=\"text-align: right;\">\n",
       "      <th></th>\n",
       "      <th>item_id</th>\n",
       "      <th>title</th>\n",
       "    </tr>\n",
       "  </thead>\n",
       "  <tbody>\n",
       "    <tr>\n",
       "      <th>10</th>\n",
       "      <td>-9157338616628196758</td>\n",
       "      <td>Situação financeira ruim de varejistas pressio...</td>\n",
       "    </tr>\n",
       "    <tr>\n",
       "      <th>16</th>\n",
       "      <td>-5917314377186856799</td>\n",
       "      <td>Artigos e Palestras - Programa Agricultura de ...</td>\n",
       "    </tr>\n",
       "    <tr>\n",
       "      <th>17</th>\n",
       "      <td>6157037646878010131</td>\n",
       "      <td>Rede Agricultura de Precisão II</td>\n",
       "    </tr>\n",
       "    <tr>\n",
       "      <th>21</th>\n",
       "      <td>-1672166631728511207</td>\n",
       "      <td>O potencial do bitcoin na América Latina</td>\n",
       "    </tr>\n",
       "    <tr>\n",
       "      <th>23</th>\n",
       "      <td>5714314286511882372</td>\n",
       "      <td>Como Startups e Grandes Empresas podem colabor...</td>\n",
       "    </tr>\n",
       "    <tr>\n",
       "      <th>...</th>\n",
       "      <td>...</td>\n",
       "      <td>...</td>\n",
       "    </tr>\n",
       "    <tr>\n",
       "      <th>3107</th>\n",
       "      <td>-7264217791213422584</td>\n",
       "      <td>Qual é o valor da área de T&amp;D na sua empresa?</td>\n",
       "    </tr>\n",
       "    <tr>\n",
       "      <th>3108</th>\n",
       "      <td>-2402288292108892893</td>\n",
       "      <td>Como testar exceções em Java com o JUnit - Cod...</td>\n",
       "    </tr>\n",
       "    <tr>\n",
       "      <th>3109</th>\n",
       "      <td>-624901815223005993</td>\n",
       "      <td>A.I. Duet, crie melodias usando o aprendizado ...</td>\n",
       "    </tr>\n",
       "    <tr>\n",
       "      <th>3111</th>\n",
       "      <td>-8591127493017117985</td>\n",
       "      <td>IBM e Visa transformam automóveis, eletrodomés...</td>\n",
       "    </tr>\n",
       "    <tr>\n",
       "      <th>3117</th>\n",
       "      <td>9213260650272029784</td>\n",
       "      <td>Conheça a Liga IoT, plataforma de inovação abe...</td>\n",
       "    </tr>\n",
       "  </tbody>\n",
       "</table>\n",
       "<p>850 rows × 2 columns</p>\n",
       "</div>"
      ],
      "text/plain": [
       "                  item_id                                              title\n",
       "10   -9157338616628196758  Situação financeira ruim de varejistas pressio...\n",
       "16   -5917314377186856799  Artigos e Palestras - Programa Agricultura de ...\n",
       "17    6157037646878010131                    Rede Agricultura de Precisão II\n",
       "21   -1672166631728511207           O potencial do bitcoin na América Latina\n",
       "23    5714314286511882372  Como Startups e Grandes Empresas podem colabor...\n",
       "...                   ...                                                ...\n",
       "3107 -7264217791213422584      Qual é o valor da área de T&D na sua empresa?\n",
       "3108 -2402288292108892893  Como testar exceções em Java com o JUnit - Cod...\n",
       "3109  -624901815223005993  A.I. Duet, crie melodias usando o aprendizado ...\n",
       "3111 -8591127493017117985  IBM e Visa transformam automóveis, eletrodomés...\n",
       "3117  9213260650272029784  Conheça a Liga IoT, plataforma de inovação abe...\n",
       "\n",
       "[850 rows x 2 columns]"
      ]
     },
     "execution_count": 51,
     "metadata": {},
     "output_type": "execute_result"
    }
   ],
   "source": [
    "platform_content[platform_content['language']=='pt'][['item_id','title']]"
   ]
  },
  {
   "cell_type": "code",
   "execution_count": 52,
   "metadata": {},
   "outputs": [],
   "source": [
    "def process_sentence(description):\n",
    "    tokenised = tokenizer.tokenize(description.lower())\n",
    "    for word in tokenised:\n",
    "        if (word in stop_words or word.isnumeric()==True):\n",
    "            tokenised.remove(word)\n",
    "            \n",
    "    return tokenised"
   ]
  },
  {
   "cell_type": "code",
   "execution_count": 53,
   "metadata": {},
   "outputs": [],
   "source": [
    "k = item_df.loc[item_df.item_id==-8208801367848627943]"
   ]
  },
  {
   "cell_type": "code",
   "execution_count": 54,
   "metadata": {},
   "outputs": [],
   "source": [
    "def news_recommendation_using_item_id(news_id, number_of_recs=5):\n",
    "    news = item_df.loc[item_df.item_id==news_id] # get the news row\n",
    "    keywords = process_sentence(news['text_description'].values[0]) #get the keywords as a Series (movie['keywords']),\n",
    "    # get just the keywords string ([0]), and then convert to a list of keywords (.split(',') )\n",
    "    query_doc = keywords #set the query_doc to the list of keywords\n",
    "    \n",
    "    query_doc_bow = dictionary.doc2bow(query_doc) # get a bag of words from the query_doc\n",
    "    query_doc_tfidf = tfidf[query_doc_bow] #convert the regular bag of words model to a tf-idf model where we have tuples\n",
    "    # of the movie ID and it's tf-idf value for the movie\n",
    "\n",
    "    similarity_array = sims[query_doc_tfidf] # get the array of similarity values between our movie and every other movie. \n",
    "    #So the length is the number of movies we have. To do this, we pass our list of tf-idf tuples to sims.\n",
    "\n",
    "    similarity_series = pd.Series(similarity_array.tolist(), index=item_df.item_id.values) #Convert to a Series\n",
    "    top_hits = similarity_series.sort_values(ascending=False)[1:number_of_recs+1] \n",
    "    #get the top matching results, i.e. most similar movies; start from index 1 because every movie is most similar to itself\n",
    "\n",
    "    #print the words with the highest tf-idf values for the provided movie:(title, score)\n",
    "    sorted_tfidf_weights = sorted(tfidf[corpus[news.index.values.tolist()[0]]], key=lambda w: w[1], reverse=True)\n",
    "    print('The top 5 words associated with this news article by tf-idf are: ')\n",
    "    for term_id, weight in sorted_tfidf_weights[:5]:\n",
    "        print(\" '%s' with a tf-idf score of %.3f\" %(dictionary.get(term_id), weight))\n",
    "    \n",
    "    # Print the top matching movies\n",
    "    print(\"Our top %s most similar news articles for the news article '%s' are:\" %(number_of_recs, platform_content[platform_content['item_id']==news_id]['title'].values[0]))\n",
    "    for idx, (movie,score) in enumerate(zip(top_hits.index, top_hits)):\n",
    "        print(\"%d '%s' with a similarity score of %.3f\" %(idx+1, platform_content[platform_content['item_id']==movie]['title'].values[0], score))"
   ]
  },
  {
   "cell_type": "code",
   "execution_count": 55,
   "metadata": {},
   "outputs": [
    {
     "name": "stdout",
     "output_type": "stream",
     "text": [
      "The top 5 words associated with this news article by tf-idf are: \n",
      " 'agricultura' with a tf-idf score of 0.538\n",
      " 'embrapa' with a tf-idf score of 0.373\n",
      " 'precisão' with a tf-idf score of 0.356\n",
      " 'produção' with a tf-idf score of 0.124\n",
      " 'agrícola' with a tf-idf score of 0.112\n",
      "Our top 5 most similar news articles for the news article 'Rede Agricultura de Precisão II' are:\n",
      "1 'Artigos e Palestras - Programa Agricultura de Precisão do SENAR' with a similarity score of 0.500\n",
      "2 'Agronegócio entra na era da agricultura digital | Economia, Notícias | Tribuna PR - Paraná Online' with a similarity score of 0.362\n",
      "3 'Especial Agrishow: Soluções de agricultura de precisão elevam produtividade e aumentam a qualidade do plantio' with a similarity score of 0.360\n",
      "4 'Heroína, nazistas e agente laranja: por dentro da fusão do ano' with a similarity score of 0.155\n",
      "5 'Hackathon - Portal Embrapa' with a similarity score of 0.150\n"
     ]
    }
   ],
   "source": [
    "news_recommendation_using_item_id(6157037646878010131)"
   ]
  },
  {
   "cell_type": "code",
   "execution_count": 56,
   "metadata": {},
   "outputs": [],
   "source": [
    "def news_recommendation_using_user_id(user_id):\n",
    "    \n",
    "    article_dictionary = {}\n",
    "    item_ids = user_item[user_item['consumer_id']==user_id]['item_id'].to_list()\n",
    "    \n",
    "    for item in item_ids:\n",
    "        news = item_df.loc[item_df.item_id==item] # get the movie row\n",
    "        keywords = process_sentence(news['text_description'].values[0]) #get the keywords as a Series (movie['keywords']),\n",
    "    # get just the keywords string ([0]), and then convert to a list of keywords (.split(',') )\n",
    "        query_doc = keywords #set the query_doc to the list of keywords\n",
    "    \n",
    "        query_doc_bow = dictionary.doc2bow(query_doc) # get a bag of words from the query_doc\n",
    "        query_doc_tfidf = tfidf[query_doc_bow] #convert the regular bag of words model to a tf-idf model where we have tuples\n",
    "        # of the movie ID and it's tf-idf value for the movie\n",
    "\n",
    "        similarity_array = sims[query_doc_tfidf] # get the array of similarity values between our movie and every other movie. \n",
    "        #So the length is the number of movies we have. To do this, we pass our list of tf-idf tuples to sims.\n",
    "\n",
    "        similarity_series = pd.Series(similarity_array.tolist(), index=item_df.item_id.values) #Convert to a Series\n",
    "        top_hits = similarity_series.sort_values(ascending=False)[1:11]\n",
    "        \n",
    "        \n",
    "        for (news_id,score) in zip(top_hits.index,top_hits):\n",
    "            if news_id in article_dictionary:\n",
    "                article_dictionary[news_id]+=score\n",
    "            else:\n",
    "                article_dictionary[news_id] = score\n",
    "        \n",
    "    sorted_items = sorted(article_dictionary.items(), key = \n",
    "             lambda kv:(kv[1], kv[0]),reverse=True)\n",
    "    \n",
    "    top_10_recommendations = []\n",
    "\n",
    "        \n",
    "    for key,value in sorted_items:\n",
    "        if key not in item_ids and len(top_10_recommendations)<10:\n",
    "            top_10_recommendations.append((key,value))\n",
    "        \n",
    "    output = []\n",
    "        \n",
    "    # Print the top matching movies\n",
    "    for idx,(item_id,score) in enumerate(top_10_recommendations):\n",
    "        #print(\"%d '%s' with a score of %.3f\" %(idx+1, platform_content[platform_content['item_id']==item_id]['title'].values[0], score))\n",
    "        output.append(platform_content[platform_content['item_id']==item_id]['title'].values[0])\n",
    "    \n",
    "    return output"
   ]
  },
  {
   "cell_type": "code",
   "execution_count": 57,
   "metadata": {},
   "outputs": [
    {
     "data": {
      "text/plain": [
       "['How to Improve 8 Major Problem Areas for Japanese Learners of All Levels',\n",
       " 'Código Google: Introdução da próxima geração do Google Tag Manager e do Tag Manager 360 para Mobile Apps',\n",
       " 'Top 10 GCP sessions from Google I/O 2016',\n",
       " 'Google I/O 2016: Develop, Grow & Earn',\n",
       " \"Google's Firebase Team Picks Up Twitter's Fabric\",\n",
       " 'Cookbook',\n",
       " 'Android Studio 2.0 | Android Developers Blog',\n",
       " 'Android Studio 2.2',\n",
       " 'One weird trick that will change the way you code forever: JavaScript TDD',\n",
       " 'Clean Coder Blog']"
      ]
     },
     "execution_count": 57,
     "metadata": {},
     "output_type": "execute_result"
    }
   ],
   "source": [
    "news_recommendation_using_user_id(-9212075797126931087)"
   ]
  },
  {
   "cell_type": "code",
   "execution_count": 58,
   "metadata": {},
   "outputs": [
    {
     "data": {
      "text/plain": [
       "array(['Firebase Test Lab for Android',\n",
       "       'Learn Hiragana: The Ultimate Guide',\n",
       "       'Fresco, sim! - Android Dev BR', 'Japanese for dummies',\n",
       "       'Firebase and Google Cloud: better together'], dtype=object)"
      ]
     },
     "execution_count": 58,
     "metadata": {},
     "output_type": "execute_result"
    }
   ],
   "source": [
    "user_item_verify[user_item_verify['consumer_id']==-9212075797126931087]['title'].unique()"
   ]
  },
  {
   "cell_type": "code",
   "execution_count": 59,
   "metadata": {},
   "outputs": [
    {
     "data": {
      "text/plain": [
       "array([-9223121837663643404, -9212075797126931087, -9207251133131336884,\n",
       "       ...,  9191849144618614467,  9199170757466086545,\n",
       "        9210530975708218054], dtype=int64)"
      ]
     },
     "execution_count": 59,
     "metadata": {},
     "output_type": "execute_result"
    }
   ],
   "source": [
    "user_item_verify['consumer_id'].unique()"
   ]
  },
  {
   "cell_type": "markdown",
   "metadata": {},
   "source": [
    "### Evaluating Content Based Recommendation System using Hit Rate!"
   ]
  },
  {
   "cell_type": "code",
   "execution_count": 60,
   "metadata": {},
   "outputs": [],
   "source": [
    "users = list(user_item['consumer_id'].unique())"
   ]
  },
  {
   "cell_type": "code",
   "execution_count": 61,
   "metadata": {},
   "outputs": [],
   "source": [
    "import pickle"
   ]
  },
  {
   "cell_type": "code",
   "execution_count": 62,
   "metadata": {},
   "outputs": [],
   "source": [
    "## This was run on nimblebox using a GPU and the results were stored in a pickle file\n",
    "\n",
    "# for user_idx,user_id in enumerate(users):\n",
    "    \n",
    "#     item_ids = set(user_item[user_item['consumer_id']==user_id]['item_id'].to_list())\n",
    "    \n",
    "#     if len(item_ids)>50:\n",
    "        \n",
    "#         item_ids = set(list(item_ids)[:50])\n",
    "    \n",
    "    \n",
    "#     hit_rate = 0\n",
    "    \n",
    "#     total_interactions = len(item_ids)\n",
    "    \n",
    "#     for item in item_ids:\n",
    "        \n",
    "#         article_dictionary = {}\n",
    "        \n",
    "#         hit_rate_item = []\n",
    "            \n",
    "#         hit_rate_item.append(item)\n",
    "        \n",
    "#         items_to_go_into_recommendation = item_ids - set(hit_rate_item)\n",
    "        \n",
    "#         for item_used_for_recommendation in items_to_go_into_recommendation:\n",
    "            \n",
    "#             news = item_df.loc[item_df.item_id==item_used_for_recommendation] # get the movie row\n",
    "#             keywords = process_sentence(news['text_description'].values[0]) #get the keywords as a Series (movie['keywords']),\n",
    "#     # get just the keywords string ([0]), and then convert to a list of keywords (.split(',') )\n",
    "#             query_doc = keywords #set the query_doc to the list of keywords\n",
    "    \n",
    "#             query_doc_bow = dictionary.doc2bow(query_doc) # get a bag of words from the query_doc\n",
    "#             query_doc_tfidf = tfidf[query_doc_bow] #convert the regular bag of words model to a tf-idf model where we have tuples\n",
    "#         # of the movie ID and it's tf-idf value for the movie\n",
    "\n",
    "#             similarity_array = sims[query_doc_tfidf] # get the array of similarity values between our movie and every other movie. \n",
    "#         #So the length is the number of movies we have. To do this, we pass our list of tf-idf tuples to sims.\n",
    "\n",
    "#             similarity_series = pd.Series(similarity_array.tolist(), index=item_df.item_id.values) #Convert to a Series\n",
    "#             top_hits = similarity_series.sort_values(ascending=False)[1:11]\n",
    "            \n",
    "            \n",
    "#             for (news_id,score) in zip(top_hits.index,top_hits):\n",
    "#                 if news_id in article_dictionary:\n",
    "#                     article_dictionary[news_id]+=score\n",
    "#                 else:\n",
    "#                     article_dictionary[news_id] = score\n",
    "        \n",
    "#         sorted_items = sorted(article_dictionary.items(), key = lambda kv:(kv[1], kv[0]),reverse=True)\n",
    "    \n",
    "#         top_10_recommendations = []\n",
    "\n",
    "        \n",
    "#         for key,value in sorted_items:\n",
    "#             if key not in items_to_go_into_recommendation and len(top_10_recommendations)<10:\n",
    "#                 top_10_recommendations.append((key,value))\n",
    "        \n",
    "#         output = []\n",
    "        \n",
    "#     # Print the top matching movies\n",
    "#         for idx,(item_id,score) in enumerate(top_10_recommendations):\n",
    "#         #print(\"%d '%s' with a score of %.3f\" %(idx+1, platform_content[platform_content['item_id']==item_id]['title'].values[0], score))\n",
    "#             output.append(item_id)\n",
    "        \n",
    "#         #print(\"output-\",output)        \n",
    "              \n",
    "#         if item in output:\n",
    "            \n",
    "#             hit_rate+=1\n",
    "    \n",
    "    \n",
    "#     if hit_rate>0:\n",
    "#         print(\"{} hit rate for {} interactions\".format(hit_rate,total_interactions))\n",
    "    \n",
    "#     print(\"=============== {} out of {} users evaluated=====================\".format(user_idx,len(users)))\n",
    "    \n",
    "#     eval_dict_hit_rate[user_id] = hit_rate\n",
    "    \n",
    "#     eval_dict_recall[user_id] = float(hit_rate/total_interactions)\n",
    "    \n",
    "    \n",
    "#     if user_idx%12 == 0:\n",
    "#         print(\"=============dumping into Pickle==========================\")\n",
    "#         with open('hit_rate.pickle', 'wb') as handle:\n",
    "#             pickle.dump(eval_dict_hit_rate, handle, protocol=pickle.HIGHEST_PROTOCOL)\n",
    "            \n",
    "#         with open('recall.pickle', 'wb') as handle:\n",
    "#             pickle.dump(eval_dict_recall, handle, protocol=pickle.HIGHEST_PROTOCOL)\n",
    "    "
   ]
  },
  {
   "cell_type": "code",
   "execution_count": 63,
   "metadata": {},
   "outputs": [],
   "source": [
    "with open('hit_rate.pickle', 'rb') as handle:\n",
    "    hit_rate = pickle.load(handle)\n",
    "    \n",
    "with open('recall.pickle', 'rb') as handle:\n",
    "    recall = pickle.load(handle)"
   ]
  },
  {
   "cell_type": "markdown",
   "metadata": {},
   "source": [
    "## How is Hit Rate Defined - \n",
    "\n",
    "Let say a user had interacted with 5 articles. So the total number of interactions = 5.\n",
    "\n",
    "To calculate hit rate, we take one article at a time and use the recommendation system to get the 10 recommended articles using the rest 4 articles. We then see if the article taken out is present in the list of 10 recommendations. If yes, increase the hit count by 1. \n",
    "\n",
    "hit count is an absolute number.\n",
    "\n",
    "Recall = hit count/total interactions which is a relative number lying between 0 and 1."
   ]
  },
  {
   "cell_type": "code",
   "execution_count": 64,
   "metadata": {},
   "outputs": [],
   "source": [
    "user_id_list = []\n",
    "hit_rate_list = []\n",
    "recall_list = []"
   ]
  },
  {
   "cell_type": "code",
   "execution_count": 65,
   "metadata": {},
   "outputs": [],
   "source": [
    "for key,value in hit_rate.items():\n",
    "    user_id_list.append(key)\n",
    "    hit_rate_list.append(value)"
   ]
  },
  {
   "cell_type": "code",
   "execution_count": 66,
   "metadata": {},
   "outputs": [],
   "source": [
    "for _,value in recall.items():\n",
    "    recall_list.append(value)"
   ]
  },
  {
   "cell_type": "code",
   "execution_count": 67,
   "metadata": {},
   "outputs": [],
   "source": [
    "content_based_eval = pd.DataFrame({\"user_id\":user_id_list,\"hit_rate\":hit_rate_list,\"recall\":recall_list})"
   ]
  },
  {
   "cell_type": "code",
   "execution_count": 68,
   "metadata": {},
   "outputs": [
    {
     "data": {
      "text/html": [
       "<div>\n",
       "<style scoped>\n",
       "    .dataframe tbody tr th:only-of-type {\n",
       "        vertical-align: middle;\n",
       "    }\n",
       "\n",
       "    .dataframe tbody tr th {\n",
       "        vertical-align: top;\n",
       "    }\n",
       "\n",
       "    .dataframe thead th {\n",
       "        text-align: right;\n",
       "    }\n",
       "</style>\n",
       "<table border=\"1\" class=\"dataframe\">\n",
       "  <thead>\n",
       "    <tr style=\"text-align: right;\">\n",
       "      <th></th>\n",
       "      <th>user_id</th>\n",
       "      <th>hit_rate</th>\n",
       "      <th>recall</th>\n",
       "    </tr>\n",
       "  </thead>\n",
       "  <tbody>\n",
       "    <tr>\n",
       "      <th>0</th>\n",
       "      <td>-9223121837663643404</td>\n",
       "      <td>0</td>\n",
       "      <td>0.0</td>\n",
       "    </tr>\n",
       "    <tr>\n",
       "      <th>1</th>\n",
       "      <td>-9212075797126931087</td>\n",
       "      <td>2</td>\n",
       "      <td>0.4</td>\n",
       "    </tr>\n",
       "    <tr>\n",
       "      <th>2</th>\n",
       "      <td>-9207251133131336884</td>\n",
       "      <td>0</td>\n",
       "      <td>0.0</td>\n",
       "    </tr>\n",
       "    <tr>\n",
       "      <th>3</th>\n",
       "      <td>-9199575329909162940</td>\n",
       "      <td>0</td>\n",
       "      <td>0.0</td>\n",
       "    </tr>\n",
       "    <tr>\n",
       "      <th>4</th>\n",
       "      <td>-9196668942822132778</td>\n",
       "      <td>0</td>\n",
       "      <td>0.0</td>\n",
       "    </tr>\n",
       "  </tbody>\n",
       "</table>\n",
       "</div>"
      ],
      "text/plain": [
       "               user_id  hit_rate  recall\n",
       "0 -9223121837663643404         0     0.0\n",
       "1 -9212075797126931087         2     0.4\n",
       "2 -9207251133131336884         0     0.0\n",
       "3 -9199575329909162940         0     0.0\n",
       "4 -9196668942822132778         0     0.0"
      ]
     },
     "execution_count": 68,
     "metadata": {},
     "output_type": "execute_result"
    }
   ],
   "source": [
    "content_based_eval.head()"
   ]
  },
  {
   "cell_type": "code",
   "execution_count": 69,
   "metadata": {},
   "outputs": [],
   "source": [
    "pie = pd.DataFrame({\"hit_rate\":content_based_eval['hit_rate'].value_counts().index,\"count\":content_based_eval['hit_rate'].value_counts().values})"
   ]
  },
  {
   "cell_type": "code",
   "execution_count": 70,
   "metadata": {},
   "outputs": [
    {
     "data": {
      "text/html": [
       "<div>\n",
       "<style scoped>\n",
       "    .dataframe tbody tr th:only-of-type {\n",
       "        vertical-align: middle;\n",
       "    }\n",
       "\n",
       "    .dataframe tbody tr th {\n",
       "        vertical-align: top;\n",
       "    }\n",
       "\n",
       "    .dataframe thead th {\n",
       "        text-align: right;\n",
       "    }\n",
       "</style>\n",
       "<table border=\"1\" class=\"dataframe\">\n",
       "  <thead>\n",
       "    <tr style=\"text-align: right;\">\n",
       "      <th></th>\n",
       "      <th>hit_rate</th>\n",
       "      <th>count</th>\n",
       "    </tr>\n",
       "  </thead>\n",
       "  <tbody>\n",
       "    <tr>\n",
       "      <th>0</th>\n",
       "      <td>0</td>\n",
       "      <td>373</td>\n",
       "    </tr>\n",
       "    <tr>\n",
       "      <th>1</th>\n",
       "      <td>2</td>\n",
       "      <td>50</td>\n",
       "    </tr>\n",
       "    <tr>\n",
       "      <th>2</th>\n",
       "      <td>1</td>\n",
       "      <td>45</td>\n",
       "    </tr>\n",
       "    <tr>\n",
       "      <th>3</th>\n",
       "      <td>3</td>\n",
       "      <td>18</td>\n",
       "    </tr>\n",
       "    <tr>\n",
       "      <th>4</th>\n",
       "      <td>4</td>\n",
       "      <td>7</td>\n",
       "    </tr>\n",
       "  </tbody>\n",
       "</table>\n",
       "</div>"
      ],
      "text/plain": [
       "   hit_rate  count\n",
       "0         0    373\n",
       "1         2     50\n",
       "2         1     45\n",
       "3         3     18\n",
       "4         4      7"
      ]
     },
     "execution_count": 70,
     "metadata": {},
     "output_type": "execute_result"
    }
   ],
   "source": [
    "pie.head()"
   ]
  },
  {
   "cell_type": "code",
   "execution_count": 73,
   "metadata": {},
   "outputs": [
    {
     "data": {
      "text/plain": [
       "Text(0.5, 1.0, 'Absolute Hit Rate with the Mean Recall of 0.05')"
      ]
     },
     "execution_count": 73,
     "metadata": {},
     "output_type": "execute_result"
    },
    {
     "data": {
      "image/png": "[encoded data removed]",
      "text/plain": [
       "<Figure size 720x432 with 1 Axes>"
      ]
     },
     "metadata": {},
     "output_type": "display_data"
    }
   ],
   "source": [
    "l, ax = plt.subplots(figsize=[10,6])\n",
    "labels = pie['hit_rate']\n",
    "plt.pie(x=pie['count'], autopct=\"%.1f%%\",labels=labels,explode=[0.015]*len(pie['count']), pctdistance=0.5)\n",
    "plt.title(\"Absolute Hit Rate with the Mean Recall of {:.2f}\".format(np.mean(content_based_eval['recall'])), fontsize=14)"
   ]
  },
  {
   "cell_type": "markdown",
   "metadata": {},
   "source": [
    "### Building a Recommendation System using ALS - "
   ]
  },
  {
   "cell_type": "code",
   "execution_count": 74,
   "metadata": {},
   "outputs": [
    {
     "name": "stdout",
     "output_type": "stream",
     "text": [
      "Requirement already satisfied: implicit in c:\\users\\dell\\anaconda3\\lib\\site-packages (0.4.4)\n",
      "Requirement already satisfied: numpy in c:\\users\\dell\\anaconda3\\lib\\site-packages (from implicit) (1.18.5)\n",
      "Requirement already satisfied: scipy>=0.16 in c:\\users\\dell\\anaconda3\\lib\\site-packages (from implicit) (1.5.0)\n",
      "Requirement already satisfied: tqdm>=4.27 in c:\\users\\dell\\anaconda3\\lib\\site-packages (from implicit) (4.47.0)\n",
      "Note: you may need to restart the kernel to use updated packages.\n"
     ]
    }
   ],
   "source": [
    "pip install implicit"
   ]
  },
  {
   "cell_type": "code",
   "execution_count": 75,
   "metadata": {},
   "outputs": [],
   "source": [
    "from scipy.sparse import csr_matrix, save_npz, load_npz, vstack, hstack, lil_matrix\n",
    "import implicit\n",
    "import pickle\n",
    "from implicit.evaluation import train_test_split, precision_at_k, mean_average_precision_at_k"
   ]
  },
  {
   "cell_type": "code",
   "execution_count": 76,
   "metadata": {},
   "outputs": [
    {
     "data": {
      "text/html": [
       "<div>\n",
       "<style scoped>\n",
       "    .dataframe tbody tr th:only-of-type {\n",
       "        vertical-align: middle;\n",
       "    }\n",
       "\n",
       "    .dataframe tbody tr th {\n",
       "        vertical-align: top;\n",
       "    }\n",
       "\n",
       "    .dataframe thead th {\n",
       "        text-align: right;\n",
       "    }\n",
       "</style>\n",
       "<table border=\"1\" class=\"dataframe\">\n",
       "  <thead>\n",
       "    <tr style=\"text-align: right;\">\n",
       "      <th></th>\n",
       "      <th>consumer_id</th>\n",
       "      <th>item_id</th>\n",
       "      <th>text_description</th>\n",
       "    </tr>\n",
       "  </thead>\n",
       "  <tbody>\n",
       "    <tr>\n",
       "      <th>0</th>\n",
       "      <td>-9223121837663643404</td>\n",
       "      <td>-8949113594875411859</td>\n",
       "      <td>Divulgação O ex-jogador de futebol Tostão, don...</td>\n",
       "    </tr>\n",
       "    <tr>\n",
       "      <th>1</th>\n",
       "      <td>-9223121837663643404</td>\n",
       "      <td>-8377626164558006982</td>\n",
       "      <td>A hidden source of friction is slowing your co...</td>\n",
       "    </tr>\n",
       "    <tr>\n",
       "      <th>2</th>\n",
       "      <td>-9223121837663643404</td>\n",
       "      <td>-8208801367848627943</td>\n",
       "      <td>Ray Kurzweil, the author, inventor, computer s...</td>\n",
       "    </tr>\n",
       "    <tr>\n",
       "      <th>3</th>\n",
       "      <td>-9223121837663643404</td>\n",
       "      <td>-8187220755213888616</td>\n",
       "      <td>By adopting a digital product management model...</td>\n",
       "    </tr>\n",
       "    <tr>\n",
       "      <th>4</th>\n",
       "      <td>-9223121837663643404</td>\n",
       "      <td>-7423191370472335463</td>\n",
       "      <td>Se você leu meu último artigo sobre Testes uni...</td>\n",
       "    </tr>\n",
       "  </tbody>\n",
       "</table>\n",
       "</div>"
      ],
      "text/plain": [
       "           consumer_id              item_id  \\\n",
       "0 -9223121837663643404 -8949113594875411859   \n",
       "1 -9223121837663643404 -8377626164558006982   \n",
       "2 -9223121837663643404 -8208801367848627943   \n",
       "3 -9223121837663643404 -8187220755213888616   \n",
       "4 -9223121837663643404 -7423191370472335463   \n",
       "\n",
       "                                    text_description  \n",
       "0  Divulgação O ex-jogador de futebol Tostão, don...  \n",
       "1  A hidden source of friction is slowing your co...  \n",
       "2  Ray Kurzweil, the author, inventor, computer s...  \n",
       "3  By adopting a digital product management model...  \n",
       "4  Se você leu meu último artigo sobre Testes uni...  "
      ]
     },
     "execution_count": 76,
     "metadata": {},
     "output_type": "execute_result"
    }
   ],
   "source": [
    "user_item.head()"
   ]
  },
  {
   "cell_type": "code",
   "execution_count": 77,
   "metadata": {},
   "outputs": [],
   "source": [
    "user_item['consumer_id'] = user_item['consumer_id'].astype(\"category\")"
   ]
  },
  {
   "cell_type": "code",
   "execution_count": 78,
   "metadata": {},
   "outputs": [],
   "source": [
    "user_item['item_id'] = user_item['item_id'].astype(\"category\")"
   ]
  },
  {
   "cell_type": "code",
   "execution_count": 79,
   "metadata": {},
   "outputs": [],
   "source": [
    "# creating the sparse user item matrix\n",
    "alpha = 40\n",
    "sparse_user_item = csr_matrix( ([alpha]*len(user_item['item_id']), (user_item['consumer_id'].cat.codes.copy(), user_item['item_id'].cat.codes.copy()) ))"
   ]
  },
  {
   "cell_type": "code",
   "execution_count": 80,
   "metadata": {},
   "outputs": [],
   "source": [
    "#print(sparse_user_item)"
   ]
  },
  {
   "cell_type": "code",
   "execution_count": 81,
   "metadata": {},
   "outputs": [
    {
     "data": {
      "text/plain": [
       "1884"
      ]
     },
     "execution_count": 81,
     "metadata": {},
     "output_type": "execute_result"
    }
   ],
   "source": [
    "len(user_item['consumer_id'].unique())"
   ]
  },
  {
   "cell_type": "code",
   "execution_count": 82,
   "metadata": {},
   "outputs": [],
   "source": [
    "sparse_item_user = sparse_user_item.T.tocsr()"
   ]
  },
  {
   "cell_type": "code",
   "execution_count": 83,
   "metadata": {},
   "outputs": [],
   "source": [
    "#print(sparse_item_user)"
   ]
  },
  {
   "cell_type": "code",
   "execution_count": 84,
   "metadata": {},
   "outputs": [
    {
     "data": {
      "text/plain": [
       "2105"
      ]
     },
     "execution_count": 84,
     "metadata": {},
     "output_type": "execute_result"
    }
   ],
   "source": [
    "len(user_item['item_id'].unique())"
   ]
  },
  {
   "cell_type": "code",
   "execution_count": 85,
   "metadata": {},
   "outputs": [],
   "source": [
    "# splitting into test and train\n",
    "train_item_user, test_item_user = train_test_split(sparse_item_user, train_percentage=0.8)\n",
    "\n",
    "train_user_item, test_user_item = train_test_split(sparse_user_item, train_percentage=0.8)"
   ]
  },
  {
   "cell_type": "code",
   "execution_count": 86,
   "metadata": {},
   "outputs": [
    {
     "name": "stderr",
     "output_type": "stream",
     "text": [
      "WARNING:root:Intel MKL BLAS detected. Its highly recommend to set the environment variable 'export MKL_NUM_THREADS=1' to disable its internal multithreading\n"
     ]
    },
    {
     "data": {
      "application/vnd.jupyter.widget-view+json": {
       "model_id": "31dc9531114042b5bb190af1faba519f",
       "version_major": 2,
       "version_minor": 0
      },
      "text/plain": [
       "HBox(children=(FloatProgress(value=0.0, max=1000.0), HTML(value='')))"
      ]
     },
     "metadata": {},
     "output_type": "display_data"
    },
    {
     "name": "stdout",
     "output_type": "stream",
     "text": [
      "\n"
     ]
    }
   ],
   "source": [
    "# building the collaborative filtering model\n",
    "\n",
    "model = implicit.als.AlternatingLeastSquares(factors=200, regularization=0.01, iterations=1000, calculate_training_loss=False)\n",
    "model.fit(train_item_user)"
   ]
  },
  {
   "cell_type": "code",
   "execution_count": 87,
   "metadata": {},
   "outputs": [],
   "source": [
    "user_id_mapping = dict(zip(user_item['consumer_id'].unique(),user_item['consumer_id'].cat.codes.copy().unique()))\n",
    "item_id_mapping = dict(zip(user_item['item_id'].cat.codes.copy().unique(),user_item['item_id'].unique()))"
   ]
  },
  {
   "cell_type": "code",
   "execution_count": 88,
   "metadata": {},
   "outputs": [],
   "source": [
    "# building the recommender system\n",
    "\n",
    "def recommend(user_id):\n",
    "    \n",
    "    mapped_user_id = user_id_mapping[user_id]\n",
    "    \n",
    "    recommended, _ =  zip(*model.recommend(mapped_user_id, sparse_user_item))\n",
    "    \n",
    "    recommended_articles = []\n",
    "    \n",
    "    for mapped_item_id in recommended:\n",
    "        \n",
    "        item_id = item_id_mapping[mapped_item_id]\n",
    "        \n",
    "        recommended_articles.append(platform_content[platform_content['item_id']==item_id]['title'].values[0])\n",
    "        \n",
    "    return recommended_articles"
   ]
  },
  {
   "cell_type": "code",
   "execution_count": 89,
   "metadata": {},
   "outputs": [
    {
     "data": {
      "text/plain": [
       "['Node.js Examples - How Enterprises use Node in 2016 | @RisingStack',\n",
       " 'DBA BRASIL no INTEROPMIX 2016',\n",
       " \"Spotify's Latest Algorithmic Playlist Is Full of Your Favorite New Music\",\n",
       " 'Cade autoriza Itaú Unibanco e Mastercard a criarem nova bandeira de cartão',\n",
       " 'Transforming life insurance with design thinking',\n",
       " 'É chegada a hora do desenvolvimento de software orientado por hipóteses - CIO',\n",
       " 'Using Honcho to Create a Multi-Process Docker Container',\n",
       " 'The Drive to Bank on Digital',\n",
       " 'Chrome DevTools - Console API Reference',\n",
       " 'Program your way to your next grocery delivery']"
      ]
     },
     "execution_count": 89,
     "metadata": {},
     "output_type": "execute_result"
    }
   ],
   "source": [
    "# testing the recommender system\n",
    "\n",
    "recommend(-9196668942822132778)"
   ]
  },
  {
   "cell_type": "code",
   "execution_count": 90,
   "metadata": {},
   "outputs": [
    {
     "data": {
      "text/plain": [
       "['Iniciando com o Docker: dicas práticas para começar a usar agora mesmo - Tableless',\n",
       " 'Use Docker to build, test and push your Artifacts',\n",
       " 'Itaú segue tendência das fintechs e se torna primeiro banco tradicional a permitir abertura de contas por app - Startupi',\n",
       " 'Docker Swarm',\n",
       " \"Docker Engine 1.11 with runC: Announcing the general availability of the industry's first OCI-compliant runtime\",\n",
       " 'Why You Should Stop Installing Your WebDev Environment Locally - Smashing Magazine',\n",
       " 'Microsoft expands its support for Docker containers',\n",
       " 'Automate Docker with the Remote API and Ruby',\n",
       " 'Docker 1.12: Now with Built-in Orchestration!',\n",
       " 'Iniciando com o Docker: Criando suas próprias imagens - Tableless']"
      ]
     },
     "execution_count": 90,
     "metadata": {},
     "output_type": "execute_result"
    }
   ],
   "source": [
    "news_recommendation_using_user_id(-9196668942822132778)"
   ]
  },
  {
   "cell_type": "code",
   "execution_count": 91,
   "metadata": {},
   "outputs": [
    {
     "data": {
      "text/plain": [
       "array(['Itaú é pioneiro do blockchain', 'Lançamento da LBI Comentada',\n",
       "       'Contêiner do Windows no Windows 10',\n",
       "       'Docker - Build, Ship, and Run Any App, Anywhere',\n",
       "       'Webinário gratuito \"Como analisar um AWR Report\"',\n",
       "       'Itaú Unibanco fecha compra de ativos de varejo do Citi no Brasil',\n",
       "       '15 minutos sobre Docker'], dtype=object)"
      ]
     },
     "execution_count": 91,
     "metadata": {},
     "output_type": "execute_result"
    }
   ],
   "source": [
    "user_item_verify[user_item_verify['consumer_id']==-9196668942822132778\t]['title'].unique()"
   ]
  },
  {
   "cell_type": "markdown",
   "metadata": {},
   "source": [
    "Based on the verification above, it seems that the recommendation system is working well - \n",
    "\n",
    "The Content Based Recommendation System is suggesting articles quite similar to the ones already read.<br>\n",
    "The Collaboration Based Recommendation System is suggesting articles of similar theme.\n",
    "\n",
    "To make a Hybrid model, what we can do is - \n",
    "\n",
    "1. Include the articles which are common to both content and collaboration based recommendation system\n",
    "2. <br>A. Include 2 articles from Content with 1 article from Collaboration and so on. So the weightage given to content will be 66% while 33% to collaboration but they will be placed such that after every 2 recommendation from Content we get one recommendation from collaboration.<br><br>\n",
    "    B. Include 1 article from Collaboration with 1 article from Content and so on. So the weightage given to content will be 50% to each.<br><br>\n",
    "    C. Include 2 articles from Collaboration with 1 article from Content and so on. So the weightage given to Collaboration will be 66% while 33% to content but they will be placed such that after every 2 recommendation from Collaboration we get one recommendation from content.\n",
    "    \n",
    "See which one gives the best results!"
   ]
  },
  {
   "cell_type": "markdown",
   "metadata": {},
   "source": [
    "## Evaluating the Collaboration Based Model - "
   ]
  },
  {
   "cell_type": "code",
   "execution_count": 92,
   "metadata": {},
   "outputs": [
    {
     "data": {
      "application/vnd.jupyter.widget-view+json": {
       "model_id": "a2c8408582834776843ecc34fb6eb6b8",
       "version_major": 2,
       "version_minor": 0
      },
      "text/plain": [
       "HBox(children=(FloatProgress(value=0.0, max=1884.0), HTML(value='')))"
      ]
     },
     "metadata": {},
     "output_type": "display_data"
    },
    {
     "name": "stdout",
     "output_type": "stream",
     "text": [
      "\n"
     ]
    }
   ],
   "source": [
    "p_at_10 = precision_at_k(model,train_user_item,test_user_item,K=10)"
   ]
  },
  {
   "cell_type": "code",
   "execution_count": 93,
   "metadata": {},
   "outputs": [
    {
     "name": "stdout",
     "output_type": "stream",
     "text": [
      "Precision at 10 comes out to be 0.86\n"
     ]
    }
   ],
   "source": [
    "print(\"Precision at 10 comes out to be {:.2f}\".format(p_at_10))"
   ]
  },
  {
   "cell_type": "code",
   "execution_count": 94,
   "metadata": {},
   "outputs": [],
   "source": [
    "def hybrid_model_recommendations(user_id,hybrid_method):\n",
    "    \n",
    "    content_based = news_recommendation_using_user_id(user_id)\n",
    "    \n",
    "    collaboration_based = recommend(user_id)\n",
    "    \n",
    "    common = set(content_based).intersection(set(collaboration_based))\n",
    "    \n",
    "    for article in common:\n",
    "        \n",
    "        content_based.remove(article)\n",
    "        \n",
    "        collaboration_based.remove(article)\n",
    "    \n",
    "    output = []\n",
    "    \n",
    "    output_dict = {}\n",
    "    \n",
    "    output+=list(common)\n",
    "    \n",
    "    if hybrid_method == 1:\n",
    "        \n",
    "        while len(content_based)+len(collaboration_based)>0:\n",
    "                \n",
    "                if len(content_based)>0:\n",
    "                    output.append(content_based.pop(0) )\n",
    "                if len(content_based)>0:\n",
    "                    output.append(content_based.pop(0))\n",
    "                if len(collaboration_based)>0:\n",
    "                    output.append(collaboration_based.pop(0))\n",
    "                    \n",
    "        return output\n",
    "            \n",
    "    if hybrid_method == 2:\n",
    "        \n",
    "        while len(content_based)+len(collaboration_based)>0:\n",
    "                \n",
    "                if len(collaboration_based)>0:\n",
    "                    output.append(collaboration_based.pop(0))\n",
    "                if len(content_based)>0:\n",
    "                    output.append(content_based.pop(0) )\n",
    "                    \n",
    "        return output\n",
    "    \n",
    "    if hybrid_method == 3:\n",
    "        \n",
    "        while len(content_based)+len(collaboration_based)>0:\n",
    "                \n",
    "                if len(collaboration_based)>0:\n",
    "                    output.append(collaboration_based.pop(0) )\n",
    "                if len(collaboration_based)>0:\n",
    "                    output.append(collaboration_based.pop(0))\n",
    "                if len(content_based)>0:\n",
    "                    output.append(content_based.pop(0))\n",
    "                    \n",
    "        return output\n",
    "                    \n",
    "    if hybrid_method == \"All\":\n",
    "        \n",
    "        output_1 = hybrid_model_recommendations(user_id,1)\n",
    "        output_2 = hybrid_model_recommendations(user_id,2)\n",
    "        output_3 = hybrid_model_recommendations(user_id,3)\n",
    "        \n",
    "        output_dict[\"method_1\"] = output_1\n",
    "        output_dict[\"method_2\"] = output_2\n",
    "        output_dict[\"method_3\"] = output_3\n",
    "        \n",
    "        return output_dict"
   ]
  },
  {
   "cell_type": "code",
   "execution_count": 95,
   "metadata": {},
   "outputs": [
    {
     "data": {
      "text/plain": [
       "['App do YouTube ganha sistema de bate-papo privado | Google Discovery',\n",
       " 'Conheça o Google Duo: um app de chamadas de vídeo para todos',\n",
       " 'Android irá recomendar aplicativos baseado na localização | Google Discovery',\n",
       " 'How to get the most from your agency relationships in 2017',\n",
       " 'Google começa a preparar o Android para a chegada do Assistant | Google Discovery',\n",
       " 'big data = real time',\n",
       " 'Inbox by Gmail ganha formatação de texto | Google Discovery',\n",
       " 'Google launches Duo video calling app, a dull cross-OS FaceTime rival',\n",
       " 'Introducing Casting into Hangouts',\n",
       " 'Black Friday salva o ano do e-commerce',\n",
       " 'Accenture Launches Content Studio',\n",
       " 'Prototypal Object-Oriented Programming using JavaScript',\n",
       " '1º Congresso Brasileiro de IoT - Embarcados',\n",
       " 'Governo abre consulta pública para Plano Nacional de IoT | NOTÍCIAS - Brasscom',\n",
       " 'Generative Models',\n",
       " 'Talking Payments - Article Profile - 93% of banks expect video to boost satisfaction',\n",
       " 'Cientistas trabalham em técnica que permite imprimir alimentos',\n",
       " 'Psicóloga de Harvard diz que as pessoas julgam você em segundos por esses critérios | Jornal do Empreendedor',\n",
       " \"'The Simpsons' celebrates 600 episodes with a VR couch gag\",\n",
       " 'How to Create an Exponential Mindset']"
      ]
     },
     "execution_count": 95,
     "metadata": {},
     "output_type": "execute_result"
    }
   ],
   "source": [
    "hybrid_model_recommendations(-9172914609055320039,1)"
   ]
  },
  {
   "cell_type": "code",
   "execution_count": 96,
   "metadata": {},
   "outputs": [],
   "source": [
    "user_item['count'] = 1"
   ]
  },
  {
   "cell_type": "markdown",
   "metadata": {},
   "source": [
    "### Making the User-Item Profile"
   ]
  },
  {
   "cell_type": "code",
   "execution_count": 97,
   "metadata": {},
   "outputs": [],
   "source": [
    "user_item_profile = user_item.pivot_table(index='consumer_id',columns=['item_id'],values='count')"
   ]
  },
  {
   "cell_type": "code",
   "execution_count": 183,
   "metadata": {},
   "outputs": [
    {
     "data": {
      "text/html": [
       "<div>\n",
       "<style scoped>\n",
       "    .dataframe tbody tr th:only-of-type {\n",
       "        vertical-align: middle;\n",
       "    }\n",
       "\n",
       "    .dataframe tbody tr th {\n",
       "        vertical-align: top;\n",
       "    }\n",
       "\n",
       "    .dataframe thead th {\n",
       "        text-align: right;\n",
       "    }\n",
       "</style>\n",
       "<table border=\"1\" class=\"dataframe\">\n",
       "  <thead>\n",
       "    <tr style=\"text-align: right;\">\n",
       "      <th>item_id</th>\n",
       "      <th>-9222795471790223670</th>\n",
       "      <th>-9194572880052200111</th>\n",
       "      <th>-9192549002213406534</th>\n",
       "      <th>-9189659052158407108</th>\n",
       "      <th>-9176143510534135851</th>\n",
       "      <th>-9161596996229760398</th>\n",
       "      <th>-9160910454530522563</th>\n",
       "      <th>-9137036168156595470</th>\n",
       "      <th>-9128741757954228992</th>\n",
       "      <th>-9128652074338368262</th>\n",
       "      <th>...</th>\n",
       "      <th>9191014301634017491</th>\n",
       "      <th>9207286802575546269</th>\n",
       "      <th>9208127165664287660</th>\n",
       "      <th>9209629151177723638</th>\n",
       "      <th>9209886322932807692</th>\n",
       "      <th>9213260650272029784</th>\n",
       "      <th>9215261273565326920</th>\n",
       "      <th>9217155070834564627</th>\n",
       "      <th>9220445660318725468</th>\n",
       "      <th>9222265156747237864</th>\n",
       "    </tr>\n",
       "    <tr>\n",
       "      <th>consumer_id</th>\n",
       "      <th></th>\n",
       "      <th></th>\n",
       "      <th></th>\n",
       "      <th></th>\n",
       "      <th></th>\n",
       "      <th></th>\n",
       "      <th></th>\n",
       "      <th></th>\n",
       "      <th></th>\n",
       "      <th></th>\n",
       "      <th></th>\n",
       "      <th></th>\n",
       "      <th></th>\n",
       "      <th></th>\n",
       "      <th></th>\n",
       "      <th></th>\n",
       "      <th></th>\n",
       "      <th></th>\n",
       "      <th></th>\n",
       "      <th></th>\n",
       "      <th></th>\n",
       "    </tr>\n",
       "  </thead>\n",
       "  <tbody>\n",
       "    <tr>\n",
       "      <th>-9223121837663643404</th>\n",
       "      <td>0.0</td>\n",
       "      <td>0.0</td>\n",
       "      <td>0.0</td>\n",
       "      <td>0.0</td>\n",
       "      <td>0.0</td>\n",
       "      <td>0.0</td>\n",
       "      <td>0.0</td>\n",
       "      <td>0.0</td>\n",
       "      <td>0.0</td>\n",
       "      <td>0.0</td>\n",
       "      <td>...</td>\n",
       "      <td>0.0</td>\n",
       "      <td>0.0</td>\n",
       "      <td>0.0</td>\n",
       "      <td>0.0</td>\n",
       "      <td>0.0</td>\n",
       "      <td>0.0</td>\n",
       "      <td>0.0</td>\n",
       "      <td>0.0</td>\n",
       "      <td>0.0</td>\n",
       "      <td>0.0</td>\n",
       "    </tr>\n",
       "    <tr>\n",
       "      <th>-9212075797126931087</th>\n",
       "      <td>0.0</td>\n",
       "      <td>0.0</td>\n",
       "      <td>0.0</td>\n",
       "      <td>0.0</td>\n",
       "      <td>0.0</td>\n",
       "      <td>0.0</td>\n",
       "      <td>0.0</td>\n",
       "      <td>0.0</td>\n",
       "      <td>0.0</td>\n",
       "      <td>0.0</td>\n",
       "      <td>...</td>\n",
       "      <td>0.0</td>\n",
       "      <td>0.0</td>\n",
       "      <td>0.0</td>\n",
       "      <td>0.0</td>\n",
       "      <td>0.0</td>\n",
       "      <td>0.0</td>\n",
       "      <td>0.0</td>\n",
       "      <td>0.0</td>\n",
       "      <td>0.0</td>\n",
       "      <td>0.0</td>\n",
       "    </tr>\n",
       "    <tr>\n",
       "      <th>-9207251133131336884</th>\n",
       "      <td>0.0</td>\n",
       "      <td>0.0</td>\n",
       "      <td>0.0</td>\n",
       "      <td>0.0</td>\n",
       "      <td>0.0</td>\n",
       "      <td>0.0</td>\n",
       "      <td>0.0</td>\n",
       "      <td>0.0</td>\n",
       "      <td>0.0</td>\n",
       "      <td>0.0</td>\n",
       "      <td>...</td>\n",
       "      <td>0.0</td>\n",
       "      <td>0.0</td>\n",
       "      <td>0.0</td>\n",
       "      <td>0.0</td>\n",
       "      <td>0.0</td>\n",
       "      <td>0.0</td>\n",
       "      <td>0.0</td>\n",
       "      <td>0.0</td>\n",
       "      <td>0.0</td>\n",
       "      <td>0.0</td>\n",
       "    </tr>\n",
       "    <tr>\n",
       "      <th>-9199575329909162940</th>\n",
       "      <td>0.0</td>\n",
       "      <td>0.0</td>\n",
       "      <td>0.0</td>\n",
       "      <td>0.0</td>\n",
       "      <td>0.0</td>\n",
       "      <td>0.0</td>\n",
       "      <td>0.0</td>\n",
       "      <td>0.0</td>\n",
       "      <td>0.0</td>\n",
       "      <td>0.0</td>\n",
       "      <td>...</td>\n",
       "      <td>0.0</td>\n",
       "      <td>0.0</td>\n",
       "      <td>0.0</td>\n",
       "      <td>0.0</td>\n",
       "      <td>0.0</td>\n",
       "      <td>0.0</td>\n",
       "      <td>0.0</td>\n",
       "      <td>0.0</td>\n",
       "      <td>0.0</td>\n",
       "      <td>0.0</td>\n",
       "    </tr>\n",
       "    <tr>\n",
       "      <th>-9196668942822132778</th>\n",
       "      <td>0.0</td>\n",
       "      <td>0.0</td>\n",
       "      <td>0.0</td>\n",
       "      <td>0.0</td>\n",
       "      <td>0.0</td>\n",
       "      <td>0.0</td>\n",
       "      <td>0.0</td>\n",
       "      <td>0.0</td>\n",
       "      <td>0.0</td>\n",
       "      <td>0.0</td>\n",
       "      <td>...</td>\n",
       "      <td>0.0</td>\n",
       "      <td>0.0</td>\n",
       "      <td>0.0</td>\n",
       "      <td>0.0</td>\n",
       "      <td>0.0</td>\n",
       "      <td>0.0</td>\n",
       "      <td>0.0</td>\n",
       "      <td>0.0</td>\n",
       "      <td>0.0</td>\n",
       "      <td>0.0</td>\n",
       "    </tr>\n",
       "  </tbody>\n",
       "</table>\n",
       "<p>5 rows × 2105 columns</p>\n",
       "</div>"
      ],
      "text/plain": [
       "item_id               -9222795471790223670  -9194572880052200111  \\\n",
       "consumer_id                                                        \n",
       "-9223121837663643404                   0.0                   0.0   \n",
       "-9212075797126931087                   0.0                   0.0   \n",
       "-9207251133131336884                   0.0                   0.0   \n",
       "-9199575329909162940                   0.0                   0.0   \n",
       "-9196668942822132778                   0.0                   0.0   \n",
       "\n",
       "item_id               -9192549002213406534  -9189659052158407108  \\\n",
       "consumer_id                                                        \n",
       "-9223121837663643404                   0.0                   0.0   \n",
       "-9212075797126931087                   0.0                   0.0   \n",
       "-9207251133131336884                   0.0                   0.0   \n",
       "-9199575329909162940                   0.0                   0.0   \n",
       "-9196668942822132778                   0.0                   0.0   \n",
       "\n",
       "item_id               -9176143510534135851  -9161596996229760398  \\\n",
       "consumer_id                                                        \n",
       "-9223121837663643404                   0.0                   0.0   \n",
       "-9212075797126931087                   0.0                   0.0   \n",
       "-9207251133131336884                   0.0                   0.0   \n",
       "-9199575329909162940                   0.0                   0.0   \n",
       "-9196668942822132778                   0.0                   0.0   \n",
       "\n",
       "item_id               -9160910454530522563  -9137036168156595470  \\\n",
       "consumer_id                                                        \n",
       "-9223121837663643404                   0.0                   0.0   \n",
       "-9212075797126931087                   0.0                   0.0   \n",
       "-9207251133131336884                   0.0                   0.0   \n",
       "-9199575329909162940                   0.0                   0.0   \n",
       "-9196668942822132778                   0.0                   0.0   \n",
       "\n",
       "item_id               -9128741757954228992  -9128652074338368262  ...  \\\n",
       "consumer_id                                                       ...   \n",
       "-9223121837663643404                   0.0                   0.0  ...   \n",
       "-9212075797126931087                   0.0                   0.0  ...   \n",
       "-9207251133131336884                   0.0                   0.0  ...   \n",
       "-9199575329909162940                   0.0                   0.0  ...   \n",
       "-9196668942822132778                   0.0                   0.0  ...   \n",
       "\n",
       "item_id                9191014301634017491   9207286802575546269  \\\n",
       "consumer_id                                                        \n",
       "-9223121837663643404                   0.0                   0.0   \n",
       "-9212075797126931087                   0.0                   0.0   \n",
       "-9207251133131336884                   0.0                   0.0   \n",
       "-9199575329909162940                   0.0                   0.0   \n",
       "-9196668942822132778                   0.0                   0.0   \n",
       "\n",
       "item_id                9208127165664287660   9209629151177723638  \\\n",
       "consumer_id                                                        \n",
       "-9223121837663643404                   0.0                   0.0   \n",
       "-9212075797126931087                   0.0                   0.0   \n",
       "-9207251133131336884                   0.0                   0.0   \n",
       "-9199575329909162940                   0.0                   0.0   \n",
       "-9196668942822132778                   0.0                   0.0   \n",
       "\n",
       "item_id                9209886322932807692   9213260650272029784  \\\n",
       "consumer_id                                                        \n",
       "-9223121837663643404                   0.0                   0.0   \n",
       "-9212075797126931087                   0.0                   0.0   \n",
       "-9207251133131336884                   0.0                   0.0   \n",
       "-9199575329909162940                   0.0                   0.0   \n",
       "-9196668942822132778                   0.0                   0.0   \n",
       "\n",
       "item_id                9215261273565326920   9217155070834564627  \\\n",
       "consumer_id                                                        \n",
       "-9223121837663643404                   0.0                   0.0   \n",
       "-9212075797126931087                   0.0                   0.0   \n",
       "-9207251133131336884                   0.0                   0.0   \n",
       "-9199575329909162940                   0.0                   0.0   \n",
       "-9196668942822132778                   0.0                   0.0   \n",
       "\n",
       "item_id                9220445660318725468   9222265156747237864  \n",
       "consumer_id                                                       \n",
       "-9223121837663643404                   0.0                   0.0  \n",
       "-9212075797126931087                   0.0                   0.0  \n",
       "-9207251133131336884                   0.0                   0.0  \n",
       "-9199575329909162940                   0.0                   0.0  \n",
       "-9196668942822132778                   0.0                   0.0  \n",
       "\n",
       "[5 rows x 2105 columns]"
      ]
     },
     "execution_count": 183,
     "metadata": {},
     "output_type": "execute_result"
    }
   ],
   "source": [
    "user_item_profile.head()"
   ]
  },
  {
   "cell_type": "markdown",
   "metadata": {},
   "source": [
    "### Calculating user similarity matrix"
   ]
  },
  {
   "cell_type": "code",
   "execution_count": 201,
   "metadata": {},
   "outputs": [],
   "source": [
    "from sklearn.metrics.pairwise import cosine_similarity"
   ]
  },
  {
   "cell_type": "code",
   "execution_count": 260,
   "metadata": {},
   "outputs": [],
   "source": [
    "# user similarity matrix\n",
    "user_sim = cosine_similarity(user_item_profile)"
   ]
  },
  {
   "cell_type": "code",
   "execution_count": 261,
   "metadata": {},
   "outputs": [],
   "source": [
    "# this is used to get to the top n elements of a list\n",
    "import heapq"
   ]
  },
  {
   "cell_type": "code",
   "execution_count": 239,
   "metadata": {},
   "outputs": [],
   "source": [
    "def get_key(val):\n",
    "    for key, value in user_id_mapping.items():\n",
    "         if val == value:\n",
    "                return key"
   ]
  },
  {
   "cell_type": "code",
   "execution_count": 263,
   "metadata": {},
   "outputs": [],
   "source": [
    "def get_similar_users(user_id,n_users):\n",
    "    \n",
    "    sim_vector_user = user_sim[user_id_mapping[user_id]]\n",
    "    \n",
    "    users = heapq.nlargest(n_users+1, range(len(sim_vector_user)), key=sim_vector_user.__getitem__)[1:]\n",
    "    \n",
    "    similar_users = []\n",
    "    \n",
    "    articles_by_user = set(user_item_verify[user_item_verify['consumer_id']==user_id]['title'].unique())\n",
    "    \n",
    "    for sim_user in users:\n",
    "        \n",
    "        articles_by_sim_user = set(user_item_verify[user_item_verify['consumer_id']==get_key(sim_user)]['title'].unique())\n",
    "        \n",
    "        common_articles = len(articles_by_user.intersection(articles_by_sim_user))\n",
    "        \n",
    "        similar_users.append((get_key(sim_user),common_articles))\n",
    "    \n",
    "    print(\"Similar Users to {} - \".format(user_id))\n",
    "    for costumer,common_count in similar_users:\n",
    "        \n",
    "        print(\"User {} with {} common articles read\".format(costumer,common_count))"
   ]
  },
  {
   "cell_type": "code",
   "execution_count": 264,
   "metadata": {},
   "outputs": [
    {
     "name": "stdout",
     "output_type": "stream",
     "text": [
      "Similar Users to 1202287501580555390 - \n",
      "User 7565903375902761063 with 7 common articles read\n",
      "User -7496361692498935601 with 13 common articles read\n",
      "User -9223121837663643404 with 11 common articles read\n",
      "User 3637012274012079940 with 4 common articles read\n",
      "User 8236260669729422750 with 4 common articles read\n"
     ]
    }
   ],
   "source": [
    "get_similar_users(1202287501580555390,5)"
   ]
  },
  {
   "cell_type": "markdown",
   "metadata": {},
   "source": [
    "### Item Similarity matrix has already been created using GenSim Library above while making the context based recommendation system"
   ]
  }
 ],
 "metadata": {
  "kernelspec": {
   "display_name": "Python 3",
   "language": "python",
   "name": "python3"
  },
  "language_info": {
   "codemirror_mode": {
    "name": "ipython",
    "version": 3
   },
   "file_extension": ".py",
   "mimetype": "text/x-python",
   "name": "python",
   "nbconvert_exporter": "python",
   "pygments_lexer": "ipython3",
   "version": "3.8.3"
  }
 },
 "nbformat": 4,
 "nbformat_minor": 4
}
