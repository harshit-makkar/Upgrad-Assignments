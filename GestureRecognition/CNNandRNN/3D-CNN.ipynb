{
 "cells": [
  {
   "cell_type": "markdown",
   "metadata": {},
   "source": [
    "# Gesture Recognition\n",
    "In this group project, you are going to build a 3D Conv model that will be able to predict the 5 gestures correctly. Please import the following libraries to get started."
   ]
  },
  {
   "cell_type": "code",
   "execution_count": 1,
   "metadata": {},
   "outputs": [],
   "source": [
    "import numpy as np\n",
    "import os\n",
    "#from scipy.misc import imread, imresize\n",
    "import cv2\n",
    "from imageio import imread\n",
    "import datetime\n",
    "import os\n",
    "import matplotlib.pyplot as plt"
   ]
  },
  {
   "cell_type": "markdown",
   "metadata": {},
   "source": [
    "We set the random seed so that the results don't vary drastically."
   ]
  },
  {
   "cell_type": "code",
   "execution_count": 2,
   "metadata": {},
   "outputs": [
    {
     "name": "stderr",
     "output_type": "stream",
     "text": [
      "Using TensorFlow backend.\n"
     ]
    }
   ],
   "source": [
    "np.random.seed(30)\n",
    "import random as rn\n",
    "rn.seed(30)\n",
    "from keras import backend as K\n",
    "import tensorflow as tf\n",
    "#tf.random.set_seed(30)\n",
    "tf.set_random_seed(30)"
   ]
  },
  {
   "cell_type": "markdown",
   "metadata": {},
   "source": [
    "In this block, you read the folder names for training and validation. You also set the `batch_size` here. Note that you set the batch size in such a way that you are able to use the GPU in full capacity. You keep increasing the batch size until the machine throws an error."
   ]
  },
  {
   "cell_type": "code",
   "execution_count": 3,
   "metadata": {},
   "outputs": [],
   "source": [
    "train_doc = np.random.permutation(open('Project_data/train.csv').readlines())\n",
    "val_doc = np.random.permutation(open('Project_data/val.csv').readlines())\n",
    "batch_size = 32 #experiment with the batch size"
   ]
  },
  {
   "cell_type": "markdown",
   "metadata": {},
   "source": [
    "## Generator\n",
    "This is one of the most important part of the code. The overall structure of the generator has been given. In the generator, you are going to preprocess the images as you have images of 2 different dimensions as well as create a batch of video frames. You have to experiment with `img_idx`, `y`,`z` and normalization such that you get high accuracy."
   ]
  },
  {
   "cell_type": "code",
   "execution_count": 4,
   "metadata": {},
   "outputs": [],
   "source": [
    "source_path = 'Project_data/train'"
   ]
  },
  {
   "cell_type": "code",
   "execution_count": 5,
   "metadata": {},
   "outputs": [
    {
     "data": {
      "text/plain": [
       "\"\\n# different image sizes in the dataset\\nsizes = []\\nfor i in range(len(train_doc)):\\n    imgs = os.listdir(source_path+'/'+ train_doc[i].split(';')[0])\\n    for image in imgs:\\n        pic = imread(source_path+'/'+ train_doc[i].strip().split(';')[0]+'/'+image).astype(np.float32)\\n        if pic.shape not in sizes:\\n            sizes.append(pic.shape)\\n\\n\\nprint(sizes)\\n\""
      ]
     },
     "execution_count": 5,
     "metadata": {},
     "output_type": "execute_result"
    }
   ],
   "source": [
    "'''\n",
    "# different image sizes in the dataset\n",
    "sizes = []\n",
    "for i in range(len(train_doc)):\n",
    "    imgs = os.listdir(source_path+'/'+ train_doc[i].split(';')[0])\n",
    "    for image in imgs:\n",
    "        pic = imread(source_path+'/'+ train_doc[i].strip().split(';')[0]+'/'+image).astype(np.float32)\n",
    "        if pic.shape not in sizes:\n",
    "            sizes.append(pic.shape)\n",
    "\n",
    "\n",
    "print(sizes)\n",
    "'''"
   ]
  },
  {
   "cell_type": "code",
   "execution_count": 6,
   "metadata": {},
   "outputs": [],
   "source": [
    "def shape_image(img,height,width):\n",
    "    \n",
    "    if img.shape[0] != height and img.shape[1] != width:\n",
    "                    h, w, _ = img.shape\n",
    "                    img = cv2.resize(img, (width,height), interpolation = cv2.INTER_AREA)\n",
    "    return img"
   ]
  },
  {
   "cell_type": "code",
   "execution_count": 7,
   "metadata": {},
   "outputs": [],
   "source": [
    "def generator(source_path, folder_list, batch_size):\n",
    "    print( 'Source path = ', source_path, '; batch size =', batch_size)\n",
    "    img_idx = list(range(5,25)) #create a list of image numbers you want to use for a particular video\n",
    "    while True:\n",
    "        t = np.random.permutation(folder_list)\n",
    "        number_of_data_points = len(folder_list)\n",
    "        num_batches = number_of_data_points // batch_size # calculate the number of batches\n",
    "        for batch in range(num_batches):# we iterate over the number of batches\n",
    "            # we are going to use 120*160 size of image\n",
    "            batch_data = np.zeros((batch_size,len(img_idx),120,160,3)) # x is the number of images you use for each video, (y,z) is the final size of the input images and 3 is the number of channels RGB\n",
    "            batch_labels = np.zeros((batch_size,5)) # batch_labels is the one hot representation of the output\n",
    "            for folder in range(batch_size): # iterate over the batch_size\n",
    "                imgs = os.listdir(source_path+'/'+ t[folder + (batch*batch_size)].split(';')[0]) # read all the images in the folder\n",
    "                for idx,item in enumerate(img_idx): #  Iterate iver the frames/images of a folder to read them in\n",
    "                    image = imread(source_path+'/'+ t[folder + (batch*batch_size)].strip().split(';')[0]+'/'+imgs[item]).astype(np.float32)\n",
    "                    \n",
    "                    #crop the images and resize them. Note that the images are of 2 different shape \n",
    "                    #and the conv3D will throw error if the inputs in a batch have different shapes\n",
    "                    image = shape_image(image,120,160)\n",
    "                    \n",
    "                    #normalising the images. As these are natural imgs, divide by 255 will work\n",
    "                    batch_data[folder,idx,:,:,0] = image[:,:,0] / 255 \n",
    "                    batch_data[folder,idx,:,:,1] = image[:,:,1] / 255\n",
    "                    batch_data[folder,idx,:,:,2] = image[:,:,2] / 255\n",
    "                    \n",
    "                batch_labels[folder, int(t[folder + (batch*batch_size)].strip().split(';')[2])] = 1\n",
    "            yield batch_data, batch_labels #you yield the batch_data and the batch_labels, remember what does yield do\n",
    "\n",
    "        \n",
    "        # write the code for the remaining data points which are left after full batches\n",
    "        if number_of_data_points % batch_size == 0:\n",
    "            pass\n",
    "        else:\n",
    "            data_points_remained = number_of_data_points % batch_size\n",
    "            last_datapoint_included = batch_size * num_batches\n",
    "            batch_data = np.zeros((data_points_remained,len(img_idx),120,160,3))\n",
    "            batch_labels = np.zeros((data_points_remained,5))\n",
    "            \n",
    "            for folder in range(data_points_remained):\n",
    "                imgs = os.listdir(source_path+'/'+ t[folder].split(';')[0]) # read all the images in the folder\n",
    "                for idx,item in enumerate(img_idx): #  Iterate iver the frames/images of a folder to read them in\n",
    "                    image = imread(source_path+'/'+ t[folder].strip().split(';')[0]+'/'+imgs[item]).astype(np.float32)\n",
    "                    \n",
    "                    image = shape_image(image,120,160)\n",
    "                    \n",
    "                    batch_data[folder,idx,:,:,0] = image[:,:,0] / 255\n",
    "                    batch_data[folder,idx,:,:,1] = image[:,:,1] / 255\n",
    "                    batch_data[folder,idx,:,:,2] = image[:,:,2] / 255\n",
    "                    \n",
    "                batch_labels[folder, int(t[folder].strip().split(';')[2])] = 1\n",
    "            yield batch_data, batch_labels"
   ]
  },
  {
   "cell_type": "markdown",
   "metadata": {},
   "source": [
    "Note here that a video is represented above in the generator as (number of images, height, width, number of channels). Take this into consideration while creating the model architecture."
   ]
  },
  {
   "cell_type": "code",
   "execution_count": 8,
   "metadata": {},
   "outputs": [
    {
     "name": "stdout",
     "output_type": "stream",
     "text": [
      "# training sequences = 663\n",
      "# validation sequences = 100\n",
      "# epochs = 50\n"
     ]
    }
   ],
   "source": [
    "curr_dt_time = datetime.datetime.now()\n",
    "train_path = 'Project_data/train'\n",
    "val_path = 'Project_data/val'\n",
    "num_train_sequences = len(train_doc)\n",
    "print('# training sequences =', num_train_sequences)\n",
    "num_val_sequences = len(val_doc)\n",
    "print('# validation sequences =', num_val_sequences)\n",
    "num_epochs = 50\n",
    "print ('# epochs =', num_epochs)"
   ]
  },
  {
   "cell_type": "markdown",
   "metadata": {},
   "source": [
    "## Model\n",
    "Here you make the model using different functionalities that Keras provides. Remember to use `Conv3D` and `MaxPooling3D` and not `Conv2D` and `Maxpooling2D` for a 3D convolution model. You would want to use `TimeDistributed` while building a Conv2D + RNN model. Also remember that the last layer is the softmax. Design the network in such a way that the model is able to give good accuracy on the least number of parameters so that it can fit in the memory of the webcam."
   ]
  },
  {
   "cell_type": "code",
   "execution_count": 9,
   "metadata": {},
   "outputs": [],
   "source": [
    "# 20 is the number of images we are taking for each video - 20 (img_idx)\n",
    "# shape of each image is 120*160 and each image has 3 channels\n",
    "sample_shape = (20, 120, 160, 3)"
   ]
  },
  {
   "cell_type": "code",
   "execution_count": 10,
   "metadata": {},
   "outputs": [],
   "source": [
    "from keras.models import Sequential, Model\n",
    "from keras.layers import Dense, GRU, Flatten, TimeDistributed, Flatten, BatchNormalization, Activation, Dropout\n",
    "from keras.layers.convolutional import Conv3D, MaxPooling3D\n",
    "from keras.callbacks import ModelCheckpoint, ReduceLROnPlateau\n",
    "from keras import optimizers\n",
    "from keras.regularizers import l1,l2\n",
    "\n",
    "\n",
    "#write your model here\n",
    "model = Sequential()\n",
    "model.add(Conv3D(32, kernel_size=(3, 3, 3), activation='relu', input_shape=sample_shape))\n",
    "model.add(MaxPooling3D(pool_size=(2, 2, 2)))\n",
    "model.add(BatchNormalization(center=True, scale=True))\n",
    "model.add(Conv3D(64, kernel_size=(3, 3, 3), activation='relu'))\n",
    "model.add(MaxPooling3D(pool_size=(2, 2, 2)))\n",
    "model.add(BatchNormalization(center=True, scale=True))\n",
    "model.add(Conv3D(128, kernel_size=(3, 3, 3), activation='relu'))\n",
    "model.add(BatchNormalization(center=True, scale=True))\n",
    "model.add(Flatten())\n",
    "model.add(Dense(64, activation='relu'))\n",
    "model.add(Dense(128, activation='relu'))\n",
    "model.add(Dense(128, activation='relu'))\n",
    "model.add(Dense(5, activation='softmax'))"
   ]
  },
  {
   "cell_type": "markdown",
   "metadata": {},
   "source": [
    "Now that you have written the model, the next step is to `compile` the model. When you print the `summary` of the model, you'll see the total number of parameters you have to train."
   ]
  },
  {
   "cell_type": "code",
   "execution_count": 11,
   "metadata": {
    "scrolled": true
   },
   "outputs": [
    {
     "name": "stdout",
     "output_type": "stream",
     "text": [
      "_________________________________________________________________\n",
      "Layer (type)                 Output Shape              Param #   \n",
      "=================================================================\n",
      "conv3d_1 (Conv3D)            (None, 18, 118, 158, 32)  2624      \n",
      "_________________________________________________________________\n",
      "max_pooling3d_1 (MaxPooling3 (None, 9, 59, 79, 32)     0         \n",
      "_________________________________________________________________\n",
      "batch_normalization_1 (Batch (None, 9, 59, 79, 32)     128       \n",
      "_________________________________________________________________\n",
      "conv3d_2 (Conv3D)            (None, 7, 57, 77, 64)     55360     \n",
      "_________________________________________________________________\n",
      "max_pooling3d_2 (MaxPooling3 (None, 3, 28, 38, 64)     0         \n",
      "_________________________________________________________________\n",
      "batch_normalization_2 (Batch (None, 3, 28, 38, 64)     256       \n",
      "_________________________________________________________________\n",
      "conv3d_3 (Conv3D)            (None, 1, 26, 36, 128)    221312    \n",
      "_________________________________________________________________\n",
      "batch_normalization_3 (Batch (None, 1, 26, 36, 128)    512       \n",
      "_________________________________________________________________\n",
      "flatten_1 (Flatten)          (None, 119808)            0         \n",
      "_________________________________________________________________\n",
      "dense_1 (Dense)              (None, 64)                7667776   \n",
      "_________________________________________________________________\n",
      "dense_2 (Dense)              (None, 128)               8320      \n",
      "_________________________________________________________________\n",
      "dense_3 (Dense)              (None, 128)               16512     \n",
      "_________________________________________________________________\n",
      "dense_4 (Dense)              (None, 5)                 645       \n",
      "=================================================================\n",
      "Total params: 7,973,445\n",
      "Trainable params: 7,972,997\n",
      "Non-trainable params: 448\n",
      "_________________________________________________________________\n",
      "None\n"
     ]
    }
   ],
   "source": [
    "optimiser = optimizers.SGD(lr=0.01)\n",
    "model.compile(optimizer=optimiser, loss='categorical_crossentropy', metrics=['categorical_accuracy'])\n",
    "print (model.summary())"
   ]
  },
  {
   "cell_type": "markdown",
   "metadata": {},
   "source": [
    "Let us create the `train_generator` and the `val_generator` which will be used in `.fit_generator`."
   ]
  },
  {
   "cell_type": "code",
   "execution_count": 12,
   "metadata": {},
   "outputs": [],
   "source": [
    "train_generator = generator(train_path, train_doc, batch_size)\n",
    "val_generator = generator(val_path, val_doc, batch_size)"
   ]
  },
  {
   "cell_type": "code",
   "execution_count": 13,
   "metadata": {},
   "outputs": [],
   "source": [
    "model_name = 'model_init' + '_' + str(curr_dt_time).replace(' ','').replace(':','_') + '/'\n",
    "\n",
    "if not os.path.exists(model_name):\n",
    "    os.mkdir(model_name)\n",
    "        \n",
    "filepath = model_name + 'model-{epoch:05d}-{loss:.5f}-{categorical_accuracy:.5f}-{val_loss:.5f}-{val_categorical_accuracy:.5f}.h5'\n",
    "\n",
    "checkpoint = ModelCheckpoint(filepath, monitor='val_categorical_accuracy', verbose=1, save_best_only=True, save_weights_only=False, mode='auto', period=1)\n",
    "\n",
    "# write the REducelronplateau code here\n",
    "LR = ReduceLROnPlateau(monitor='val_categorical_accuracy', factor=0.2,patience=3, min_lr=0.001) \n",
    "callbacks_list = [checkpoint, LR]"
   ]
  },
  {
   "cell_type": "markdown",
   "metadata": {},
   "source": [
    "The `steps_per_epoch` and `validation_steps` are used by `fit_generator` to decide the number of next() calls it need to make."
   ]
  },
  {
   "cell_type": "code",
   "execution_count": 14,
   "metadata": {},
   "outputs": [],
   "source": [
    "if (num_train_sequences%batch_size) == 0:\n",
    "    steps_per_epoch = int(num_train_sequences/batch_size)\n",
    "else:\n",
    "    steps_per_epoch = (num_train_sequences//batch_size) + 1\n",
    "\n",
    "if (num_val_sequences%batch_size) == 0:\n",
    "    validation_steps = int(num_val_sequences/batch_size)\n",
    "else:\n",
    "    validation_steps = (num_val_sequences//batch_size) + 1"
   ]
  },
  {
   "cell_type": "markdown",
   "metadata": {},
   "source": [
    "Let us now fit the model. This will start training the model and with the help of the checkpoints, you'll be able to save the model at the end of each epoch."
   ]
  },
  {
   "cell_type": "code",
   "execution_count": 15,
   "metadata": {},
   "outputs": [
    {
     "name": "stdout",
     "output_type": "stream",
     "text": [
      "Source path =  Project_data/val ; batch size = 32\n",
      "Source path =  Project_data/trainEpoch 1/50\n",
      " ; batch size = 32\n",
      " - 53s - loss: 1.1766 - categorical_accuracy: 0.4977 - val_loss: 1.6137 - val_categorical_accuracy: 0.3900\n",
      "\n",
      "Epoch 00001: val_categorical_accuracy improved from -inf to 0.39000, saving model to model_init_2020-11-0214_27_29.496584/model-00001-1.18107-0.49623-1.61373-0.39000.h5\n",
      "Epoch 2/50\n",
      " - 41s - loss: 0.5102 - categorical_accuracy: 0.8267 - val_loss: 0.8097 - val_categorical_accuracy: 0.7000\n",
      "\n",
      "Epoch 00002: val_categorical_accuracy improved from 0.39000 to 0.70000, saving model to model_init_2020-11-0214_27_29.496584/model-00002-0.51488-0.82504-0.80969-0.70000.h5\n",
      "Epoch 3/50\n",
      " - 43s - loss: 0.1300 - categorical_accuracy: 0.9672 - val_loss: 0.7522 - val_categorical_accuracy: 0.7200\n",
      "\n",
      "Epoch 00003: val_categorical_accuracy improved from 0.70000 to 0.72000, saving model to model_init_2020-11-0214_27_29.496584/model-00003-0.13112-0.96682-0.75223-0.72000.h5\n",
      "Epoch 4/50\n",
      " - 44s - loss: 0.0292 - categorical_accuracy: 0.9985 - val_loss: 0.6437 - val_categorical_accuracy: 0.7800\n",
      "\n",
      "Epoch 00004: val_categorical_accuracy improved from 0.72000 to 0.78000, saving model to model_init_2020-11-0214_27_29.496584/model-00004-0.02943-0.99849-0.64373-0.78000.h5\n",
      "Epoch 5/50\n",
      " - 43s - loss: 0.0139 - categorical_accuracy: 1.0000 - val_loss: 0.7454 - val_categorical_accuracy: 0.7500\n",
      "\n",
      "Epoch 00005: val_categorical_accuracy did not improve from 0.78000\n",
      "Epoch 6/50\n",
      " - 43s - loss: 0.0093 - categorical_accuracy: 1.0000 - val_loss: 0.6421 - val_categorical_accuracy: 0.7900\n",
      "\n",
      "Epoch 00006: val_categorical_accuracy improved from 0.78000 to 0.79000, saving model to model_init_2020-11-0214_27_29.496584/model-00006-0.00926-1.00000-0.64206-0.79000.h5\n",
      "Epoch 7/50\n",
      " - 43s - loss: 0.0065 - categorical_accuracy: 1.0000 - val_loss: 0.7047 - val_categorical_accuracy: 0.7600\n",
      "\n",
      "Epoch 00007: val_categorical_accuracy did not improve from 0.79000\n",
      "Epoch 8/50\n",
      " - 43s - loss: 0.0057 - categorical_accuracy: 1.0000 - val_loss: 0.7055 - val_categorical_accuracy: 0.7800\n",
      "\n",
      "Epoch 00008: val_categorical_accuracy did not improve from 0.79000\n",
      "Epoch 9/50\n",
      " - 44s - loss: 0.0041 - categorical_accuracy: 1.0000 - val_loss: 0.6939 - val_categorical_accuracy: 0.7600\n",
      "\n",
      "Epoch 00009: val_categorical_accuracy did not improve from 0.79000\n",
      "Epoch 10/50\n",
      " - 44s - loss: 0.0043 - categorical_accuracy: 1.0000 - val_loss: 0.7109 - val_categorical_accuracy: 0.7700\n",
      "\n",
      "Epoch 00010: val_categorical_accuracy did not improve from 0.79000\n",
      "Epoch 11/50\n",
      " - 43s - loss: 0.0038 - categorical_accuracy: 1.0000 - val_loss: 0.6556 - val_categorical_accuracy: 0.7800\n",
      "\n",
      "Epoch 00011: val_categorical_accuracy did not improve from 0.79000\n",
      "Epoch 12/50\n",
      " - 44s - loss: 0.0036 - categorical_accuracy: 1.0000 - val_loss: 0.6489 - val_categorical_accuracy: 0.7900\n",
      "\n",
      "Epoch 00012: val_categorical_accuracy did not improve from 0.79000\n",
      "Epoch 13/50\n",
      " - 43s - loss: 0.0036 - categorical_accuracy: 1.0000 - val_loss: 0.6170 - val_categorical_accuracy: 0.8000\n",
      "\n",
      "Epoch 00013: val_categorical_accuracy improved from 0.79000 to 0.80000, saving model to model_init_2020-11-0214_27_29.496584/model-00013-0.00364-1.00000-0.61704-0.80000.h5\n",
      "Epoch 14/50\n",
      " - 43s - loss: 0.0034 - categorical_accuracy: 1.0000 - val_loss: 0.6859 - val_categorical_accuracy: 0.7600\n",
      "\n",
      "Epoch 00014: val_categorical_accuracy did not improve from 0.80000\n",
      "Epoch 15/50\n",
      " - 43s - loss: 0.0038 - categorical_accuracy: 1.0000 - val_loss: 0.6720 - val_categorical_accuracy: 0.7700\n",
      "\n",
      "Epoch 00015: val_categorical_accuracy did not improve from 0.80000\n",
      "Epoch 16/50\n",
      " - 44s - loss: 0.0039 - categorical_accuracy: 1.0000 - val_loss: 0.6727 - val_categorical_accuracy: 0.7800\n",
      "\n",
      "Epoch 00016: val_categorical_accuracy did not improve from 0.80000\n",
      "Epoch 17/50\n",
      " - 43s - loss: 0.0035 - categorical_accuracy: 1.0000 - val_loss: 0.6758 - val_categorical_accuracy: 0.7700\n",
      "\n",
      "Epoch 00017: val_categorical_accuracy did not improve from 0.80000\n",
      "Epoch 18/50\n",
      " - 43s - loss: 0.0036 - categorical_accuracy: 1.0000 - val_loss: 0.7112 - val_categorical_accuracy: 0.7800\n",
      "\n",
      "Epoch 00018: val_categorical_accuracy did not improve from 0.80000\n",
      "Epoch 19/50\n",
      " - 43s - loss: 0.0037 - categorical_accuracy: 1.0000 - val_loss: 0.7176 - val_categorical_accuracy: 0.7800\n",
      "\n",
      "Epoch 00019: val_categorical_accuracy did not improve from 0.80000\n",
      "Epoch 20/50\n",
      " - 43s - loss: 0.0034 - categorical_accuracy: 1.0000 - val_loss: 0.6312 - val_categorical_accuracy: 0.7900\n",
      "\n",
      "Epoch 00020: val_categorical_accuracy did not improve from 0.80000\n",
      "Epoch 21/50\n",
      " - 43s - loss: 0.0033 - categorical_accuracy: 1.0000 - val_loss: 0.5986 - val_categorical_accuracy: 0.7900\n",
      "\n",
      "Epoch 00021: val_categorical_accuracy did not improve from 0.80000\n",
      "Epoch 22/50\n",
      " - 43s - loss: 0.0034 - categorical_accuracy: 1.0000 - val_loss: 0.6519 - val_categorical_accuracy: 0.8000\n",
      "\n",
      "Epoch 00022: val_categorical_accuracy did not improve from 0.80000\n",
      "Epoch 23/50\n",
      " - 43s - loss: 0.0031 - categorical_accuracy: 1.0000 - val_loss: 0.6469 - val_categorical_accuracy: 0.7900\n",
      "\n",
      "Epoch 00023: val_categorical_accuracy did not improve from 0.80000\n",
      "Epoch 24/50\n",
      " - 43s - loss: 0.0031 - categorical_accuracy: 1.0000 - val_loss: 0.6605 - val_categorical_accuracy: 0.7900\n",
      "\n",
      "Epoch 00024: val_categorical_accuracy did not improve from 0.80000\n",
      "Epoch 25/50\n",
      " - 43s - loss: 0.0033 - categorical_accuracy: 1.0000 - val_loss: 0.6173 - val_categorical_accuracy: 0.8100\n",
      "\n",
      "Epoch 00025: val_categorical_accuracy improved from 0.80000 to 0.81000, saving model to model_init_2020-11-0214_27_29.496584/model-00025-0.00330-1.00000-0.61734-0.81000.h5\n",
      "Epoch 26/50\n",
      " - 43s - loss: 0.0030 - categorical_accuracy: 1.0000 - val_loss: 0.6591 - val_categorical_accuracy: 0.7900\n",
      "\n",
      "Epoch 00026: val_categorical_accuracy did not improve from 0.81000\n",
      "Epoch 27/50\n",
      " - 43s - loss: 0.0031 - categorical_accuracy: 1.0000 - val_loss: 0.6515 - val_categorical_accuracy: 0.7900\n",
      "\n",
      "Epoch 00027: val_categorical_accuracy did not improve from 0.81000\n",
      "Epoch 28/50\n",
      " - 43s - loss: 0.0029 - categorical_accuracy: 1.0000 - val_loss: 0.6741 - val_categorical_accuracy: 0.7900\n",
      "\n",
      "Epoch 00028: val_categorical_accuracy did not improve from 0.81000\n",
      "Epoch 29/50\n",
      " - 43s - loss: 0.0029 - categorical_accuracy: 1.0000 - val_loss: 0.6860 - val_categorical_accuracy: 0.7700\n",
      "\n",
      "Epoch 00029: val_categorical_accuracy did not improve from 0.81000\n",
      "Epoch 30/50\n",
      " - 43s - loss: 0.0028 - categorical_accuracy: 1.0000 - val_loss: 0.6558 - val_categorical_accuracy: 0.7800\n",
      "\n",
      "Epoch 00030: val_categorical_accuracy did not improve from 0.81000\n",
      "Epoch 31/50\n",
      " - 43s - loss: 0.0027 - categorical_accuracy: 1.0000 - val_loss: 0.6875 - val_categorical_accuracy: 0.7800\n",
      "\n",
      "Epoch 00031: val_categorical_accuracy did not improve from 0.81000\n",
      "Epoch 32/50\n",
      " - 43s - loss: 0.0030 - categorical_accuracy: 1.0000 - val_loss: 0.7248 - val_categorical_accuracy: 0.7800\n",
      "\n",
      "Epoch 00032: val_categorical_accuracy did not improve from 0.81000\n",
      "Epoch 33/50\n",
      " - 42s - loss: 0.0028 - categorical_accuracy: 1.0000 - val_loss: 0.6831 - val_categorical_accuracy: 0.7800\n",
      "\n",
      "Epoch 00033: val_categorical_accuracy did not improve from 0.81000\n",
      "Epoch 34/50\n",
      " - 42s - loss: 0.0026 - categorical_accuracy: 1.0000 - val_loss: 0.6674 - val_categorical_accuracy: 0.7900\n",
      "\n",
      "Epoch 00034: val_categorical_accuracy did not improve from 0.81000\n",
      "Epoch 35/50\n",
      " - 42s - loss: 0.0027 - categorical_accuracy: 1.0000 - val_loss: 0.6713 - val_categorical_accuracy: 0.7900\n",
      "\n",
      "Epoch 00035: val_categorical_accuracy did not improve from 0.81000\n",
      "Epoch 36/50\n",
      " - 42s - loss: 0.0028 - categorical_accuracy: 1.0000 - val_loss: 0.6186 - val_categorical_accuracy: 0.8000\n",
      "\n",
      "Epoch 00036: val_categorical_accuracy did not improve from 0.81000\n",
      "Epoch 37/50\n",
      " - 42s - loss: 0.0029 - categorical_accuracy: 1.0000 - val_loss: 0.6940 - val_categorical_accuracy: 0.7700\n",
      "\n",
      "Epoch 00037: val_categorical_accuracy did not improve from 0.81000\n",
      "Epoch 38/50\n",
      " - 42s - loss: 0.0027 - categorical_accuracy: 1.0000 - val_loss: 0.7191 - val_categorical_accuracy: 0.7700\n",
      "\n",
      "Epoch 00038: val_categorical_accuracy did not improve from 0.81000\n",
      "Epoch 39/50\n",
      " - 43s - loss: 0.0026 - categorical_accuracy: 1.0000 - val_loss: 0.7262 - val_categorical_accuracy: 0.7800\n",
      "\n",
      "Epoch 00039: val_categorical_accuracy did not improve from 0.81000\n",
      "Epoch 40/50\n",
      " - 42s - loss: 0.0027 - categorical_accuracy: 1.0000 - val_loss: 0.6543 - val_categorical_accuracy: 0.8000\n",
      "\n",
      "Epoch 00040: val_categorical_accuracy did not improve from 0.81000\n",
      "Epoch 41/50\n",
      " - 42s - loss: 0.0027 - categorical_accuracy: 1.0000 - val_loss: 0.7160 - val_categorical_accuracy: 0.7900\n",
      "\n",
      "Epoch 00041: val_categorical_accuracy did not improve from 0.81000\n",
      "Epoch 42/50\n",
      " - 43s - loss: 0.0029 - categorical_accuracy: 1.0000 - val_loss: 0.7380 - val_categorical_accuracy: 0.7800\n",
      "\n",
      "Epoch 00042: val_categorical_accuracy did not improve from 0.81000\n",
      "Epoch 43/50\n",
      " - 43s - loss: 0.0025 - categorical_accuracy: 1.0000 - val_loss: 0.6480 - val_categorical_accuracy: 0.8100\n",
      "\n",
      "Epoch 00043: val_categorical_accuracy did not improve from 0.81000\n",
      "Epoch 44/50\n",
      " - 43s - loss: 0.0024 - categorical_accuracy: 1.0000 - val_loss: 0.6604 - val_categorical_accuracy: 0.8000\n",
      "\n",
      "Epoch 00044: val_categorical_accuracy did not improve from 0.81000\n",
      "Epoch 45/50\n",
      " - 43s - loss: 0.0024 - categorical_accuracy: 1.0000 - val_loss: 0.6886 - val_categorical_accuracy: 0.7900\n",
      "\n",
      "Epoch 00045: val_categorical_accuracy did not improve from 0.81000\n",
      "Epoch 46/50\n",
      " - 43s - loss: 0.0024 - categorical_accuracy: 1.0000 - val_loss: 0.6407 - val_categorical_accuracy: 0.8000\n",
      "\n",
      "Epoch 00046: val_categorical_accuracy did not improve from 0.81000\n",
      "Epoch 47/50\n",
      " - 43s - loss: 0.0026 - categorical_accuracy: 1.0000 - val_loss: 0.7214 - val_categorical_accuracy: 0.7900\n",
      "\n",
      "Epoch 00047: val_categorical_accuracy did not improve from 0.81000\n",
      "Epoch 48/50\n",
      " - 43s - loss: 0.0026 - categorical_accuracy: 1.0000 - val_loss: 0.6659 - val_categorical_accuracy: 0.8000\n",
      "\n",
      "Epoch 00048: val_categorical_accuracy did not improve from 0.81000\n",
      "Epoch 49/50\n",
      " - 43s - loss: 0.0029 - categorical_accuracy: 1.0000 - val_loss: 0.6722 - val_categorical_accuracy: 0.7900\n",
      "\n",
      "Epoch 00049: val_categorical_accuracy did not improve from 0.81000\n",
      "Epoch 50/50\n",
      " - 43s - loss: 0.0024 - categorical_accuracy: 1.0000 - val_loss: 0.7023 - val_categorical_accuracy: 0.7700\n",
      "\n",
      "Epoch 00050: val_categorical_accuracy did not improve from 0.81000\n"
     ]
    },
    {
     "data": {
      "text/plain": [
       "<keras.callbacks.History at 0x7f50d102b5c0>"
      ]
     },
     "execution_count": 15,
     "metadata": {},
     "output_type": "execute_result"
    }
   ],
   "source": [
    "model.fit_generator(train_generator, steps_per_epoch=steps_per_epoch, epochs=num_epochs, verbose=2, \n",
    "                    callbacks=callbacks_list, validation_data=val_generator, \n",
    "                    validation_steps=validation_steps, class_weight=None, workers=1, initial_epoch=0)"
   ]
  },
  {
   "cell_type": "code",
   "execution_count": 16,
   "metadata": {},
   "outputs": [
    {
     "data": {
      "image/png": "[encoded data removed]",
      "text/plain": [
       "<Figure size 432x288 with 1 Axes>"
      ]
     },
     "metadata": {},
     "output_type": "display_data"
    }
   ],
   "source": [
    "plt.plot(model.history.history['val_categorical_accuracy'],label='val_categorical_accuracy')\n",
    "plt.plot(model.history.history['categorical_accuracy'],label='categorical_accuracy')\n",
    "plt.plot(model.history.history['val_loss'],label='val_loss')\n",
    "plt.plot(model.history.history['loss'],label='loss')\n",
    "plt.xlabel('epochs')\n",
    "plt.legend(loc='best')\n",
    "plt.show()"
   ]
  }
 ],
 "metadata": {
  "kernelspec": {
   "display_name": "Python 3",
   "language": "python",
   "name": "python3"
  },
  "language_info": {
   "codemirror_mode": {
    "name": "ipython",
    "version": 3
   },
   "file_extension": ".py",
   "mimetype": "text/x-python",
   "name": "python",
   "nbconvert_exporter": "python",
   "pygments_lexer": "ipython3",
   "version": "3.6.8"
  }
 },
 "nbformat": 4,
 "nbformat_minor": 2
}
