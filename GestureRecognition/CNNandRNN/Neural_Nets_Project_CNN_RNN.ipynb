{
 "cells": [
  {
   "cell_type": "markdown",
   "metadata": {},
   "source": [
    "# Gesture Recognition\n",
    "In this group project, you are going to build an <b>CNN-RNN Model</b> that will be able to predict the 5 gestures correctly. Please import the following libraries to get started."
   ]
  },
  {
   "cell_type": "code",
   "execution_count": 1,
   "metadata": {},
   "outputs": [],
   "source": [
    "import numpy as np\n",
    "import os\n",
    "import cv2\n",
    "from imageio import imread\n",
    "import datetime\n",
    "import os"
   ]
  },
  {
   "cell_type": "markdown",
   "metadata": {},
   "source": [
    "We set the random seed so that the results don't vary drastically."
   ]
  },
  {
   "cell_type": "code",
   "execution_count": 2,
   "metadata": {},
   "outputs": [
    {
     "name": "stderr",
     "output_type": "stream",
     "text": [
      "Using TensorFlow backend.\n"
     ]
    }
   ],
   "source": [
    "np.random.seed(30)\n",
    "import random as rn\n",
    "rn.seed(30)\n",
    "from keras import backend as K\n",
    "import tensorflow as tf\n",
    "tf.set_random_seed(30)"
   ]
  },
  {
   "cell_type": "markdown",
   "metadata": {},
   "source": [
    "In this block, you read the folder names for training and validation. You also set the `batch_size` here. Note that you set the batch size in such a way that you are able to use the GPU in full capacity. You keep increasing the batch size until the machine throws an error."
   ]
  },
  {
   "cell_type": "code",
   "execution_count": 3,
   "metadata": {},
   "outputs": [],
   "source": [
    "train_doc = np.random.permutation(open('Project_data/train.csv').readlines())\n",
    "val_doc = np.random.permutation(open('Project_data/val.csv').readlines())\n",
    "batch_size = 50 #experiment with the batch size"
   ]
  },
  {
   "cell_type": "markdown",
   "metadata": {},
   "source": [
    "## Generator\n",
    "This is one of the most important part of the code. The overall structure of the generator has been given. In the generator, you are going to preprocess the images as you have images of 2 different dimensions as well as create a batch of video frames. You have to experiment with `img_idx`, `y`,`z` and normalization such that you get high accuracy."
   ]
  },
  {
   "cell_type": "code",
   "execution_count": 4,
   "metadata": {},
   "outputs": [
    {
     "data": {
      "text/plain": [
       "\"\\n# different image sizes in the dataset\\nsizes = []\\nfor i in range(len(train_doc)):\\n    imgs = os.listdir(source_path+'/'+ train_doc[i].split(';')[0])\\n    for image in imgs:\\n        pic = imread(source_path+'/'+ train_doc[i].strip().split(';')[0]+'/'+image).astype(np.float32)\\n        if pic.shape not in sizes:\\n            sizes.append(pic.shape)\\n\\n\\nprint(sizes)\\n\""
      ]
     },
     "execution_count": 4,
     "metadata": {},
     "output_type": "execute_result"
    }
   ],
   "source": [
    "'''\n",
    "# different image sizes in the dataset\n",
    "sizes = []\n",
    "for i in range(len(train_doc)):\n",
    "    imgs = os.listdir(source_path+'/'+ train_doc[i].split(';')[0])\n",
    "    for image in imgs:\n",
    "        pic = imread(source_path+'/'+ train_doc[i].strip().split(';')[0]+'/'+image).astype(np.float32)\n",
    "        if pic.shape not in sizes:\n",
    "            sizes.append(pic.shape)\n",
    "\n",
    "\n",
    "print(sizes)\n",
    "'''"
   ]
  },
  {
   "cell_type": "code",
   "execution_count": 5,
   "metadata": {},
   "outputs": [],
   "source": [
    "def shape_image(img,height,width):\n",
    "    \n",
    "    if img.shape[0] != height and img.shape[1] != width:\n",
    "                    h, w, _ = img.shape\n",
    "                    img = cv2.resize(img, (width,height), interpolation = cv2.INTER_AREA)\n",
    "    return img"
   ]
  },
  {
   "cell_type": "code",
   "execution_count": 6,
   "metadata": {},
   "outputs": [],
   "source": [
    "source_path = 'Project_data/train'"
   ]
  },
  {
   "cell_type": "code",
   "execution_count": 7,
   "metadata": {},
   "outputs": [],
   "source": [
    "def generator(source_path, folder_list, batch_size):\n",
    "    print( 'Source path = ', source_path, '; batch size =', batch_size)\n",
    "    img_idx = list(range(5,25)) #create a list of image numbers you want to use for a particular video\n",
    "    while True:\n",
    "        t = np.random.permutation(folder_list)\n",
    "        number_of_data_points = len(folder_list)\n",
    "        num_batches = number_of_data_points // batch_size # calculate the number of batches\n",
    "        for batch in range(num_batches):# we iterate over the number of batches\n",
    "            # we are going to use 120*160 size of image\n",
    "            batch_data = np.zeros((batch_size,len(img_idx),120,160,3)) # x is the number of images you use for each video, (y,z) is the final size of the input images and 3 is the number of channels RGB\n",
    "            batch_labels = np.zeros((batch_size,5)) # batch_labels is the one hot representation of the output\n",
    "            for folder in range(batch_size): # iterate over the batch_size\n",
    "                imgs = os.listdir(source_path+'/'+ t[folder + (batch*batch_size)].split(';')[0]) # read all the images in the folder\n",
    "                for idx,item in enumerate(img_idx): #  Iterate iver the frames/images of a folder to read them in\n",
    "                    image = imread(source_path+'/'+ t[folder + (batch*batch_size)].strip().split(';')[0]+'/'+imgs[item]).astype(np.float32)\n",
    "                    \n",
    "                    #crop the images and resize them. Note that the images are of 2 different shape \n",
    "                    #and the conv3D will throw error if the inputs in a batch have different shapes\n",
    "                    image = shape_image(image,120,160)\n",
    "                    \n",
    "                    #normalising the images. As these are natural imgs, divide by 255 will work\n",
    "                    batch_data[folder,idx,:,:,0] = image[:,:,0] / 255 \n",
    "                    batch_data[folder,idx,:,:,1] = image[:,:,1] / 255\n",
    "                    batch_data[folder,idx,:,:,2] = image[:,:,2] / 255\n",
    "                    \n",
    "                batch_labels[folder, int(t[folder + (batch*batch_size)].strip().split(';')[2])] = 1\n",
    "            yield batch_data, batch_labels #you yield the batch_data and the batch_labels, remember what does yield do\n",
    "\n",
    "        \n",
    "        # write the code for the remaining data points which are left after full batches\n",
    "        if number_of_data_points % batch_size == 0:\n",
    "            pass\n",
    "        else:\n",
    "            data_points_remained = number_of_data_points % batch_size\n",
    "            last_datapoint_included = batch_size * num_batches\n",
    "            batch_data = np.zeros((data_points_remained,len(img_idx),120,160,3))\n",
    "            batch_labels = np.zeros((data_points_remained,5))\n",
    "            \n",
    "            for folder in range(data_points_remained):\n",
    "                imgs = os.listdir(source_path+'/'+ t[folder].split(';')[0]) # read all the images in the folder\n",
    "                for idx,item in enumerate(img_idx): #  Iterate iver the frames/images of a folder to read them in\n",
    "                    image = imread(source_path+'/'+ t[folder].strip().split(';')[0]+'/'+imgs[item]).astype(np.float32)\n",
    "                    \n",
    "                    image = shape_image(image,120,160)\n",
    "                    \n",
    "                    batch_data[folder,idx,:,:,0] = image[:,:,0] / 255\n",
    "                    batch_data[folder,idx,:,:,1] = image[:,:,1] / 255\n",
    "                    batch_data[folder,idx,:,:,2] = image[:,:,2] / 255\n",
    "                    \n",
    "                batch_labels[folder, int(t[folder].strip().split(';')[2])] = 1\n",
    "            yield batch_data, batch_labels"
   ]
  },
  {
   "cell_type": "markdown",
   "metadata": {},
   "source": [
    "Note here that a video is represented above in the generator as (number of images, height, width, number of channels). Take this into consideration while creating the model architecture."
   ]
  },
  {
   "cell_type": "code",
   "execution_count": 8,
   "metadata": {},
   "outputs": [
    {
     "name": "stdout",
     "output_type": "stream",
     "text": [
      "# training sequences = 663\n",
      "# validation sequences = 100\n",
      "# epochs = 20\n"
     ]
    }
   ],
   "source": [
    "curr_dt_time = datetime.datetime.now()\n",
    "train_path = 'Project_data/train'\n",
    "val_path = 'Project_data/val'\n",
    "num_train_sequences = len(train_doc)\n",
    "print('# training sequences =', num_train_sequences)\n",
    "num_val_sequences = len(val_doc)\n",
    "print('# validation sequences =', num_val_sequences)\n",
    "num_epochs = 20\n",
    "print ('# epochs =', num_epochs)"
   ]
  },
  {
   "cell_type": "markdown",
   "metadata": {},
   "source": [
    "## Model\n",
    "Here you make the model using different functionalities that Keras provides. Remember to use `Conv3D` and `MaxPooling3D` and not `Conv2D` and `Maxpooling2D` for a 3D convolution model. You would want to use `TimeDistributed` while building a Conv2D + RNN model. Also remember that the last layer is the softmax. Design the network in such a way that the model is able to give good accuracy on the least number of parameters so that it can fit in the memory of the webcam."
   ]
  },
  {
   "cell_type": "code",
   "execution_count": 9,
   "metadata": {},
   "outputs": [],
   "source": [
    "# 20 is the number of images we are taking for each video - 20 (img_idx)\n",
    "# shape of each image is 120*160 and each image has 3 channels\n",
    "sample_shape = (20, 120, 160, 3)"
   ]
  },
  {
   "cell_type": "code",
   "execution_count": 10,
   "metadata": {},
   "outputs": [],
   "source": [
    "from keras.models import Sequential, Model\n",
    "from keras.layers import Dense, GRU, Flatten, TimeDistributed, Flatten, BatchNormalization, Activation,LSTM, Dropout\n",
    "from keras.layers.convolutional import Conv3D, MaxPooling3D,Conv2D,MaxPooling2D\n",
    "from keras.callbacks import ModelCheckpoint, ReduceLROnPlateau\n",
    "from keras import optimizers\n",
    "\n",
    "\n",
    "#write your model here\n",
    "cnn = Sequential()\n",
    "cnn.add(Conv2D(32, kernel_size=(3, 3)))\n",
    "cnn.add(MaxPooling2D(pool_size=(2,2)))\n",
    "cnn.add(BatchNormalization(center=True, scale=True))\n",
    "cnn.add(Conv2D(64, kernel_size=(3, 3)))\n",
    "cnn.add(MaxPooling2D(pool_size=(2,2)))\n",
    "cnn.add(BatchNormalization(center=True, scale=True))\n",
    "cnn.add(Dropout(0.25))\n",
    "cnn.add(Flatten())\n",
    "model = Sequential()\n",
    "model.add(TimeDistributed(cnn,input_shape=sample_shape))\n",
    "model.add(LSTM(128,return_sequences=True,recurrent_dropout=0.25,dropout=0.25))\n",
    "model.add(LSTM(256,return_sequences=True))\n",
    "model.add(LSTM(128))\n",
    "model.add(Dense(5,activation='softmax'))"
   ]
  },
  {
   "cell_type": "markdown",
   "metadata": {},
   "source": [
    "Now that you have written the model, the next step is to `compile` the model. When you print the `summary` of the model, you'll see the total number of parameters you have to train."
   ]
  },
  {
   "cell_type": "code",
   "execution_count": 11,
   "metadata": {
    "scrolled": true
   },
   "outputs": [
    {
     "name": "stdout",
     "output_type": "stream",
     "text": [
      "_________________________________________________________________\n",
      "Layer (type)                 Output Shape              Param #   \n",
      "=================================================================\n",
      "time_distributed_1 (TimeDist (None, 20, 68096)         19776     \n",
      "_________________________________________________________________\n",
      "lstm_1 (LSTM)                (None, 20, 128)           34931200  \n",
      "_________________________________________________________________\n",
      "lstm_2 (LSTM)                (None, 20, 256)           394240    \n",
      "_________________________________________________________________\n",
      "lstm_3 (LSTM)                (None, 128)               197120    \n",
      "_________________________________________________________________\n",
      "dense_1 (Dense)              (None, 5)                 645       \n",
      "=================================================================\n",
      "Total params: 35,542,981\n",
      "Trainable params: 35,542,789\n",
      "Non-trainable params: 192\n",
      "_________________________________________________________________\n",
      "None\n"
     ]
    }
   ],
   "source": [
    "optimiser = optimizers.SGD(lr=0.1)\n",
    "model.compile(optimizer=optimiser, loss='categorical_crossentropy', metrics=['categorical_accuracy'])\n",
    "print (model.summary())"
   ]
  },
  {
   "cell_type": "markdown",
   "metadata": {},
   "source": [
    "Let us create the `train_generator` and the `val_generator` which will be used in `.fit_generator`."
   ]
  },
  {
   "cell_type": "code",
   "execution_count": 12,
   "metadata": {},
   "outputs": [],
   "source": [
    "train_generator = generator(train_path, train_doc, batch_size)\n",
    "val_generator = generator(val_path, val_doc, batch_size)"
   ]
  },
  {
   "cell_type": "code",
   "execution_count": 13,
   "metadata": {},
   "outputs": [],
   "source": [
    "model_name = 'model_init' + '_' + str(curr_dt_time).replace(' ','').replace(':','_') + '/'\n",
    "\n",
    "if not os.path.exists(model_name):\n",
    "    os.mkdir(model_name)\n",
    "        \n",
    "filepath = model_name + 'model-{epoch:05d}-{loss:.5f}-{categorical_accuracy:.5f}-{val_loss:.5f}-{val_categorical_accuracy:.5f}.h5'\n",
    "\n",
    "checkpoint = ModelCheckpoint(filepath, monitor='val_categorical_accuracy', verbose=1, save_best_only=True, save_weights_only=False, mode='auto', period=1)\n",
    "\n",
    "# write the REducelronplateau code here\n",
    "LR = ReduceLROnPlateau(monitor='val_loss', factor=0.2,patience=3, min_lr=0.00001) \n",
    "callbacks_list = [checkpoint, LR]"
   ]
  },
  {
   "cell_type": "markdown",
   "metadata": {},
   "source": [
    "The `steps_per_epoch` and `validation_steps` are used by `fit_generator` to decide the number of next() calls it need to make."
   ]
  },
  {
   "cell_type": "code",
   "execution_count": 14,
   "metadata": {},
   "outputs": [],
   "source": [
    "if (num_train_sequences%batch_size) == 0:\n",
    "    steps_per_epoch = int(num_train_sequences/batch_size)\n",
    "else:\n",
    "    steps_per_epoch = (num_train_sequences//batch_size) + 1\n",
    "\n",
    "if (num_val_sequences%batch_size) == 0:\n",
    "    validation_steps = int(num_val_sequences/batch_size)\n",
    "else:\n",
    "    validation_steps = (num_val_sequences//batch_size) + 1"
   ]
  },
  {
   "cell_type": "markdown",
   "metadata": {},
   "source": [
    "Let us now fit the model. This will start training the model and with the help of the checkpoints, you'll be able to save the model at the end of each epoch."
   ]
  },
  {
   "cell_type": "code",
   "execution_count": 15,
   "metadata": {},
   "outputs": [
    {
     "name": "stdout",
     "output_type": "stream",
     "text": [
      "Source path =  Project_data/val ; batch size = 50\n",
      "Source path =  Project_data/train ; batch size = 50\n",
      "Epoch 1/20\n",
      " - 131s - loss: 1.4196 - categorical_accuracy: 0.4171 - val_loss: 1.5636 - val_categorical_accuracy: 0.3400\n",
      "\n",
      "Epoch 00001: val_categorical_accuracy improved from -inf to 0.34000, saving model to model_init_2020-11-3008_25_35.186016/model-00001-1.42348-0.41478-1.56363-0.34000.h5\n",
      "Epoch 2/20\n",
      " - 50s - loss: 1.0881 - categorical_accuracy: 0.5843 - val_loss: 1.9631 - val_categorical_accuracy: 0.3300\n",
      "\n",
      "Epoch 00002: val_categorical_accuracy did not improve from 0.34000\n",
      "Epoch 3/20\n",
      " - 49s - loss: 1.0445 - categorical_accuracy: 0.6029 - val_loss: 1.2639 - val_categorical_accuracy: 0.5300\n",
      "\n",
      "Epoch 00003: val_categorical_accuracy improved from 0.34000 to 0.53000, saving model to model_init_2020-11-3008_25_35.186016/model-00003-1.05742-0.59427-1.26391-0.53000.h5\n",
      "Epoch 4/20\n",
      " - 47s - loss: 0.6999 - categorical_accuracy: 0.7587 - val_loss: 1.4692 - val_categorical_accuracy: 0.4600\n",
      "\n",
      "Epoch 00004: val_categorical_accuracy did not improve from 0.53000\n",
      "Epoch 5/20\n",
      " - 49s - loss: 0.4642 - categorical_accuracy: 0.8666 - val_loss: 1.8265 - val_categorical_accuracy: 0.3700\n",
      "\n",
      "Epoch 00005: val_categorical_accuracy did not improve from 0.53000\n",
      "Epoch 6/20\n",
      " - 50s - loss: 0.5055 - categorical_accuracy: 0.8261 - val_loss: 1.8489 - val_categorical_accuracy: 0.3500\n",
      "\n",
      "Epoch 00006: val_categorical_accuracy did not improve from 0.53000\n",
      "Epoch 7/20\n",
      " - 50s - loss: 0.3159 - categorical_accuracy: 0.9183 - val_loss: 1.5058 - val_categorical_accuracy: 0.5100\n",
      "\n",
      "Epoch 00007: val_categorical_accuracy did not improve from 0.53000\n",
      "Epoch 8/20\n",
      " - 60s - loss: 0.1295 - categorical_accuracy: 0.9871 - val_loss: 1.3766 - val_categorical_accuracy: 0.5400\n",
      "\n",
      "Epoch 00008: val_categorical_accuracy improved from 0.53000 to 0.54000, saving model to model_init_2020-11-3008_25_35.186016/model-00008-0.13196-0.98643-1.37659-0.54000.h5\n",
      "Epoch 9/20\n",
      " - 48s - loss: 0.0870 - categorical_accuracy: 0.9986 - val_loss: 1.3991 - val_categorical_accuracy: 0.5800\n",
      "\n",
      "Epoch 00009: val_categorical_accuracy improved from 0.54000 to 0.58000, saving model to model_init_2020-11-3008_25_35.186016/model-00009-0.08745-0.99849-1.39911-0.58000.h5\n",
      "Epoch 10/20\n",
      " - 44s - loss: 0.0664 - categorical_accuracy: 1.0000 - val_loss: 1.3016 - val_categorical_accuracy: 0.6000\n",
      "\n",
      "Epoch 00010: val_categorical_accuracy improved from 0.58000 to 0.60000, saving model to model_init_2020-11-3008_25_35.186016/model-00010-0.06693-1.00000-1.30160-0.60000.h5\n",
      "Epoch 11/20\n",
      " - 44s - loss: 0.0625 - categorical_accuracy: 1.0000 - val_loss: 1.2756 - val_categorical_accuracy: 0.6100\n",
      "\n",
      "Epoch 00011: val_categorical_accuracy improved from 0.60000 to 0.61000, saving model to model_init_2020-11-3008_25_35.186016/model-00011-0.06337-1.00000-1.27555-0.61000.h5\n",
      "Epoch 12/20\n",
      " - 44s - loss: 0.0585 - categorical_accuracy: 1.0000 - val_loss: 1.2511 - val_categorical_accuracy: 0.6100\n",
      "\n",
      "Epoch 00012: val_categorical_accuracy did not improve from 0.61000\n",
      "Epoch 13/20\n",
      " - 44s - loss: 0.0597 - categorical_accuracy: 1.0000 - val_loss: 1.2287 - val_categorical_accuracy: 0.6200\n",
      "\n",
      "Epoch 00013: val_categorical_accuracy improved from 0.61000 to 0.62000, saving model to model_init_2020-11-3008_25_35.186016/model-00013-0.05882-1.00000-1.22867-0.62000.h5\n",
      "Epoch 14/20\n",
      " - 44s - loss: 0.0559 - categorical_accuracy: 1.0000 - val_loss: 1.2100 - val_categorical_accuracy: 0.6200\n",
      "\n",
      "Epoch 00014: val_categorical_accuracy did not improve from 0.62000\n",
      "Epoch 15/20\n",
      " - 44s - loss: 0.0532 - categorical_accuracy: 1.0000 - val_loss: 1.1903 - val_categorical_accuracy: 0.6400\n",
      "\n",
      "Epoch 00015: val_categorical_accuracy improved from 0.62000 to 0.64000, saving model to model_init_2020-11-3008_25_35.186016/model-00015-0.05300-1.00000-1.19032-0.64000.h5\n",
      "Epoch 16/20\n",
      " - 44s - loss: 0.0510 - categorical_accuracy: 1.0000 - val_loss: 1.1901 - val_categorical_accuracy: 0.6400\n",
      "\n",
      "Epoch 00016: val_categorical_accuracy did not improve from 0.64000\n",
      "Epoch 17/20\n",
      " - 44s - loss: 0.0517 - categorical_accuracy: 1.0000 - val_loss: 1.1679 - val_categorical_accuracy: 0.6400\n",
      "\n",
      "Epoch 00017: val_categorical_accuracy did not improve from 0.64000\n",
      "Epoch 18/20\n",
      " - 44s - loss: 0.0476 - categorical_accuracy: 1.0000 - val_loss: 1.1586 - val_categorical_accuracy: 0.6500\n",
      "\n",
      "Epoch 00018: val_categorical_accuracy improved from 0.64000 to 0.65000, saving model to model_init_2020-11-3008_25_35.186016/model-00018-0.04753-1.00000-1.15857-0.65000.h5\n",
      "Epoch 19/20\n",
      " - 44s - loss: 0.0482 - categorical_accuracy: 1.0000 - val_loss: 1.1435 - val_categorical_accuracy: 0.6500\n",
      "\n",
      "Epoch 00019: val_categorical_accuracy did not improve from 0.65000\n",
      "Epoch 20/20\n",
      " - 44s - loss: 0.0454 - categorical_accuracy: 1.0000 - val_loss: 1.1469 - val_categorical_accuracy: 0.6600\n",
      "\n",
      "Epoch 00020: val_categorical_accuracy improved from 0.65000 to 0.66000, saving model to model_init_2020-11-3008_25_35.186016/model-00020-0.04522-1.00000-1.14685-0.66000.h5\n"
     ]
    },
    {
     "data": {
      "text/plain": [
       "<keras.callbacks.History at 0x7ff19602deb8>"
      ]
     },
     "execution_count": 15,
     "metadata": {},
     "output_type": "execute_result"
    }
   ],
   "source": [
    "model.fit_generator(train_generator, steps_per_epoch=steps_per_epoch, epochs=num_epochs, verbose=2, \n",
    "                    callbacks=callbacks_list, validation_data=val_generator, \n",
    "                    validation_steps=validation_steps, class_weight=None, workers=1, initial_epoch=0)"
   ]
  },
  {
   "cell_type": "code",
   "execution_count": 16,
   "metadata": {},
   "outputs": [],
   "source": [
    "import matplotlib.pyplot as plt"
   ]
  },
  {
   "cell_type": "code",
   "execution_count": 17,
   "metadata": {},
   "outputs": [
    {
     "data": {
      "image/png": "[encoded data removed]",
      "text/plain": [
       "<Figure size 432x288 with 1 Axes>"
      ]
     },
     "metadata": {},
     "output_type": "display_data"
    }
   ],
   "source": [
    "plt.plot(model.history.history['val_categorical_accuracy'],label='val_categorical_accuracy')\n",
    "plt.plot(model.history.history['categorical_accuracy'],label='categorical_accuracy')\n",
    "plt.plot(model.history.history['val_loss'],label='val_loss')\n",
    "plt.plot(model.history.history['loss'],label='loss')\n",
    "plt.xlabel('epochs')\n",
    "plt.legend(loc='best')\n",
    "plt.show()"
   ]
  },
  {
   "cell_type": "code",
   "execution_count": null,
   "metadata": {},
   "outputs": [],
   "source": []
  }
 ],
 "metadata": {
  "kernelspec": {
   "display_name": "Python 3",
   "language": "python",
   "name": "python3"
  },
  "language_info": {
   "codemirror_mode": {
    "name": "ipython",
    "version": 3
   },
   "file_extension": ".py",
   "mimetype": "text/x-python",
   "name": "python",
   "nbconvert_exporter": "python",
   "pygments_lexer": "ipython3",
   "version": "3.6.8"
  }
 },
 "nbformat": 4,
 "nbformat_minor": 2
}
